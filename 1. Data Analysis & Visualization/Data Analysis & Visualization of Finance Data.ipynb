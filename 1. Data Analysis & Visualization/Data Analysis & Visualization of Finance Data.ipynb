{
 "cells": [
  {
   "cell_type": "markdown",
   "metadata": {},
   "source": [
    "# Data Analysis & Visualisation of Stock Data"
   ]
  },
  {
   "cell_type": "markdown",
   "metadata": {},
   "source": [
    "* Project Scope: Analyze and visualize Stock data using python libraries\n",
    "* Data source: Yahoo finance using pandas datareader\n",
    "* Data: Using pandas datareader, we will get stock information for the following banks\n",
    "            * Bank of America\n",
    "            * CitiGroup\n",
    "            * Goldman Sachs\n",
    "            * JPMorgan Chase\n",
    "            * Morgan Stanley\n",
    "            * Wells Fargo\n"
   ]
  },
  {
   "cell_type": "markdown",
   "metadata": {},
   "source": [
    "## Import libraries"
   ]
  },
  {
   "cell_type": "code",
   "execution_count": null,
   "metadata": {},
   "outputs": [],
   "source": [
    "# First things first: \n",
    "## Install pandas datareader by using this \"pip install pandas-datareader\" in python command line\n",
    "\n",
    "# Import Data Analysis libraries\n",
    "from pandas_datareader import data, wb\n",
    "import datetime\n",
    "import numpy as np\n",
    "import pandas as pd\n",
    "\n",
    "# Import Data Visualisation libraries\n",
    "import matplotlib.pyplot as plt\n",
    "import seaborn as sns\n",
    "import cufflinks as cf\n",
    "cf.go_offline()\n",
    "\n",
    "# For display in notebook\n",
    "%matplotlib inline"
   ]
  },
  {
   "cell_type": "markdown",
   "metadata": {},
   "source": [
    "## Load data"
   ]
  },
  {
   "cell_type": "markdown",
   "metadata": {},
   "source": [
    "Idea is to get stock data from Jan 1st 2006 to Jan 1st 2016 for each of the above banks, set each bank to be a separate dataframe, with the variable name for that bank being its ticker symbol. Steps to get data\n",
    "    * first use datetime to set start and end datetime objects\n",
    "    * Use datareader to get information on the stock from yahoo"
   ]
  },
  {
   "cell_type": "code",
   "execution_count": 80,
   "metadata": {},
   "outputs": [],
   "source": [
    "# start and end date time objects\n",
    "start = datetime.datetime(2006, 1, 1)\n",
    "end = datetime.datetime(2016, 1, 1)"
   ]
  },
  {
   "cell_type": "code",
   "execution_count": 81,
   "metadata": {},
   "outputs": [],
   "source": [
    "# datareader to get info\n",
    "# Bank of America\n",
    "BAC = data.DataReader(\"BAC\", 'yahoo', start, end)\n",
    "\n",
    "# CitiGroup\n",
    "C = data.DataReader(\"C\", 'yahoo', start, end)\n",
    "\n",
    "# Goldman Sachs\n",
    "GS = data.DataReader(\"GS\", 'yahoo', start, end)\n",
    "\n",
    "# JPMorgan Chase\n",
    "JPM = data.DataReader(\"JPM\", 'yahoo', start, end)\n",
    "\n",
    "# Morgan Stanley\n",
    "MS = data.DataReader(\"MS\", 'yahoo', start, end)\n",
    "\n",
    "# Wells Fargo\n",
    "WFC = data.DataReader(\"WFC\", 'yahoo', start, end)"
   ]
  },
  {
   "cell_type": "markdown",
   "metadata": {},
   "source": [
    "** Lets view BAC info.. **"
   ]
  },
  {
   "cell_type": "code",
   "execution_count": 86,
   "metadata": {},
   "outputs": [
    {
     "data": {
      "text/html": [
       "<div>\n",
       "<style>\n",
       "    .dataframe thead tr:only-child th {\n",
       "        text-align: right;\n",
       "    }\n",
       "\n",
       "    .dataframe thead th {\n",
       "        text-align: left;\n",
       "    }\n",
       "\n",
       "    .dataframe tbody tr th {\n",
       "        vertical-align: top;\n",
       "    }\n",
       "</style>\n",
       "<table border=\"1\" class=\"dataframe\">\n",
       "  <thead>\n",
       "    <tr style=\"text-align: right;\">\n",
       "      <th></th>\n",
       "      <th>High</th>\n",
       "      <th>Low</th>\n",
       "      <th>Open</th>\n",
       "      <th>Close</th>\n",
       "      <th>Volume</th>\n",
       "      <th>Adj Close</th>\n",
       "    </tr>\n",
       "    <tr>\n",
       "      <th>Date</th>\n",
       "      <th></th>\n",
       "      <th></th>\n",
       "      <th></th>\n",
       "      <th></th>\n",
       "      <th></th>\n",
       "      <th></th>\n",
       "    </tr>\n",
       "  </thead>\n",
       "  <tbody>\n",
       "    <tr>\n",
       "      <th>2006-01-03</th>\n",
       "      <td>47.180000</td>\n",
       "      <td>46.150002</td>\n",
       "      <td>46.919998</td>\n",
       "      <td>47.080002</td>\n",
       "      <td>16296700.0</td>\n",
       "      <td>36.535149</td>\n",
       "    </tr>\n",
       "    <tr>\n",
       "      <th>2006-01-04</th>\n",
       "      <td>47.240002</td>\n",
       "      <td>46.450001</td>\n",
       "      <td>47.000000</td>\n",
       "      <td>46.580002</td>\n",
       "      <td>17757900.0</td>\n",
       "      <td>36.147141</td>\n",
       "    </tr>\n",
       "    <tr>\n",
       "      <th>2006-01-05</th>\n",
       "      <td>46.830002</td>\n",
       "      <td>46.320000</td>\n",
       "      <td>46.580002</td>\n",
       "      <td>46.639999</td>\n",
       "      <td>14970700.0</td>\n",
       "      <td>36.193695</td>\n",
       "    </tr>\n",
       "    <tr>\n",
       "      <th>2006-01-06</th>\n",
       "      <td>46.910000</td>\n",
       "      <td>46.349998</td>\n",
       "      <td>46.799999</td>\n",
       "      <td>46.570000</td>\n",
       "      <td>12599800.0</td>\n",
       "      <td>36.139370</td>\n",
       "    </tr>\n",
       "    <tr>\n",
       "      <th>2006-01-09</th>\n",
       "      <td>46.970001</td>\n",
       "      <td>46.360001</td>\n",
       "      <td>46.720001</td>\n",
       "      <td>46.599998</td>\n",
       "      <td>15619400.0</td>\n",
       "      <td>36.162647</td>\n",
       "    </tr>\n",
       "  </tbody>\n",
       "</table>\n",
       "</div>"
      ],
      "text/plain": [
       "                 High        Low       Open      Close      Volume  Adj Close\n",
       "Date                                                                         \n",
       "2006-01-03  47.180000  46.150002  46.919998  47.080002  16296700.0  36.535149\n",
       "2006-01-04  47.240002  46.450001  47.000000  46.580002  17757900.0  36.147141\n",
       "2006-01-05  46.830002  46.320000  46.580002  46.639999  14970700.0  36.193695\n",
       "2006-01-06  46.910000  46.349998  46.799999  46.570000  12599800.0  36.139370\n",
       "2006-01-09  46.970001  46.360001  46.720001  46.599998  15619400.0  36.162647"
      ]
     },
     "execution_count": 86,
     "metadata": {},
     "output_type": "execute_result"
    }
   ],
   "source": [
    "BAC.head()"
   ]
  },
  {
   "cell_type": "markdown",
   "metadata": {},
   "source": [
    "can get data like this also\n",
    "\n",
    "df = data.DataReader(['BAC', 'C', 'GS', 'JPM', 'MS', 'WFC'],'yahoo', start, end)"
   ]
  },
  {
   "cell_type": "code",
   "execution_count": 82,
   "metadata": {
    "collapsed": true
   },
   "outputs": [],
   "source": [
    "# ticker symbols in alphabetical order\n",
    "tickers = ['BAC', 'C', 'GS', 'JPM', 'MS', 'WFC']"
   ]
  },
  {
   "cell_type": "code",
   "execution_count": 83,
   "metadata": {
    "collapsed": true
   },
   "outputs": [],
   "source": [
    "bank_stocks = pd.concat([BAC, C, GS, JPM, MS, WFC],axis=1,keys=tickers)"
   ]
  },
  {
   "cell_type": "code",
   "execution_count": 84,
   "metadata": {},
   "outputs": [],
   "source": [
    "bank_stocks.columns.names = ['Bank Ticker','Stock Info']"
   ]
  },
  {
   "cell_type": "markdown",
   "metadata": {},
   "source": [
    "** Lets view bank_stocks dataFrame **"
   ]
  },
  {
   "cell_type": "code",
   "execution_count": 85,
   "metadata": {},
   "outputs": [
    {
     "data": {
      "text/html": [
       "<div>\n",
       "<style>\n",
       "    .dataframe thead tr:only-child th {\n",
       "        text-align: right;\n",
       "    }\n",
       "\n",
       "    .dataframe thead th {\n",
       "        text-align: left;\n",
       "    }\n",
       "\n",
       "    .dataframe tbody tr th {\n",
       "        vertical-align: top;\n",
       "    }\n",
       "</style>\n",
       "<table border=\"1\" class=\"dataframe\">\n",
       "  <thead>\n",
       "    <tr>\n",
       "      <th>Bank Ticker</th>\n",
       "      <th colspan=\"6\" halign=\"left\">BAC</th>\n",
       "      <th colspan=\"4\" halign=\"left\">C</th>\n",
       "      <th>...</th>\n",
       "      <th colspan=\"4\" halign=\"left\">MS</th>\n",
       "      <th colspan=\"6\" halign=\"left\">WFC</th>\n",
       "    </tr>\n",
       "    <tr>\n",
       "      <th>Stock Info</th>\n",
       "      <th>High</th>\n",
       "      <th>Low</th>\n",
       "      <th>Open</th>\n",
       "      <th>Close</th>\n",
       "      <th>Volume</th>\n",
       "      <th>Adj Close</th>\n",
       "      <th>High</th>\n",
       "      <th>Low</th>\n",
       "      <th>Open</th>\n",
       "      <th>Close</th>\n",
       "      <th>...</th>\n",
       "      <th>Open</th>\n",
       "      <th>Close</th>\n",
       "      <th>Volume</th>\n",
       "      <th>Adj Close</th>\n",
       "      <th>High</th>\n",
       "      <th>Low</th>\n",
       "      <th>Open</th>\n",
       "      <th>Close</th>\n",
       "      <th>Volume</th>\n",
       "      <th>Adj Close</th>\n",
       "    </tr>\n",
       "    <tr>\n",
       "      <th>Date</th>\n",
       "      <th></th>\n",
       "      <th></th>\n",
       "      <th></th>\n",
       "      <th></th>\n",
       "      <th></th>\n",
       "      <th></th>\n",
       "      <th></th>\n",
       "      <th></th>\n",
       "      <th></th>\n",
       "      <th></th>\n",
       "      <th></th>\n",
       "      <th></th>\n",
       "      <th></th>\n",
       "      <th></th>\n",
       "      <th></th>\n",
       "      <th></th>\n",
       "      <th></th>\n",
       "      <th></th>\n",
       "      <th></th>\n",
       "      <th></th>\n",
       "      <th></th>\n",
       "    </tr>\n",
       "  </thead>\n",
       "  <tbody>\n",
       "    <tr>\n",
       "      <th>2006-01-03</th>\n",
       "      <td>47.180000</td>\n",
       "      <td>46.150002</td>\n",
       "      <td>46.919998</td>\n",
       "      <td>47.080002</td>\n",
       "      <td>16296700.0</td>\n",
       "      <td>36.535149</td>\n",
       "      <td>493.799988</td>\n",
       "      <td>481.100006</td>\n",
       "      <td>490.000000</td>\n",
       "      <td>492.899994</td>\n",
       "      <td>...</td>\n",
       "      <td>57.169998</td>\n",
       "      <td>58.310001</td>\n",
       "      <td>5377000.0</td>\n",
       "      <td>39.379498</td>\n",
       "      <td>31.975000</td>\n",
       "      <td>31.195000</td>\n",
       "      <td>31.600000</td>\n",
       "      <td>31.900000</td>\n",
       "      <td>11016400.0</td>\n",
       "      <td>22.067434</td>\n",
       "    </tr>\n",
       "    <tr>\n",
       "      <th>2006-01-04</th>\n",
       "      <td>47.240002</td>\n",
       "      <td>46.450001</td>\n",
       "      <td>47.000000</td>\n",
       "      <td>46.580002</td>\n",
       "      <td>17757900.0</td>\n",
       "      <td>36.147141</td>\n",
       "      <td>491.000000</td>\n",
       "      <td>483.500000</td>\n",
       "      <td>488.600006</td>\n",
       "      <td>483.799988</td>\n",
       "      <td>...</td>\n",
       "      <td>58.700001</td>\n",
       "      <td>58.349998</td>\n",
       "      <td>7977800.0</td>\n",
       "      <td>39.406509</td>\n",
       "      <td>31.820000</td>\n",
       "      <td>31.365000</td>\n",
       "      <td>31.799999</td>\n",
       "      <td>31.530001</td>\n",
       "      <td>10870000.0</td>\n",
       "      <td>21.811476</td>\n",
       "    </tr>\n",
       "    <tr>\n",
       "      <th>2006-01-05</th>\n",
       "      <td>46.830002</td>\n",
       "      <td>46.320000</td>\n",
       "      <td>46.580002</td>\n",
       "      <td>46.639999</td>\n",
       "      <td>14970700.0</td>\n",
       "      <td>36.193695</td>\n",
       "      <td>487.799988</td>\n",
       "      <td>484.000000</td>\n",
       "      <td>484.399994</td>\n",
       "      <td>486.200012</td>\n",
       "      <td>...</td>\n",
       "      <td>58.549999</td>\n",
       "      <td>58.509998</td>\n",
       "      <td>5778000.0</td>\n",
       "      <td>39.514561</td>\n",
       "      <td>31.555000</td>\n",
       "      <td>31.309999</td>\n",
       "      <td>31.500000</td>\n",
       "      <td>31.495001</td>\n",
       "      <td>10158000.0</td>\n",
       "      <td>21.787266</td>\n",
       "    </tr>\n",
       "    <tr>\n",
       "      <th>2006-01-06</th>\n",
       "      <td>46.910000</td>\n",
       "      <td>46.349998</td>\n",
       "      <td>46.799999</td>\n",
       "      <td>46.570000</td>\n",
       "      <td>12599800.0</td>\n",
       "      <td>36.139370</td>\n",
       "      <td>489.000000</td>\n",
       "      <td>482.000000</td>\n",
       "      <td>488.799988</td>\n",
       "      <td>486.200012</td>\n",
       "      <td>...</td>\n",
       "      <td>58.770000</td>\n",
       "      <td>58.570000</td>\n",
       "      <td>6889800.0</td>\n",
       "      <td>39.555077</td>\n",
       "      <td>31.775000</td>\n",
       "      <td>31.385000</td>\n",
       "      <td>31.580000</td>\n",
       "      <td>31.680000</td>\n",
       "      <td>8403800.0</td>\n",
       "      <td>21.915241</td>\n",
       "    </tr>\n",
       "    <tr>\n",
       "      <th>2006-01-09</th>\n",
       "      <td>46.970001</td>\n",
       "      <td>46.360001</td>\n",
       "      <td>46.720001</td>\n",
       "      <td>46.599998</td>\n",
       "      <td>15619400.0</td>\n",
       "      <td>36.162647</td>\n",
       "      <td>487.399994</td>\n",
       "      <td>483.000000</td>\n",
       "      <td>486.000000</td>\n",
       "      <td>483.899994</td>\n",
       "      <td>...</td>\n",
       "      <td>58.630001</td>\n",
       "      <td>59.189999</td>\n",
       "      <td>4144500.0</td>\n",
       "      <td>39.973793</td>\n",
       "      <td>31.825001</td>\n",
       "      <td>31.555000</td>\n",
       "      <td>31.674999</td>\n",
       "      <td>31.674999</td>\n",
       "      <td>5619600.0</td>\n",
       "      <td>21.911785</td>\n",
       "    </tr>\n",
       "  </tbody>\n",
       "</table>\n",
       "<p>5 rows × 36 columns</p>\n",
       "</div>"
      ],
      "text/plain": [
       "Bank Ticker        BAC                                               \\\n",
       "Stock Info        High        Low       Open      Close      Volume   \n",
       "Date                                                                  \n",
       "2006-01-03   47.180000  46.150002  46.919998  47.080002  16296700.0   \n",
       "2006-01-04   47.240002  46.450001  47.000000  46.580002  17757900.0   \n",
       "2006-01-05   46.830002  46.320000  46.580002  46.639999  14970700.0   \n",
       "2006-01-06   46.910000  46.349998  46.799999  46.570000  12599800.0   \n",
       "2006-01-09   46.970001  46.360001  46.720001  46.599998  15619400.0   \n",
       "\n",
       "Bank Ticker                      C                                      \\\n",
       "Stock Info   Adj Close        High         Low        Open       Close   \n",
       "Date                                                                     \n",
       "2006-01-03   36.535149  493.799988  481.100006  490.000000  492.899994   \n",
       "2006-01-04   36.147141  491.000000  483.500000  488.600006  483.799988   \n",
       "2006-01-05   36.193695  487.799988  484.000000  484.399994  486.200012   \n",
       "2006-01-06   36.139370  489.000000  482.000000  488.799988  486.200012   \n",
       "2006-01-09   36.162647  487.399994  483.000000  486.000000  483.899994   \n",
       "\n",
       "Bank Ticker    ...             MS                                         WFC  \\\n",
       "Stock Info     ...           Open      Close     Volume  Adj Close       High   \n",
       "Date           ...                                                              \n",
       "2006-01-03     ...      57.169998  58.310001  5377000.0  39.379498  31.975000   \n",
       "2006-01-04     ...      58.700001  58.349998  7977800.0  39.406509  31.820000   \n",
       "2006-01-05     ...      58.549999  58.509998  5778000.0  39.514561  31.555000   \n",
       "2006-01-06     ...      58.770000  58.570000  6889800.0  39.555077  31.775000   \n",
       "2006-01-09     ...      58.630001  59.189999  4144500.0  39.973793  31.825001   \n",
       "\n",
       "Bank Ticker                                                          \n",
       "Stock Info         Low       Open      Close      Volume  Adj Close  \n",
       "Date                                                                 \n",
       "2006-01-03   31.195000  31.600000  31.900000  11016400.0  22.067434  \n",
       "2006-01-04   31.365000  31.799999  31.530001  10870000.0  21.811476  \n",
       "2006-01-05   31.309999  31.500000  31.495001  10158000.0  21.787266  \n",
       "2006-01-06   31.385000  31.580000  31.680000   8403800.0  21.915241  \n",
       "2006-01-09   31.555000  31.674999  31.674999   5619600.0  21.911785  \n",
       "\n",
       "[5 rows x 36 columns]"
      ]
     },
     "execution_count": 85,
     "metadata": {},
     "output_type": "execute_result"
    }
   ],
   "source": [
    "bank_stocks.head()"
   ]
  },
  {
   "cell_type": "markdown",
   "metadata": {},
   "source": [
    "## Let's analyze and visualize data"
   ]
  },
  {
   "cell_type": "markdown",
   "metadata": {},
   "source": [
    "** 1.Max Close price for each stock throughout the time period **"
   ]
  },
  {
   "cell_type": "code",
   "execution_count": 67,
   "metadata": {},
   "outputs": [
    {
     "data": {
      "text/plain": [
       "Bank Ticker\n",
       "BAC     54.900002\n",
       "C      564.099976\n",
       "GS     247.919998\n",
       "JPM     70.080002\n",
       "MS      89.300003\n",
       "WFC     58.520000\n",
       "dtype: float64"
      ]
     },
     "execution_count": 67,
     "metadata": {},
     "output_type": "execute_result"
    }
   ],
   "source": [
    "bank_stocks.xs(key='Close',axis=1,level='Stock Info').max()"
   ]
  },
  {
   "cell_type": "markdown",
   "metadata": {},
   "source": [
    "** 2. Need to continue this analysis... **"
   ]
  },
  {
   "cell_type": "code",
   "execution_count": null,
   "metadata": {
    "collapsed": true
   },
   "outputs": [],
   "source": []
  },
  {
   "cell_type": "code",
   "execution_count": null,
   "metadata": {
    "collapsed": true
   },
   "outputs": [],
   "source": []
  },
  {
   "cell_type": "code",
   "execution_count": null,
   "metadata": {
    "collapsed": true
   },
   "outputs": [],
   "source": []
  },
  {
   "cell_type": "code",
   "execution_count": null,
   "metadata": {
    "collapsed": true
   },
   "outputs": [],
   "source": []
  },
  {
   "cell_type": "code",
   "execution_count": null,
   "metadata": {
    "collapsed": true
   },
   "outputs": [],
   "source": []
  },
  {
   "cell_type": "code",
   "execution_count": null,
   "metadata": {
    "collapsed": true
   },
   "outputs": [],
   "source": []
  },
  {
   "cell_type": "code",
   "execution_count": null,
   "metadata": {
    "collapsed": true
   },
   "outputs": [],
   "source": []
  },
  {
   "cell_type": "code",
   "execution_count": null,
   "metadata": {
    "collapsed": true
   },
   "outputs": [],
   "source": []
  },
  {
   "cell_type": "markdown",
   "metadata": {
    "collapsed": true
   },
   "source": [
    "## Things to note after analysis"
   ]
  },
  {
   "cell_type": "markdown",
   "metadata": {
    "collapsed": true
   },
   "source": [
    "After analysing and visualizing data, hear are the things we know"
   ]
  }
 ],
 "metadata": {
  "kernelspec": {
   "display_name": "Python 3",
   "language": "python",
   "name": "python3"
  },
  "language_info": {
   "codemirror_mode": {
    "name": "ipython",
    "version": 3
   },
   "file_extension": ".py",
   "mimetype": "text/x-python",
   "name": "python",
   "nbconvert_exporter": "python",
   "pygments_lexer": "ipython3",
   "version": "3.6.1"
  }
 },
 "nbformat": 4,
 "nbformat_minor": 2
}
