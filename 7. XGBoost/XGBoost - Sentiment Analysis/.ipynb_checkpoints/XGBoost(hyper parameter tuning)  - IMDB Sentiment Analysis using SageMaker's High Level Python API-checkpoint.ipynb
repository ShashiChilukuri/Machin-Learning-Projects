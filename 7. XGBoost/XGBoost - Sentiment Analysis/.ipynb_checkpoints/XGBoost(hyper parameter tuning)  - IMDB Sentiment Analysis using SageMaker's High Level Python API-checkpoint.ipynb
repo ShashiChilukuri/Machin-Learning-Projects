{
 "cells": [
  {
   "cell_type": "markdown",
   "metadata": {},
   "source": [
    "## XGBoost  (hyper parameter tuning)- IMDB Sentiment Analysis using SageMaker's High Level Python API\n",
    "* Project: To predict the sentiment of a movie review using XGBoost Model, in SageMaker, using High Level Python API\n",
    "* Dataset:[IMDb dataset](http://ai.stanford.edu/~amaas/data/sentiment/). It consists of movie reviews from the website [imdb.com](http://www.imdb.com/), each labeled as either '**pos**itive', if the reviewer enjoyed the film, or '**neg**ative' otherwise.\n",
    "\n",
    "> Maas, Andrew L., et al. [Learning Word Vectors for Sentiment Analysis](http://ai.stanford.edu/~amaas/data/sentiment/). In _Proceedings of the 49th Annual Meeting of the Association for Computational Linguistics: Human Language Technologies_. Association for Computational Linguistics, 2011.\n",
    "\n",
    "* Documentation: [High level API documentation](http://sagemaker.readthedocs.io/en/latest/)\n",
    "* Author: Shashi Kiran Chilukuri\n",
    "---"
   ]
  },
  {
   "cell_type": "markdown",
   "metadata": {},
   "source": [
    "## Step 1: Importing Python libraries, modules & sagemaker objects"
   ]
  },
  {
   "cell_type": "code",
   "execution_count": 1,
   "metadata": {
    "collapsed": true
   },
   "outputs": [],
   "source": [
    "import os\n",
    "import numpy as np\n",
    "import pandas as pd\n",
    "import matplotlib.pyplot as plt\n",
    "from sklearn.datasets import load_boston\n",
    "import sklearn.model_selection\n",
    "\n",
    "%matplotlib inline\n",
    "\n",
    "# Importing Sagemaker objects\n",
    "import sagemaker\n",
    "from sagemaker import get_execution_role\n",
    "from sagemaker.amazon.amazon_estimator import get_image_uri\n",
    "from sagemaker.predictor import csv_serializer\n",
    "\n",
    "# Session gives currently operating session details\n",
    "session = sagemaker.Session()\n",
    "\n",
    "# role gives 'IAM role' that we are currently assigned. This will be useful constructing\n",
    "# and launching the training job\n",
    "role = get_execution_role()"
   ]
  },
  {
   "cell_type": "markdown",
   "metadata": {},
   "source": [
    "## Step 2: Downloading the data"
   ]
  },
  {
   "cell_type": "code",
   "execution_count": 2,
   "metadata": {},
   "outputs": [
    {
     "name": "stdout",
     "output_type": "stream",
     "text": [
      "mkdir: cannot create directory ‘../data’: File exists\n",
      "--2019-01-25 22:27:17--  http://ai.stanford.edu/~amaas/data/sentiment/aclImdb_v1.tar.gz\n",
      "Resolving ai.stanford.edu (ai.stanford.edu)... 171.64.68.10\n",
      "Connecting to ai.stanford.edu (ai.stanford.edu)|171.64.68.10|:80... connected.\n",
      "HTTP request sent, awaiting response... 200 OK\n",
      "Length: 84125825 (80M) [application/x-gzip]\n",
      "Saving to: ‘../data/aclImdb_v1.tar.gz’\n",
      "\n",
      "../data/aclImdb_v1. 100%[===================>]  80.23M  24.6MB/s    in 3.8s    \n",
      "\n",
      "2019-01-25 22:27:21 (21.3 MB/s) - ‘../data/aclImdb_v1.tar.gz’ saved [84125825/84125825]\n",
      "\n"
     ]
    }
   ],
   "source": [
    "%mkdir ../data\n",
    "!wget -O ../data/aclImdb_v1.tar.gz http://ai.stanford.edu/~amaas/data/sentiment/aclImdb_v1.tar.gz\n",
    "!tar -zxf ../data/aclImdb_v1.tar.gz -C ../data"
   ]
  },
  {
   "cell_type": "markdown",
   "metadata": {},
   "source": [
    "## Step 3: Preparing and splitting the data\n",
    "\n",
    "The data we have downloaded is split into various files, each of which contains a single review. It will be much easier going forward if we combine these individual files into two large files, one for training and one for testing."
   ]
  },
  {
   "cell_type": "code",
   "execution_count": 3,
   "metadata": {
    "collapsed": true
   },
   "outputs": [],
   "source": [
    "import os\n",
    "import glob\n",
    "\n",
    "def read_imdb_data(data_dir='../data/aclImdb'):\n",
    "    data = {}\n",
    "    labels = {}\n",
    "    \n",
    "    for data_type in ['train', 'test']:\n",
    "        data[data_type] = {}\n",
    "        labels[data_type] = {}\n",
    "        \n",
    "        for sentiment in ['pos', 'neg']:\n",
    "            data[data_type][sentiment] = []\n",
    "            labels[data_type][sentiment] = []\n",
    "            \n",
    "            path = os.path.join(data_dir, data_type, sentiment, '*.txt')\n",
    "            files = glob.glob(path)\n",
    "            \n",
    "            for f in files:\n",
    "                with open(f) as review:\n",
    "                    data[data_type][sentiment].append(review.read())\n",
    "                    # Here we represent a positive review by '1' and a negative review by '0'\n",
    "                    labels[data_type][sentiment].append(1 if sentiment == 'pos' else 0)\n",
    "                    \n",
    "            assert len(data[data_type][sentiment]) == len(labels[data_type][sentiment]), \\\n",
    "                    \"{}/{} data size does not match labels size\".format(data_type, sentiment)\n",
    "                \n",
    "    return data, labels"
   ]
  },
  {
   "cell_type": "code",
   "execution_count": 4,
   "metadata": {},
   "outputs": [
    {
     "name": "stdout",
     "output_type": "stream",
     "text": [
      "IMDB reviews: train = 12500 pos / 12500 neg, test = 12500 pos / 12500 neg\n"
     ]
    }
   ],
   "source": [
    "data, labels = read_imdb_data()\n",
    "print(\"IMDB reviews: train = {} pos / {} neg, test = {} pos / {} neg\".format(\n",
    "            len(data['train']['pos']), len(data['train']['neg']),\n",
    "            len(data['test']['pos']), len(data['test']['neg'])))"
   ]
  },
  {
   "cell_type": "code",
   "execution_count": 5,
   "metadata": {
    "collapsed": true
   },
   "outputs": [],
   "source": [
    "from sklearn.utils import shuffle\n",
    "\n",
    "def prepare_imdb_data(data, labels):\n",
    "    \"\"\"Prepare training and test sets from IMDb movie reviews.\"\"\"\n",
    "    \n",
    "    #Combine positive and negative reviews and labels\n",
    "    data_train = data['train']['pos'] + data['train']['neg']\n",
    "    data_test = data['test']['pos'] + data['test']['neg']\n",
    "    labels_train = labels['train']['pos'] + labels['train']['neg']\n",
    "    labels_test = labels['test']['pos'] + labels['test']['neg']\n",
    "    \n",
    "    #Shuffle reviews and corresponding labels within training and test sets\n",
    "    data_train, labels_train = shuffle(data_train, labels_train)\n",
    "    data_test, labels_test = shuffle(data_test, labels_test)\n",
    "    \n",
    "    # Return a unified training data, test data, training labels, test labets\n",
    "    return data_train, data_test, labels_train, labels_test"
   ]
  },
  {
   "cell_type": "code",
   "execution_count": 6,
   "metadata": {},
   "outputs": [
    {
     "name": "stdout",
     "output_type": "stream",
     "text": [
      "IMDb reviews (combined): train = 25000, test = 25000\n"
     ]
    }
   ],
   "source": [
    "train_X, test_X, train_y, test_y = prepare_imdb_data(data, labels)\n",
    "print(\"IMDb reviews (combined): train = {}, test = {}\".format(len(train_X), len(test_X)))"
   ]
  },
  {
   "cell_type": "code",
   "execution_count": 7,
   "metadata": {},
   "outputs": [
    {
     "data": {
      "text/plain": [
       "\"A killer, wearing a plastic white mask and black overcoat, is killing the friends of Hollywood producer Shawn Banning(Danny Wolske)who inherited his position when someone sliced open his former employer from crotch to chest. Perhaps the psychopath is newly hired Maddy(Dabbie Rochon), an attractive, raven haired beauty with a troubled family past, plagued with nightmares. Shawn and his friends play a practical joke on Maddy, concerning a supposed Murder Club they started where each member randomly selected a victim to kill. When Maddy accidentally murders a woman in a parking garage because of a dent put into her car by this person, she finds that Shawn's pals were jerking her chain. But, Shawn and his comrades are concerned about Maddy's admittance towards committing the murder and contemplate turning her into the proper authorities. Deciding to wait on a definite decision, each member fall prey to the white-masked psycho with Maddy a suspect considering the fact that she already has killed before. Or, is someone else behind these murders? Low budget slasher, executive produced by Charles Band, with gore murders that fail to convince. Plenty of tits on display and Allen Nabors goofy character Chris might entertain those with low expectations. The murders include a stomach being opened with intestines showing, a neck sliced, an electrical cord thrown into a pool frying a female victim who had all day to escape, an ax buried into the back of a male victim, and, to top it all, a couple are strangled by a rope during their sexual climax(..for added effect, the killer uses the breaker bar of a socket wrench as extra leverage to twist the rope as tight as possible snapping their necks). There are enough plot holes to drive a truck through, such as why Maddy has nightmares of murders she didn't commit, how she could murder someone so violently(..with blood all over her)winding up waking in her bed without leaving something at the scene of the crime that would easily implicate her, and how Shawn could go so long, allowing her to continue working at the company despite what she told regarding the murder she committed, and a continual desire to join the supposed club that doesn't exist.<br /><br />What bothered me the most was the film's desire for having us somehow sympathizing with this female protagonist who wanted to join a club after killing someone, later proclaiming it to be an accident. The film builds Maddy as the potential psycho throughout because of her past. Her family disowned her for an abortion. She has black-outs and always appropriately winds up at the scenes of crimes after the fact. In a lot of slashers, the one who seems the most likely killer is often the red herring, but this film goes out of it's way to point the finger at Maddy. When the twist occurs, we're left rooting for Maddy, yet we know she's not right in the head. It's a tough sell caring for this chick. She does look great in a man's Army shirt, though. And, Rochon isn't afraid to let her puppies breathe, either. Low budget horror fans will get a kick out of seeing cult favorite Brinke Stevens as a religious fanatical mother who preaches against what Maddy did, calling her a murderer as beloved Troma producer Lloyd Kaufman is the aloof father who can not get in a word edge-wise to protect the daughter he truly cares about. Cult siren Julie Strain has a minor cameo, showing her tits(of course)as the opening murdered male's girlfriend getting her head crushed by a hammer. Oh, and check out the office for which Shawn works, you'll see a lot of Full Moon posters and art-work spread throughout the walls.\""
      ]
     },
     "execution_count": 7,
     "metadata": {},
     "output_type": "execute_result"
    }
   ],
   "source": [
    "train_X[1]"
   ]
  },
  {
   "cell_type": "markdown",
   "metadata": {},
   "source": [
    "## Step 4: Processing the data\n",
    "\n",
    "We need to process raw data into something that will be useable by our machine learning algorithm. \n",
    "- Removing any html formatting that may appear in the reviews and perform some standard natural language processing in order to homogenize the data.\n",
    "- Convert to lower case\n",
    "- Split string into words\n",
    "- Remove stopwords\n",
    "- Stem"
   ]
  },
  {
   "cell_type": "code",
   "execution_count": 8,
   "metadata": {},
   "outputs": [
    {
     "name": "stdout",
     "output_type": "stream",
     "text": [
      "[nltk_data] Downloading package stopwords to\n",
      "[nltk_data]     /home/ec2-user/nltk_data...\n",
      "[nltk_data]   Package stopwords is already up-to-date!\n"
     ]
    }
   ],
   "source": [
    "import nltk\n",
    "nltk.download(\"stopwords\")\n",
    "from nltk.corpus import stopwords\n",
    "from nltk.stem.porter import *\n",
    "stemmer = PorterStemmer()"
   ]
  },
  {
   "cell_type": "code",
   "execution_count": 9,
   "metadata": {
    "collapsed": true
   },
   "outputs": [],
   "source": [
    "import re\n",
    "from bs4 import BeautifulSoup\n",
    "\n",
    "def review_to_words(review):\n",
    "    text = BeautifulSoup(review, \"html.parser\").get_text() # Remove HTML tags\n",
    "    text = re.sub(r\"[^a-zA-Z0-9]\", \" \", text.lower()) # Convert to lower case\n",
    "    words = text.split() # Split string into words\n",
    "    words = [w for w in words if w not in stopwords.words(\"english\")] # Remove stopwords\n",
    "    words = [PorterStemmer().stem(w) for w in words] # stem\n",
    "    \n",
    "    return words"
   ]
  },
  {
   "cell_type": "code",
   "execution_count": 10,
   "metadata": {
    "collapsed": true
   },
   "outputs": [],
   "source": [
    "import pickle\n",
    "\n",
    "cache_dir = os.path.join(\"../cache\", \"sentiment_analysis\")  # where to store cache files\n",
    "os.makedirs(cache_dir, exist_ok=True)  # ensure cache directory exists\n",
    "\n",
    "def preprocess_data(data_train, data_test, labels_train, labels_test,\n",
    "                    cache_dir=cache_dir, cache_file=\"preprocessed_data.pkl\"):\n",
    "    \"\"\"Convert each review to words; read from cache if available.\"\"\"\n",
    "\n",
    "    # If cache_file is not None, try to read from it first\n",
    "    cache_data = None\n",
    "    if cache_file is not None:\n",
    "        try:\n",
    "            with open(os.path.join(cache_dir, cache_file), \"rb\") as f:\n",
    "                cache_data = pickle.load(f)\n",
    "            print(\"Read preprocessed data from cache file:\", cache_file)\n",
    "        except:\n",
    "            pass  # unable to read from cache, but that's okay\n",
    "    \n",
    "    # If cache is missing, then do the heavy lifting\n",
    "    if cache_data is None:\n",
    "        # Preprocess training and test data to obtain words for each review\n",
    "        #words_train = list(map(review_to_words, data_train))\n",
    "        #words_test = list(map(review_to_words, data_test))\n",
    "        words_train = [review_to_words(review) for review in data_train]\n",
    "        words_test = [review_to_words(review) for review in data_test]\n",
    "        \n",
    "        # Write to cache file for future runs\n",
    "        if cache_file is not None:\n",
    "            cache_data = dict(words_train=words_train, words_test=words_test,\n",
    "                              labels_train=labels_train, labels_test=labels_test)\n",
    "            with open(os.path.join(cache_dir, cache_file), \"wb\") as f:\n",
    "                pickle.dump(cache_data, f)\n",
    "            print(\"Wrote preprocessed data to cache file:\", cache_file)\n",
    "    else:\n",
    "        # Unpack data loaded from cache file\n",
    "        words_train, words_test, labels_train, labels_test = (cache_data['words_train'],\n",
    "                cache_data['words_test'], cache_data['labels_train'], cache_data['labels_test'])\n",
    "    \n",
    "    return words_train, words_test, labels_train, labels_test"
   ]
  },
  {
   "cell_type": "code",
   "execution_count": 11,
   "metadata": {},
   "outputs": [
    {
     "name": "stdout",
     "output_type": "stream",
     "text": [
      "Read preprocessed data from cache file: preprocessed_data.pkl\n"
     ]
    }
   ],
   "source": [
    "# Preprocess data\n",
    "train_X, test_X, train_y, test_y = preprocess_data(train_X, test_X, train_y, test_y)"
   ]
  },
  {
   "cell_type": "markdown",
   "metadata": {},
   "source": [
    "### Extract Bag-of-Words features\n",
    "\n",
    "For the model we will be implementing, rather than using the reviews directly, we are going to transform each review into a Bag-of-Words feature representation. Keep in mind that 'in the wild' we will only have access to the training set so our transformer can only use the training set to construct a representation."
   ]
  },
  {
   "cell_type": "code",
   "execution_count": 12,
   "metadata": {
    "collapsed": true
   },
   "outputs": [],
   "source": [
    "import numpy as np\n",
    "from sklearn.feature_extraction.text import CountVectorizer\n",
    "from sklearn.externals import joblib\n",
    "# joblib is an enhanced version of pickle that is more efficient for storing NumPy arrays\n",
    "\n",
    "def extract_BoW_features(words_train, words_test, vocabulary_size=5000,\n",
    "                         cache_dir=cache_dir, cache_file=\"bow_features.pkl\"):\n",
    "    \"\"\"Extract Bag-of-Words for a given set of documents, already preprocessed into words.\"\"\"\n",
    "    \n",
    "    # If cache_file is not None, try to read from it first\n",
    "    cache_data = None\n",
    "    if cache_file is not None:\n",
    "        try:\n",
    "            with open(os.path.join(cache_dir, cache_file), \"rb\") as f:\n",
    "                cache_data = joblib.load(f)\n",
    "            print(\"Read features from cache file:\", cache_file)\n",
    "        except:\n",
    "            pass  # unable to read from cache, but that's okay\n",
    "    \n",
    "    # If cache is missing, then do the heavy lifting\n",
    "    if cache_data is None:\n",
    "        # Fit a vectorizer to training documents and use it to transform them\n",
    "        # NOTE: Training documents have already been preprocessed and tokenized into words;\n",
    "        #       pass in dummy functions to skip those steps, e.g. preprocessor=lambda x: x\n",
    "        vectorizer = CountVectorizer(max_features=vocabulary_size,\n",
    "                preprocessor=lambda x: x, tokenizer=lambda x: x)  # already preprocessed\n",
    "        features_train = vectorizer.fit_transform(words_train).toarray()\n",
    "\n",
    "        # Apply the same vectorizer to transform the test documents (ignore unknown words)\n",
    "        features_test = vectorizer.transform(words_test).toarray()\n",
    "        \n",
    "        # NOTE: Remember to convert the features using .toarray() for a compact representation\n",
    "        \n",
    "        # Write to cache file for future runs (store vocabulary as well)\n",
    "        if cache_file is not None:\n",
    "            vocabulary = vectorizer.vocabulary_\n",
    "            cache_data = dict(features_train=features_train, features_test=features_test,\n",
    "                             vocabulary=vocabulary)\n",
    "            with open(os.path.join(cache_dir, cache_file), \"wb\") as f:\n",
    "                joblib.dump(cache_data, f)\n",
    "            print(\"Wrote features to cache file:\", cache_file)\n",
    "    else:\n",
    "        # Unpack data loaded from cache file\n",
    "        features_train, features_test, vocabulary = (cache_data['features_train'],\n",
    "                cache_data['features_test'], cache_data['vocabulary'])\n",
    "    \n",
    "    # Return both the extracted features as well as the vocabulary\n",
    "    return features_train, features_test, vocabulary"
   ]
  },
  {
   "cell_type": "code",
   "execution_count": 13,
   "metadata": {},
   "outputs": [
    {
     "name": "stdout",
     "output_type": "stream",
     "text": [
      "Read features from cache file: bow_features.pkl\n"
     ]
    }
   ],
   "source": [
    "# Extract Bag of Words features for both training and test datasets\n",
    "train_X, test_X, vocabulary = extract_BoW_features(train_X, test_X)"
   ]
  },
  {
   "cell_type": "markdown",
   "metadata": {},
   "source": [
    "## Step 4: Classification using XGBoost\n",
    "\n",
    "Now that we have created the feature representation of our training (and testing) data, it is time to start setting up and using the XGBoost classifier provided by SageMaker.\n",
    "\n",
    "The XGBoost classifier that we will be using requires the dataset to be written to a file and stored using Amazon S3. To do this, we will start by splitting the training dataset into two parts, the data we will train the model with and a validation set. Then, we will write those datasets to a file and upload the files to S3. In addition, we will write the test set input to a file and upload the file to S3. This is so that we can use SageMakers Batch Transform functionality to test our model once we've fit it."
   ]
  },
  {
   "cell_type": "code",
   "execution_count": 14,
   "metadata": {
    "collapsed": true
   },
   "outputs": [],
   "source": [
    "import pandas as pd\n",
    "\n",
    "# TODO: Split the train_X and train_y arrays into the DataFrames val_X, train_X and val_y, train_y. Make sure that\n",
    "#       val_X and val_y contain 10 000 entires while train_X and train_y contain the remaining 15 000 entries.\n",
    "#val_X = pd.DataFrame(None)\n",
    "#train_X = pd.DataFrame(None)\n",
    "\n",
    "#val_y = pd.DataFrame(None)\n",
    "#train_y = pd.DataFrame(None)\n",
    "\n",
    "# Solution:\n",
    "# Earlier we shuffled the training dataset so to make things simple we can just assign\n",
    "# the first 10 000 reviews to the validation set and use the remaining reviews for training.\n",
    "val_X = pd.DataFrame(train_X[:10000])\n",
    "train_X = pd.DataFrame(train_X[10000:])\n",
    "\n",
    "val_y = pd.DataFrame(train_y[:10000])\n",
    "train_y = pd.DataFrame(train_y[10000:])"
   ]
  },
  {
   "cell_type": "markdown",
   "metadata": {},
   "source": [
    "## Step 5: Uploading the data files to S3\n",
    "\n",
    "When a training job is constructed using SageMaker, a container is executed which performs the training operation. This container is given access to data that is stored in S3. This means that we need to upload the data we want to use for training to S3. In addition, when we perform a batch transform job, SageMaker expects the input data to be stored on S3. We can use the SageMaker API to do this and hide some of the details.\n",
    "\n",
    "**Save the data locally:** First we need to create the test, train and validation csv files which we will then upload to S3."
   ]
  },
  {
   "cell_type": "code",
   "execution_count": 15,
   "metadata": {
    "collapsed": true
   },
   "outputs": [],
   "source": [
    "# First we make sure that the local directory in which we'd like to store the training and validation csv files exists.\n",
    "data_dir = '../data/xgboost'\n",
    "if not os.path.exists(data_dir):\n",
    "    os.makedirs(data_dir)"
   ]
  },
  {
   "cell_type": "code",
   "execution_count": 16,
   "metadata": {
    "collapsed": true
   },
   "outputs": [],
   "source": [
    "# Saving as test, train, validation csv files\n",
    "# Note that we make sure not to include header information or an index for test data\n",
    "\n",
    "pd.DataFrame(test_X).to_csv(os.path.join(data_dir, 'test.csv'), header=False, index=False)\n",
    "\n",
    "pd.concat([val_y, val_X], axis=1).to_csv(os.path.join(data_dir, 'validation.csv'), header=False, index=False)\n",
    "pd.concat([train_y, train_X], axis=1).to_csv(os.path.join(data_dir, 'train.csv'), header=False, index=False)"
   ]
  },
  {
   "cell_type": "code",
   "execution_count": 17,
   "metadata": {
    "collapsed": true
   },
   "outputs": [],
   "source": [
    "# To save a bit of memory we can set text_X, train_X, val_X, train_y and val_y to None.\n",
    "\n",
    "test_X = train_X = val_X = train_y = val_y = None"
   ]
  },
  {
   "cell_type": "markdown",
   "metadata": {},
   "source": [
    "**Upload to S3:** Upload our data to the 'default' S3 bucket and addinga custom prefix\n",
    "\n",
    "Amazon's S3 service allows us to store files that can be access by both the built-in training models such as the XGBoost model we will be using as well as custom models such as the one we will see a little later.\n",
    "\n",
    "For this, and most other tasks we will be doing using SageMaker, there are two methods we could use. The first is to use the low level functionality of SageMaker which requires knowing each of the objects involved in the SageMaker environment. The second is to use the high level functionality in which certain choices have been made on the user's behalf. The low level approach benefits from allowing the user a great deal of flexibility while the high level approach makes development much quicker. For our purposes we will opt to use the high level approach although using the low-level approach is certainly an option.\n",
    "\n",
    "Recall the method `upload_data()` which is a member of object representing our current SageMaker session. What this method does is upload the data to the default bucket (which is created if it does not exist) into the path described by the key_prefix variable. To see this for yourself, once you have uploaded the data files, go to the S3 console and look to see where the files have been uploaded.\n",
    "\n",
    "For additional resources, see the __[SageMaker API documentation](http://sagemaker.readthedocs.io/en/latest/)__ and in addition the __[SageMaker Developer Guide.](https://docs.aws.amazon.com/sagemaker/latest/dg/)__"
   ]
  },
  {
   "cell_type": "code",
   "execution_count": 18,
   "metadata": {
    "collapsed": true
   },
   "outputs": [],
   "source": [
    "# S3 prefix (which folder will we use)\n",
    "prefix = 'sentiment-xgboost'\n",
    "\n",
    "# Upload the test.csv, train.csv and validation.csv files \n",
    "test_location = None\n",
    "val_location = None\n",
    "train_location = None\n",
    "\n",
    "# Solution:\n",
    "test_location = session.upload_data(os.path.join(data_dir, 'test.csv'), key_prefix=prefix)\n",
    "val_location = session.upload_data(os.path.join(data_dir, 'validation.csv'), key_prefix=prefix)\n",
    "train_location = session.upload_data(os.path.join(data_dir, 'train.csv'), key_prefix=prefix)"
   ]
  },
  {
   "cell_type": "markdown",
   "metadata": {},
   "source": [
    "## Step 6: Create and Train the XGBoost model\n",
    "\n",
    "Now that the data has been uploaded it is time to create the XGBoost model. To begin with, we need to do some setup. At this point it is worth discussing what a model is in SageMaker. It is easiest to think of a model of comprising three different objects in the SageMaker ecosystem, which interact with one another.\n",
    "\n",
    "- Model Artifacts\n",
    "- Training Code (Container)\n",
    "- Inference Code (Container)\n",
    "\n",
    "The Model Artifacts are what you might think of as the actual model itself. For example, if you were building a neural network, the model artifacts would be the weights of the various layers. In our case, for an XGBoost model, the artifacts are the actual trees that are created during training.\n",
    "\n",
    "The other two objects, the training code and the inference code are then used the manipulate the training artifacts. More precisely, the training code uses the training data that is provided and creates the model artifacts, while the inference code uses the model artifacts to make predictions on new data.\n",
    "\n",
    "The way that SageMaker runs the training and inference code is by making use of Docker containers. For now, think of a container as being a way of packaging code up so that dependencies aren't an issue."
   ]
  },
  {
   "cell_type": "code",
   "execution_count": 19,
   "metadata": {
    "collapsed": true
   },
   "outputs": [],
   "source": [
    "from sagemaker import get_execution_role\n",
    "\n",
    "# Our current execution role is require when creating the model as the training\n",
    "# and inference code will need to access the model artifacts.\n",
    "role = get_execution_role()"
   ]
  },
  {
   "cell_type": "code",
   "execution_count": 20,
   "metadata": {
    "collapsed": true
   },
   "outputs": [],
   "source": [
    "# We need to retrieve the location of the container which is provided by Amazon for using XGBoost.\n",
    "# As a matter of convenience, the training and inference code both use the same container.\n",
    "from sagemaker.amazon.amazon_estimator import get_image_uri\n",
    "\n",
    "container = get_image_uri(session.boto_region_name, 'xgboost')"
   ]
  },
  {
   "cell_type": "code",
   "execution_count": 21,
   "metadata": {
    "collapsed": true
   },
   "outputs": [],
   "source": [
    "# Create a SageMaker estimator using the container location determined in the previous cell.\n",
    "# It is recommended that you use a single training instance of type ml.m4.xlarge. \n",
    "# It is also recommended that you use 's3://{}/{}/output'.format(session.default_bucket(), prefix) \n",
    "# as the output path.\n",
    "\n",
    "xgb = None\n",
    "\n",
    "xgb = sagemaker.estimator.Estimator(container, # The location of the container we wish to use\n",
    "                                    role,                                    # What is our current IAM Role\n",
    "                                    train_instance_count=1,                  # How many compute instances\n",
    "                                    train_instance_type='ml.m4.xlarge',      # What kind of compute instances\n",
    "                                    output_path='s3://{}/{}/output'.format(session.default_bucket(), prefix),\n",
    "                                    sagemaker_session=session)\n",
    "\n",
    "# Seting model specific hyperparameters \n",
    "# (https://docs.aws.amazon.com/sagemaker/latest/dg/xgboost_hyperparameters.html)\n",
    "xgb.set_hyperparameters(max_depth=5,\n",
    "                        eta=0.2,\n",
    "                        gamma=4,\n",
    "                        min_child_weight=6,\n",
    "                        subsample=0.8,\n",
    "                        silent=0,\n",
    "                        objective='binary:logistic',\n",
    "                        early_stopping_rounds=10,\n",
    "                        num_round=500)"
   ]
  },
  {
   "cell_type": "markdown",
   "metadata": {},
   "source": [
    "### Create the hyperparameter tuner\n",
    "\n",
    "Now that the base estimator has been set up we need to construct a hyperparameter tuner object which we will use to request SageMaker construct a hyperparameter tuning job.\n",
    "\n",
    "**Note:** Training a single sentiment analysis XGBoost model takes longer than training a Boston Housing XGBoost model so if you don't want the hyperparameter tuning job to take too long, make sure to not set the total number of models (jobs) too high."
   ]
  },
  {
   "cell_type": "code",
   "execution_count": 22,
   "metadata": {
    "collapsed": true
   },
   "outputs": [],
   "source": [
    "# First, make sure to import the relevant objects used to construct the tuner\n",
    "from sagemaker.tuner import IntegerParameter, ContinuousParameter, HyperparameterTuner\n",
    "\n",
    "# Create the hyperparameter tuner object\n",
    "\n",
    "xgb_hyperparameter_tuner = None\n",
    "\n",
    "xgb_hyperparameter_tuner = HyperparameterTuner(estimator = xgb, # The estimator object to use as the basis for the training jobs.\n",
    "                                               objective_metric_name = 'validation:rmse', # The metric used to compare trained models.\n",
    "                                               objective_type = 'Minimize', # Whether we wish to minimize or maximize the metric.\n",
    "                                               max_jobs = 6, # The total number of models to train\n",
    "                                               max_parallel_jobs = 3, # The number of models to train in parallel\n",
    "                                               hyperparameter_ranges = {\n",
    "                                                    'max_depth': IntegerParameter(3, 12),\n",
    "                                                    'eta'      : ContinuousParameter(0.05, 0.5),\n",
    "                                                    'min_child_weight': IntegerParameter(2, 8),\n",
    "                                                    'subsample': ContinuousParameter(0.5, 0.9),\n",
    "                                                    'gamma': ContinuousParameter(0, 10),\n",
    "                                               })"
   ]
  },
  {
   "cell_type": "markdown",
   "metadata": {},
   "source": [
    "### Fit the hyperparameter tuner model\n",
    "\n",
    "Now that our model has been set up we simply need to attach the training and validation datasets and then ask SageMaker to set up the computation."
   ]
  },
  {
   "cell_type": "code",
   "execution_count": 24,
   "metadata": {
    "collapsed": true
   },
   "outputs": [],
   "source": [
    "s3_input_train = sagemaker.s3_input(s3_data=train_location, content_type='csv')\n",
    "s3_input_validation = sagemaker.s3_input(s3_data=val_location, content_type='csv')"
   ]
  },
  {
   "cell_type": "code",
   "execution_count": 25,
   "metadata": {},
   "outputs": [
    {
     "name": "stderr",
     "output_type": "stream",
     "text": [
      "INFO:sagemaker:Creating hyperparameter tuning job with name: xgboost-190125-2237\n"
     ]
    }
   ],
   "source": [
    "xgb_hyperparameter_tuner.fit({'train': s3_input_train, 'validation': s3_input_validation})"
   ]
  },
  {
   "cell_type": "code",
   "execution_count": 26,
   "metadata": {},
   "outputs": [
    {
     "name": "stdout",
     "output_type": "stream",
     "text": [
      "...............................................................................................................................................................................................................................................................................................................................................................................................................................................!\n"
     ]
    }
   ],
   "source": [
    "xgb_hyperparameter_tuner.wait()"
   ]
  },
  {
   "cell_type": "markdown",
   "metadata": {},
   "source": [
    "## Step7: Testing the model\n",
    "\n",
    "Now that we've fit our XGBoost model, it's time to see how well it performs. To do this we will use SageMakers Batch Transform functionality. Batch Transform is a convenient way to perform inference on a large dataset in a way that is not realtime. That is, we don't necessarily need to use our model's results immediately and instead we can peform inference on a large number of samples. An example of this in industry might be peforming an end of month report. This method of inference can also be useful to us as it means to can perform inference on our entire test set. "
   ]
  },
  {
   "cell_type": "code",
   "execution_count": 30,
   "metadata": {},
   "outputs": [
    {
     "name": "stdout",
     "output_type": "stream",
     "text": [
      "2019-01-25 23:01:03 Starting - Preparing the instances for training\n",
      "2019-01-25 23:01:03 Downloading - Downloading input data\n",
      "2019-01-25 23:01:03 Training - Training image download completed. Training in progress.\n",
      "2019-01-25 23:01:03 Uploading - Uploading generated training model\n",
      "2019-01-25 23:01:03 Completed - Training job completed\u001b[31mArguments: train\u001b[0m\n",
      "\u001b[31m[2019-01-25:22:40:43:INFO] Running standalone xgboost training.\u001b[0m\n",
      "\u001b[31m[2019-01-25:22:40:43:INFO] Setting up HPO optimized metric to be : rmse\u001b[0m\n",
      "\u001b[31m[2019-01-25:22:40:43:INFO] File size need to be processed in the node: 238.47mb. Available memory size in the node: 8414.4mb\u001b[0m\n",
      "\u001b[31m[2019-01-25:22:40:43:INFO] Determined delimiter of CSV input is ','\u001b[0m\n",
      "\u001b[31m[22:40:43] S3DistributionType set as FullyReplicated\u001b[0m\n",
      "\u001b[31m[22:40:45] 15000x5000 matrix with 75000000 entries loaded from /opt/ml/input/data/train?format=csv&label_column=0&delimiter=,\u001b[0m\n",
      "\u001b[31m[2019-01-25:22:40:45:INFO] Determined delimiter of CSV input is ','\u001b[0m\n",
      "\u001b[31m[22:40:45] S3DistributionType set as FullyReplicated\u001b[0m\n",
      "\u001b[31m[22:40:47] 10000x5000 matrix with 50000000 entries loaded from /opt/ml/input/data/validation?format=csv&label_column=0&delimiter=,\u001b[0m\n",
      "\u001b[31m[22:40:52] src/tree/updater_prune.cc:74: tree pruning end, 1 roots, 60 extra nodes, 62 pruned nodes, max_depth=9\u001b[0m\n",
      "\u001b[31m[0]#011train-rmse:0.488493#011validation-rmse:0.489095\u001b[0m\n",
      "\u001b[31mMultiple eval metrics have been passed: 'validation-rmse' will be used for early stopping.\n",
      "\u001b[0m\n",
      "\u001b[31mWill train until validation-rmse hasn't improved in 10 rounds.\u001b[0m\n",
      "\u001b[31m[22:40:55] src/tree/updater_prune.cc:74: tree pruning end, 1 roots, 62 extra nodes, 42 pruned nodes, max_depth=9\u001b[0m\n",
      "\u001b[31m[1]#011train-rmse:0.478105#011validation-rmse:0.479326\u001b[0m\n",
      "\u001b[31m[22:40:57] src/tree/updater_prune.cc:74: tree pruning end, 1 roots, 46 extra nodes, 54 pruned nodes, max_depth=9\u001b[0m\n",
      "\u001b[31m[2]#011train-rmse:0.469438#011validation-rmse:0.471281\u001b[0m\n",
      "\u001b[31m[22:41:00] src/tree/updater_prune.cc:74: tree pruning end, 1 roots, 60 extra nodes, 60 pruned nodes, max_depth=9\u001b[0m\n",
      "\u001b[31m[3]#011train-rmse:0.461256#011validation-rmse:0.46349\u001b[0m\n",
      "\u001b[31m[22:41:03] src/tree/updater_prune.cc:74: tree pruning end, 1 roots, 54 extra nodes, 52 pruned nodes, max_depth=9\u001b[0m\n",
      "\u001b[31m[4]#011train-rmse:0.454049#011validation-rmse:0.456891\u001b[0m\n",
      "\u001b[31m[22:41:06] src/tree/updater_prune.cc:74: tree pruning end, 1 roots, 44 extra nodes, 72 pruned nodes, max_depth=9\u001b[0m\n",
      "\u001b[31m[5]#011train-rmse:0.448088#011validation-rmse:0.451625\u001b[0m\n",
      "\u001b[31m[22:41:08] src/tree/updater_prune.cc:74: tree pruning end, 1 roots, 58 extra nodes, 62 pruned nodes, max_depth=9\u001b[0m\n",
      "\u001b[31m[6]#011train-rmse:0.442046#011validation-rmse:0.446291\u001b[0m\n",
      "\u001b[31m[22:41:11] src/tree/updater_prune.cc:74: tree pruning end, 1 roots, 44 extra nodes, 44 pruned nodes, max_depth=9\u001b[0m\n",
      "\u001b[31m[7]#011train-rmse:0.436773#011validation-rmse:0.441487\u001b[0m\n",
      "\u001b[31m[22:41:14] src/tree/updater_prune.cc:74: tree pruning end, 1 roots, 46 extra nodes, 50 pruned nodes, max_depth=9\u001b[0m\n",
      "\u001b[31m[8]#011train-rmse:0.432186#011validation-rmse:0.437291\u001b[0m\n",
      "\u001b[31m[22:41:17] src/tree/updater_prune.cc:74: tree pruning end, 1 roots, 54 extra nodes, 82 pruned nodes, max_depth=9\u001b[0m\n",
      "\u001b[31m[9]#011train-rmse:0.428177#011validation-rmse:0.433706\u001b[0m\n",
      "\u001b[31m[22:41:19] src/tree/updater_prune.cc:74: tree pruning end, 1 roots, 34 extra nodes, 56 pruned nodes, max_depth=9\u001b[0m\n",
      "\u001b[31m[10]#011train-rmse:0.424098#011validation-rmse:0.429708\u001b[0m\n",
      "\u001b[31m[22:41:22] src/tree/updater_prune.cc:74: tree pruning end, 1 roots, 60 extra nodes, 52 pruned nodes, max_depth=9\u001b[0m\n",
      "\u001b[31m[11]#011train-rmse:0.420117#011validation-rmse:0.42637\u001b[0m\n",
      "\u001b[31m[22:41:25] src/tree/updater_prune.cc:74: tree pruning end, 1 roots, 38 extra nodes, 42 pruned nodes, max_depth=9\u001b[0m\n",
      "\u001b[31m[12]#011train-rmse:0.416429#011validation-rmse:0.422937\u001b[0m\n",
      "\u001b[31m[22:41:28] src/tree/updater_prune.cc:74: tree pruning end, 1 roots, 32 extra nodes, 60 pruned nodes, max_depth=9\u001b[0m\n",
      "\u001b[31m[13]#011train-rmse:0.413099#011validation-rmse:0.419952\u001b[0m\n",
      "\u001b[31m[22:41:31] src/tree/updater_prune.cc:74: tree pruning end, 1 roots, 38 extra nodes, 58 pruned nodes, max_depth=9\u001b[0m\n",
      "\u001b[31m[14]#011train-rmse:0.410242#011validation-rmse:0.417439\u001b[0m\n",
      "\u001b[31m[22:41:33] src/tree/updater_prune.cc:74: tree pruning end, 1 roots, 30 extra nodes, 54 pruned nodes, max_depth=9\u001b[0m\n",
      "\u001b[31m[15]#011train-rmse:0.407529#011validation-rmse:0.415162\u001b[0m\n",
      "\u001b[31m[22:41:36] src/tree/updater_prune.cc:74: tree pruning end, 1 roots, 30 extra nodes, 60 pruned nodes, max_depth=9\u001b[0m\n",
      "\u001b[31m[16]#011train-rmse:0.40485#011validation-rmse:0.412807\u001b[0m\n",
      "\u001b[31m[22:41:39] src/tree/updater_prune.cc:74: tree pruning end, 1 roots, 42 extra nodes, 40 pruned nodes, max_depth=9\u001b[0m\n",
      "\u001b[31m[17]#011train-rmse:0.402167#011validation-rmse:0.41053\u001b[0m\n",
      "\u001b[31m[22:41:42] src/tree/updater_prune.cc:74: tree pruning end, 1 roots, 44 extra nodes, 50 pruned nodes, max_depth=9\u001b[0m\n",
      "\u001b[31m[18]#011train-rmse:0.399605#011validation-rmse:0.408304\u001b[0m\n",
      "\u001b[31m[22:41:45] src/tree/updater_prune.cc:74: tree pruning end, 1 roots, 26 extra nodes, 44 pruned nodes, max_depth=9\u001b[0m\n",
      "\u001b[31m[19]#011train-rmse:0.397411#011validation-rmse:0.406198\u001b[0m\n",
      "\u001b[31m[22:41:47] src/tree/updater_prune.cc:74: tree pruning end, 1 roots, 36 extra nodes, 46 pruned nodes, max_depth=9\u001b[0m\n",
      "\u001b[31m[20]#011train-rmse:0.395015#011validation-rmse:0.404085\u001b[0m\n",
      "\u001b[31m[22:41:50] src/tree/updater_prune.cc:74: tree pruning end, 1 roots, 34 extra nodes, 50 pruned nodes, max_depth=9\u001b[0m\n",
      "\u001b[31m[21]#011train-rmse:0.392739#011validation-rmse:0.402192\u001b[0m\n",
      "\u001b[31m[22:41:53] src/tree/updater_prune.cc:74: tree pruning end, 1 roots, 38 extra nodes, 44 pruned nodes, max_depth=9\u001b[0m\n",
      "\u001b[31m[22]#011train-rmse:0.390621#011validation-rmse:0.400481\u001b[0m\n",
      "\u001b[31m[22:41:56] src/tree/updater_prune.cc:74: tree pruning end, 1 roots, 46 extra nodes, 54 pruned nodes, max_depth=9\u001b[0m\n",
      "\u001b[31m[23]#011train-rmse:0.388425#011validation-rmse:0.398927\u001b[0m\n",
      "\u001b[31m[22:41:58] src/tree/updater_prune.cc:74: tree pruning end, 1 roots, 22 extra nodes, 54 pruned nodes, max_depth=9\u001b[0m\n",
      "\u001b[31m[24]#011train-rmse:0.386655#011validation-rmse:0.397407\u001b[0m\n",
      "\u001b[31m[22:42:01] src/tree/updater_prune.cc:74: tree pruning end, 1 roots, 36 extra nodes, 52 pruned nodes, max_depth=9\u001b[0m\n",
      "\u001b[31m[25]#011train-rmse:0.384787#011validation-rmse:0.395685\u001b[0m\n",
      "\u001b[31m[22:42:04] src/tree/updater_prune.cc:74: tree pruning end, 1 roots, 40 extra nodes, 48 pruned nodes, max_depth=9\u001b[0m\n",
      "\u001b[31m[26]#011train-rmse:0.38267#011validation-rmse:0.393785\u001b[0m\n",
      "\u001b[31m[22:42:07] src/tree/updater_prune.cc:74: tree pruning end, 1 roots, 28 extra nodes, 70 pruned nodes, max_depth=9\u001b[0m\n",
      "\u001b[31m[27]#011train-rmse:0.380981#011validation-rmse:0.392353\u001b[0m\n",
      "\u001b[31m[22:42:09] src/tree/updater_prune.cc:74: tree pruning end, 1 roots, 38 extra nodes, 62 pruned nodes, max_depth=9\u001b[0m\n",
      "\u001b[31m[28]#011train-rmse:0.379162#011validation-rmse:0.390801\u001b[0m\n",
      "\u001b[31m[22:42:12] src/tree/updater_prune.cc:74: tree pruning end, 1 roots, 38 extra nodes, 54 pruned nodes, max_depth=9\u001b[0m\n",
      "\u001b[31m[29]#011train-rmse:0.377464#011validation-rmse:0.389466\u001b[0m\n",
      "\u001b[31m[22:42:15] src/tree/updater_prune.cc:74: tree pruning end, 1 roots, 26 extra nodes, 62 pruned nodes, max_depth=9\u001b[0m\n",
      "\u001b[31m[30]#011train-rmse:0.375872#011validation-rmse:0.388023\u001b[0m\n",
      "\u001b[31m[22:42:18] src/tree/updater_prune.cc:74: tree pruning end, 1 roots, 34 extra nodes, 40 pruned nodes, max_depth=9\u001b[0m\n",
      "\u001b[31m[31]#011train-rmse:0.374212#011validation-rmse:0.386501\u001b[0m\n",
      "\u001b[31m[22:42:21] src/tree/updater_prune.cc:74: tree pruning end, 1 roots, 34 extra nodes, 54 pruned nodes, max_depth=9\u001b[0m\n",
      "\u001b[31m[32]#011train-rmse:0.372737#011validation-rmse:0.385354\u001b[0m\n",
      "\u001b[31m[22:42:23] src/tree/updater_prune.cc:74: tree pruning end, 1 roots, 20 extra nodes, 44 pruned nodes, max_depth=9\u001b[0m\n",
      "\u001b[31m[33]#011train-rmse:0.371446#011validation-rmse:0.38439\u001b[0m\n",
      "\u001b[31m[22:42:26] src/tree/updater_prune.cc:74: tree pruning end, 1 roots, 20 extra nodes, 42 pruned nodes, max_depth=9\u001b[0m\n",
      "\u001b[31m[34]#011train-rmse:0.370065#011validation-rmse:0.383213\u001b[0m\n",
      "\u001b[31m[22:42:29] src/tree/updater_prune.cc:74: tree pruning end, 1 roots, 28 extra nodes, 64 pruned nodes, max_depth=9\u001b[0m\n",
      "\u001b[31m[35]#011train-rmse:0.368548#011validation-rmse:0.38189\u001b[0m\n",
      "\u001b[31m[22:42:32] src/tree/updater_prune.cc:74: tree pruning end, 1 roots, 36 extra nodes, 52 pruned nodes, max_depth=9\u001b[0m\n",
      "\u001b[31m[36]#011train-rmse:0.366981#011validation-rmse:0.380648\u001b[0m\n",
      "\u001b[31m[22:42:34] src/tree/updater_prune.cc:74: tree pruning end, 1 roots, 32 extra nodes, 26 pruned nodes, max_depth=9\u001b[0m\n",
      "\u001b[31m[37]#011train-rmse:0.365342#011validation-rmse:0.379363\u001b[0m\n",
      "\u001b[31m[22:42:37] src/tree/updater_prune.cc:74: tree pruning end, 1 roots, 36 extra nodes, 56 pruned nodes, max_depth=9\u001b[0m\n",
      "\u001b[31m[38]#011train-rmse:0.363901#011validation-rmse:0.37839\u001b[0m\n",
      "\u001b[31m[22:42:40] src/tree/updater_prune.cc:74: tree pruning end, 1 roots, 38 extra nodes, 56 pruned nodes, max_depth=9\u001b[0m\n",
      "\u001b[31m[39]#011train-rmse:0.362601#011validation-rmse:0.377412\u001b[0m\n",
      "\u001b[31m[22:42:43] src/tree/updater_prune.cc:74: tree pruning end, 1 roots, 30 extra nodes, 70 pruned nodes, max_depth=9\u001b[0m\n",
      "\u001b[31m[40]#011train-rmse:0.36135#011validation-rmse:0.37641\u001b[0m\n",
      "\u001b[31m[22:42:46] src/tree/updater_prune.cc:74: tree pruning end, 1 roots, 26 extra nodes, 66 pruned nodes, max_depth=9\u001b[0m\n",
      "\u001b[31m[41]#011train-rmse:0.360216#011validation-rmse:0.375626\u001b[0m\n",
      "\u001b[31m[22:42:48] src/tree/updater_prune.cc:74: tree pruning end, 1 roots, 18 extra nodes, 46 pruned nodes, max_depth=9\u001b[0m\n",
      "\u001b[31m[42]#011train-rmse:0.3592#011validation-rmse:0.374764\u001b[0m\n",
      "\u001b[31m[22:42:51] src/tree/updater_prune.cc:74: tree pruning end, 1 roots, 20 extra nodes, 38 pruned nodes, max_depth=9\u001b[0m\n",
      "\u001b[31m[43]#011train-rmse:0.357977#011validation-rmse:0.373709\u001b[0m\n",
      "\u001b[31m[22:42:54] src/tree/updater_prune.cc:74: tree pruning end, 1 roots, 40 extra nodes, 42 pruned nodes, max_depth=9\u001b[0m\n",
      "\u001b[31m[44]#011train-rmse:0.356686#011validation-rmse:0.372638\u001b[0m\n",
      "\u001b[31m[22:42:57] src/tree/updater_prune.cc:74: tree pruning end, 1 roots, 24 extra nodes, 46 pruned nodes, max_depth=9\u001b[0m\n",
      "\u001b[31m[45]#011train-rmse:0.355545#011validation-rmse:0.371797\u001b[0m\n",
      "\u001b[31m[22:42:59] src/tree/updater_prune.cc:74: tree pruning end, 1 roots, 26 extra nodes, 34 pruned nodes, max_depth=9\u001b[0m\n",
      "\u001b[31m[46]#011train-rmse:0.354371#011validation-rmse:0.370814\u001b[0m\n",
      "\u001b[31m[22:43:02] src/tree/updater_prune.cc:74: tree pruning end, 1 roots, 26 extra nodes, 40 pruned nodes, max_depth=9\u001b[0m\n",
      "\u001b[31m[47]#011train-rmse:0.353273#011validation-rmse:0.369892\u001b[0m\n",
      "\u001b[31m[22:43:05] src/tree/updater_prune.cc:74: tree pruning end, 1 roots, 20 extra nodes, 44 pruned nodes, max_depth=9\u001b[0m\n",
      "\u001b[31m[48]#011train-rmse:0.35234#011validation-rmse:0.369124\u001b[0m\n",
      "\u001b[31m[22:43:08] src/tree/updater_prune.cc:74: tree pruning end, 1 roots, 24 extra nodes, 44 pruned nodes, max_depth=9\u001b[0m\n",
      "\u001b[31m[49]#011train-rmse:0.351308#011validation-rmse:0.368415\u001b[0m\n",
      "\u001b[31m[22:43:11] src/tree/updater_prune.cc:74: tree pruning end, 1 roots, 20 extra nodes, 50 pruned nodes, max_depth=9\u001b[0m\n",
      "\u001b[31m[50]#011train-rmse:0.350377#011validation-rmse:0.367596\u001b[0m\n",
      "\u001b[31m[22:43:13] src/tree/updater_prune.cc:74: tree pruning end, 1 roots, 36 extra nodes, 32 pruned nodes, max_depth=9\u001b[0m\n",
      "\u001b[31m[51]#011train-rmse:0.349228#011validation-rmse:0.366666\u001b[0m\n",
      "\u001b[31m[22:43:16] src/tree/updater_prune.cc:74: tree pruning end, 1 roots, 22 extra nodes, 40 pruned nodes, max_depth=9\u001b[0m\n",
      "\u001b[31m[52]#011train-rmse:0.348364#011validation-rmse:0.365963\u001b[0m\n",
      "\u001b[31m[22:43:19] src/tree/updater_prune.cc:74: tree pruning end, 1 roots, 20 extra nodes, 52 pruned nodes, max_depth=9\u001b[0m\n",
      "\u001b[31m[53]#011train-rmse:0.34742#011validation-rmse:0.365194\u001b[0m\n",
      "\u001b[31m[22:43:22] src/tree/updater_prune.cc:74: tree pruning end, 1 roots, 24 extra nodes, 60 pruned nodes, max_depth=9\u001b[0m\n",
      "\u001b[31m[54]#011train-rmse:0.346439#011validation-rmse:0.364602\u001b[0m\n",
      "\u001b[31m[22:43:24] src/tree/updater_prune.cc:74: tree pruning end, 1 roots, 22 extra nodes, 28 pruned nodes, max_depth=9\u001b[0m\n",
      "\u001b[31m[55]#011train-rmse:0.3454#011validation-rmse:0.363847\u001b[0m\n",
      "\u001b[31m[22:43:27] src/tree/updater_prune.cc:74: tree pruning end, 1 roots, 28 extra nodes, 64 pruned nodes, max_depth=9\u001b[0m\n",
      "\u001b[31m[56]#011train-rmse:0.344388#011validation-rmse:0.362983\u001b[0m\n",
      "\u001b[31m[22:43:30] src/tree/updater_prune.cc:74: tree pruning end, 1 roots, 20 extra nodes, 54 pruned nodes, max_depth=9\u001b[0m\n",
      "\u001b[31m[57]#011train-rmse:0.34364#011validation-rmse:0.362352\u001b[0m\n",
      "\u001b[31m[22:43:33] src/tree/updater_prune.cc:74: tree pruning end, 1 roots, 18 extra nodes, 44 pruned nodes, max_depth=9\u001b[0m\n",
      "\u001b[31m[58]#011train-rmse:0.342819#011validation-rmse:0.361769\u001b[0m\n",
      "\u001b[31m[22:43:36] src/tree/updater_prune.cc:74: tree pruning end, 1 roots, 22 extra nodes, 46 pruned nodes, max_depth=9\u001b[0m\n",
      "\u001b[31m[59]#011train-rmse:0.341956#011validation-rmse:0.36098\u001b[0m\n",
      "\u001b[31m[22:43:38] src/tree/updater_prune.cc:74: tree pruning end, 1 roots, 20 extra nodes, 24 pruned nodes, max_depth=9\u001b[0m\n",
      "\u001b[31m[60]#011train-rmse:0.341188#011validation-rmse:0.360313\u001b[0m\n",
      "\u001b[31m[22:43:41] src/tree/updater_prune.cc:74: tree pruning end, 1 roots, 18 extra nodes, 58 pruned nodes, max_depth=9\u001b[0m\n",
      "\u001b[31m[61]#011train-rmse:0.340444#011validation-rmse:0.359602\u001b[0m\n",
      "\u001b[31m[22:43:44] src/tree/updater_prune.cc:74: tree pruning end, 1 roots, 28 extra nodes, 60 pruned nodes, max_depth=9\u001b[0m\n",
      "\u001b[31m[62]#011train-rmse:0.339501#011validation-rmse:0.358946\u001b[0m\n",
      "\u001b[31m[22:43:47] src/tree/updater_prune.cc:74: tree pruning end, 1 roots, 34 extra nodes, 46 pruned nodes, max_depth=9\u001b[0m\n",
      "\u001b[31m[63]#011train-rmse:0.338647#011validation-rmse:0.358349\u001b[0m\n",
      "\u001b[31m[22:43:50] src/tree/updater_prune.cc:74: tree pruning end, 1 roots, 22 extra nodes, 44 pruned nodes, max_depth=9\u001b[0m\n",
      "\u001b[31m[64]#011train-rmse:0.337785#011validation-rmse:0.357871\u001b[0m\n",
      "\u001b[31m[22:43:52] src/tree/updater_prune.cc:74: tree pruning end, 1 roots, 32 extra nodes, 48 pruned nodes, max_depth=9\u001b[0m\n",
      "\u001b[31m[65]#011train-rmse:0.336804#011validation-rmse:0.357327\u001b[0m\n",
      "\u001b[31m[22:43:55] src/tree/updater_prune.cc:74: tree pruning end, 1 roots, 26 extra nodes, 48 pruned nodes, max_depth=9\u001b[0m\n",
      "\u001b[31m[66]#011train-rmse:0.335996#011validation-rmse:0.356756\u001b[0m\n",
      "\u001b[31m[22:43:58] src/tree/updater_prune.cc:74: tree pruning end, 1 roots, 20 extra nodes, 42 pruned nodes, max_depth=9\u001b[0m\n",
      "\u001b[31m[67]#011train-rmse:0.335385#011validation-rmse:0.356229\u001b[0m\n",
      "\u001b[31m[22:44:01] src/tree/updater_prune.cc:74: tree pruning end, 1 roots, 18 extra nodes, 28 pruned nodes, max_depth=9\u001b[0m\n",
      "\u001b[31m[68]#011train-rmse:0.334619#011validation-rmse:0.355687\u001b[0m\n",
      "\u001b[31m[22:44:04] src/tree/updater_prune.cc:74: tree pruning end, 1 roots, 20 extra nodes, 32 pruned nodes, max_depth=9\u001b[0m\n",
      "\u001b[31m[69]#011train-rmse:0.333833#011validation-rmse:0.354935\u001b[0m\n",
      "\u001b[31m[22:44:06] src/tree/updater_prune.cc:74: tree pruning end, 1 roots, 24 extra nodes, 42 pruned nodes, max_depth=9\u001b[0m\n",
      "\u001b[31m[70]#011train-rmse:0.333119#011validation-rmse:0.354347\u001b[0m\n",
      "\u001b[31m[22:44:09] src/tree/updater_prune.cc:74: tree pruning end, 1 roots, 24 extra nodes, 58 pruned nodes, max_depth=9\u001b[0m\n",
      "\u001b[31m[71]#011train-rmse:0.332391#011validation-rmse:0.353928\u001b[0m\n",
      "\u001b[31m[22:44:12] src/tree/updater_prune.cc:74: tree pruning end, 1 roots, 22 extra nodes, 28 pruned nodes, max_depth=9\u001b[0m\n",
      "\u001b[31m[72]#011train-rmse:0.331716#011validation-rmse:0.353437\u001b[0m\n",
      "\u001b[31m[22:44:15] src/tree/updater_prune.cc:74: tree pruning end, 1 roots, 26 extra nodes, 24 pruned nodes, max_depth=9\u001b[0m\n",
      "\u001b[31m[73]#011train-rmse:0.330918#011validation-rmse:0.352898\u001b[0m\n",
      "\u001b[31m[22:44:17] src/tree/updater_prune.cc:74: tree pruning end, 1 roots, 34 extra nodes, 22 pruned nodes, max_depth=9\u001b[0m\n",
      "\u001b[31m[74]#011train-rmse:0.330003#011validation-rmse:0.352387\u001b[0m\n",
      "\u001b[31m[22:44:20] src/tree/updater_prune.cc:74: tree pruning end, 1 roots, 18 extra nodes, 16 pruned nodes, max_depth=9\u001b[0m\n",
      "\u001b[31m[75]#011train-rmse:0.329346#011validation-rmse:0.351745\u001b[0m\n",
      "\u001b[31m[22:44:23] src/tree/updater_prune.cc:74: tree pruning end, 1 roots, 18 extra nodes, 18 pruned nodes, max_depth=9\u001b[0m\n",
      "\u001b[31m[76]#011train-rmse:0.328724#011validation-rmse:0.351235\u001b[0m\n",
      "\u001b[31m[22:44:26] src/tree/updater_prune.cc:74: tree pruning end, 1 roots, 24 extra nodes, 36 pruned nodes, max_depth=9\u001b[0m\n",
      "\u001b[31m[77]#011train-rmse:0.328039#011validation-rmse:0.350704\u001b[0m\n",
      "\u001b[31m[22:44:29] src/tree/updater_prune.cc:74: tree pruning end, 1 roots, 24 extra nodes, 38 pruned nodes, max_depth=9\u001b[0m\n",
      "\u001b[31m[78]#011train-rmse:0.327362#011validation-rmse:0.350311\u001b[0m\n",
      "\u001b[31m[22:44:31] src/tree/updater_prune.cc:74: tree pruning end, 1 roots, 18 extra nodes, 50 pruned nodes, max_depth=9\u001b[0m\n",
      "\u001b[31m[79]#011train-rmse:0.326801#011validation-rmse:0.349931\u001b[0m\n",
      "\u001b[31m[22:44:34] src/tree/updater_prune.cc:74: tree pruning end, 1 roots, 22 extra nodes, 32 pruned nodes, max_depth=9\u001b[0m\n",
      "\u001b[31m[80]#011train-rmse:0.326126#011validation-rmse:0.349283\u001b[0m\n",
      "\u001b[31m[22:44:37] src/tree/updater_prune.cc:74: tree pruning end, 1 roots, 20 extra nodes, 52 pruned nodes, max_depth=9\u001b[0m\n",
      "\u001b[31m[81]#011train-rmse:0.325575#011validation-rmse:0.348926\u001b[0m\n",
      "\u001b[31m[22:44:40] src/tree/updater_prune.cc:74: tree pruning end, 1 roots, 24 extra nodes, 38 pruned nodes, max_depth=9\u001b[0m\n",
      "\u001b[31m[82]#011train-rmse:0.324917#011validation-rmse:0.348513\u001b[0m\n",
      "\u001b[31m[22:44:42] src/tree/updater_prune.cc:74: tree pruning end, 1 roots, 24 extra nodes, 40 pruned nodes, max_depth=9\u001b[0m\n",
      "\u001b[31m[83]#011train-rmse:0.324326#011validation-rmse:0.348069\u001b[0m\n",
      "\u001b[31m[22:44:45] src/tree/updater_prune.cc:74: tree pruning end, 1 roots, 20 extra nodes, 34 pruned nodes, max_depth=9\u001b[0m\n",
      "\u001b[31m[84]#011train-rmse:0.323821#011validation-rmse:0.347833\u001b[0m\n",
      "\u001b[31m[22:44:48] src/tree/updater_prune.cc:74: tree pruning end, 1 roots, 26 extra nodes, 52 pruned nodes, max_depth=9\u001b[0m\n",
      "\u001b[31m[85]#011train-rmse:0.323216#011validation-rmse:0.347504\u001b[0m\n",
      "\u001b[31m[22:44:51] src/tree/updater_prune.cc:74: tree pruning end, 1 roots, 18 extra nodes, 48 pruned nodes, max_depth=9\u001b[0m\n",
      "\u001b[31m[86]#011train-rmse:0.322743#011validation-rmse:0.347143\u001b[0m\n",
      "\u001b[31m[22:44:53] src/tree/updater_prune.cc:74: tree pruning end, 1 roots, 18 extra nodes, 44 pruned nodes, max_depth=9\u001b[0m\n",
      "\u001b[31m[87]#011train-rmse:0.322148#011validation-rmse:0.346856\u001b[0m\n",
      "\u001b[31m[22:44:56] src/tree/updater_prune.cc:74: tree pruning end, 1 roots, 18 extra nodes, 36 pruned nodes, max_depth=9\u001b[0m\n",
      "\u001b[31m[88]#011train-rmse:0.321634#011validation-rmse:0.346398\u001b[0m\n",
      "\u001b[31m[22:44:59] src/tree/updater_prune.cc:74: tree pruning end, 1 roots, 32 extra nodes, 58 pruned nodes, max_depth=9\u001b[0m\n",
      "\u001b[31m[89]#011train-rmse:0.320899#011validation-rmse:0.345992\u001b[0m\n",
      "\u001b[31m[22:45:02] src/tree/updater_prune.cc:74: tree pruning end, 1 roots, 24 extra nodes, 32 pruned nodes, max_depth=9\u001b[0m\n",
      "\u001b[31m[90]#011train-rmse:0.320266#011validation-rmse:0.345647\u001b[0m\n",
      "\u001b[31m[22:45:04] src/tree/updater_prune.cc:74: tree pruning end, 1 roots, 22 extra nodes, 24 pruned nodes, max_depth=9\u001b[0m\n",
      "\u001b[31m[91]#011train-rmse:0.319716#011validation-rmse:0.345215\u001b[0m\n",
      "\u001b[31m[22:45:07] src/tree/updater_prune.cc:74: tree pruning end, 1 roots, 20 extra nodes, 24 pruned nodes, max_depth=9\u001b[0m\n",
      "\u001b[31m[92]#011train-rmse:0.319137#011validation-rmse:0.344742\u001b[0m\n",
      "\u001b[31m[22:45:10] src/tree/updater_prune.cc:74: tree pruning end, 1 roots, 18 extra nodes, 36 pruned nodes, max_depth=9\u001b[0m\n",
      "\u001b[31m[93]#011train-rmse:0.318593#011validation-rmse:0.344389\u001b[0m\n",
      "\u001b[31m[22:45:13] src/tree/updater_prune.cc:74: tree pruning end, 1 roots, 18 extra nodes, 42 pruned nodes, max_depth=9\u001b[0m\n",
      "\u001b[31m[94]#011train-rmse:0.318127#011validation-rmse:0.344259\u001b[0m\n",
      "\u001b[31m[22:45:15] src/tree/updater_prune.cc:74: tree pruning end, 1 roots, 18 extra nodes, 40 pruned nodes, max_depth=9\u001b[0m\n",
      "\u001b[31m[95]#011train-rmse:0.317654#011validation-rmse:0.343735\u001b[0m\n",
      "\u001b[31m[22:45:18] src/tree/updater_prune.cc:74: tree pruning end, 1 roots, 18 extra nodes, 30 pruned nodes, max_depth=9\u001b[0m\n",
      "\u001b[31m[96]#011train-rmse:0.317267#011validation-rmse:0.343453\u001b[0m\n",
      "\u001b[31m[22:45:21] src/tree/updater_prune.cc:74: tree pruning end, 1 roots, 18 extra nodes, 66 pruned nodes, max_depth=9\u001b[0m\n",
      "\u001b[31m[97]#011train-rmse:0.316781#011validation-rmse:0.343151\u001b[0m\n",
      "\u001b[31m[22:45:24] src/tree/updater_prune.cc:74: tree pruning end, 1 roots, 18 extra nodes, 30 pruned nodes, max_depth=9\u001b[0m\n",
      "\u001b[31m[98]#011train-rmse:0.316309#011validation-rmse:0.34266\u001b[0m\n",
      "\u001b[31m[22:45:27] src/tree/updater_prune.cc:74: tree pruning end, 1 roots, 24 extra nodes, 28 pruned nodes, max_depth=9\u001b[0m\n",
      "\u001b[31m[99]#011train-rmse:0.31573#011validation-rmse:0.342368\u001b[0m\n",
      "\u001b[31m[22:45:29] src/tree/updater_prune.cc:74: tree pruning end, 1 roots, 18 extra nodes, 12 pruned nodes, max_depth=9\u001b[0m\n",
      "\u001b[31m[100]#011train-rmse:0.315223#011validation-rmse:0.342019\u001b[0m\n",
      "\u001b[31m[22:45:32] src/tree/updater_prune.cc:74: tree pruning end, 1 roots, 18 extra nodes, 20 pruned nodes, max_depth=9\u001b[0m\n",
      "\u001b[31m[101]#011train-rmse:0.314752#011validation-rmse:0.3416\u001b[0m\n",
      "\u001b[31m[22:45:35] src/tree/updater_prune.cc:74: tree pruning end, 1 roots, 18 extra nodes, 10 pruned nodes, max_depth=9\u001b[0m\n",
      "\u001b[31m[102]#011train-rmse:0.314221#011validation-rmse:0.341141\u001b[0m\n",
      "\u001b[31m[22:45:38] src/tree/updater_prune.cc:74: tree pruning end, 1 roots, 18 extra nodes, 40 pruned nodes, max_depth=9\u001b[0m\n",
      "\u001b[31m[103]#011train-rmse:0.313766#011validation-rmse:0.340765\u001b[0m\n",
      "\u001b[31m[22:45:40] src/tree/updater_prune.cc:74: tree pruning end, 1 roots, 26 extra nodes, 30 pruned nodes, max_depth=9\u001b[0m\n",
      "\u001b[31m[104]#011train-rmse:0.313264#011validation-rmse:0.340583\u001b[0m\n",
      "\u001b[31m[22:45:43] src/tree/updater_prune.cc:74: tree pruning end, 1 roots, 18 extra nodes, 48 pruned nodes, max_depth=9\u001b[0m\n",
      "\u001b[31m[105]#011train-rmse:0.312879#011validation-rmse:0.340263\u001b[0m\n",
      "\u001b[31m[22:45:46] src/tree/updater_prune.cc:74: tree pruning end, 1 roots, 24 extra nodes, 32 pruned nodes, max_depth=9\u001b[0m\n",
      "\u001b[31m[106]#011train-rmse:0.312348#011validation-rmse:0.339969\u001b[0m\n",
      "\u001b[31m[22:45:49] src/tree/updater_prune.cc:74: tree pruning end, 1 roots, 18 extra nodes, 38 pruned nodes, max_depth=9\u001b[0m\n",
      "\u001b[31m[107]#011train-rmse:0.311956#011validation-rmse:0.339653\u001b[0m\n",
      "\u001b[31m[22:45:51] src/tree/updater_prune.cc:74: tree pruning end, 1 roots, 18 extra nodes, 26 pruned nodes, max_depth=9\u001b[0m\n",
      "\u001b[31m[108]#011train-rmse:0.311521#011validation-rmse:0.339309\u001b[0m\n",
      "\u001b[31m[22:45:54] src/tree/updater_prune.cc:74: tree pruning end, 1 roots, 18 extra nodes, 30 pruned nodes, max_depth=9\u001b[0m\n",
      "\u001b[31m[109]#011train-rmse:0.311131#011validation-rmse:0.33901\u001b[0m\n",
      "\u001b[31m[22:45:57] src/tree/updater_prune.cc:74: tree pruning end, 1 roots, 18 extra nodes, 48 pruned nodes, max_depth=9\u001b[0m\n",
      "\u001b[31m[110]#011train-rmse:0.310718#011validation-rmse:0.338927\u001b[0m\n",
      "\u001b[31m[22:46:00] src/tree/updater_prune.cc:74: tree pruning end, 1 roots, 22 extra nodes, 36 pruned nodes, max_depth=9\u001b[0m\n",
      "\u001b[31m[111]#011train-rmse:0.310308#011validation-rmse:0.338841\u001b[0m\n",
      "\u001b[31m[22:46:03] src/tree/updater_prune.cc:74: tree pruning end, 1 roots, 18 extra nodes, 30 pruned nodes, max_depth=9\u001b[0m\n",
      "\u001b[31m[112]#011train-rmse:0.309946#011validation-rmse:0.338633\u001b[0m\n",
      "\u001b[31m[22:46:05] src/tree/updater_prune.cc:74: tree pruning end, 1 roots, 22 extra nodes, 54 pruned nodes, max_depth=9\u001b[0m\n",
      "\u001b[31m[113]#011train-rmse:0.309513#011validation-rmse:0.338284\u001b[0m\n",
      "\u001b[31m[22:46:08] src/tree/updater_prune.cc:74: tree pruning end, 1 roots, 18 extra nodes, 34 pruned nodes, max_depth=9\u001b[0m\n",
      "\u001b[31m[114]#011train-rmse:0.309189#011validation-rmse:0.33802\u001b[0m\n",
      "\u001b[31m[22:46:11] src/tree/updater_prune.cc:74: tree pruning end, 1 roots, 18 extra nodes, 16 pruned nodes, max_depth=9\u001b[0m\n",
      "\u001b[31m[115]#011train-rmse:0.308767#011validation-rmse:0.337719\u001b[0m\n",
      "\u001b[31m[22:46:14] src/tree/updater_prune.cc:74: tree pruning end, 1 roots, 20 extra nodes, 24 pruned nodes, max_depth=9\u001b[0m\n",
      "\u001b[31m[116]#011train-rmse:0.308308#011validation-rmse:0.337459\u001b[0m\n",
      "\u001b[31m[22:46:16] src/tree/updater_prune.cc:74: tree pruning end, 1 roots, 18 extra nodes, 26 pruned nodes, max_depth=9\u001b[0m\n",
      "\u001b[31m[117]#011train-rmse:0.307964#011validation-rmse:0.337107\u001b[0m\n",
      "\u001b[31m[22:46:19] src/tree/updater_prune.cc:74: tree pruning end, 1 roots, 24 extra nodes, 48 pruned nodes, max_depth=9\u001b[0m\n",
      "\u001b[31m[118]#011train-rmse:0.307514#011validation-rmse:0.336915\u001b[0m\n",
      "\u001b[31m[22:46:22] src/tree/updater_prune.cc:74: tree pruning end, 1 roots, 22 extra nodes, 24 pruned nodes, max_depth=9\u001b[0m\n",
      "\u001b[31m[119]#011train-rmse:0.307125#011validation-rmse:0.336652\u001b[0m\n",
      "\u001b[31m[22:46:25] src/tree/updater_prune.cc:74: tree pruning end, 1 roots, 20 extra nodes, 28 pruned nodes, max_depth=9\u001b[0m\n",
      "\u001b[31m[120]#011train-rmse:0.306736#011validation-rmse:0.336234\u001b[0m\n",
      "\u001b[31m[22:46:27] src/tree/updater_prune.cc:74: tree pruning end, 1 roots, 18 extra nodes, 46 pruned nodes, max_depth=9\u001b[0m\n",
      "\u001b[31m[121]#011train-rmse:0.306436#011validation-rmse:0.336074\u001b[0m\n",
      "\u001b[31m[22:46:30] src/tree/updater_prune.cc:74: tree pruning end, 1 roots, 18 extra nodes, 34 pruned nodes, max_depth=9\u001b[0m\n",
      "\u001b[31m[122]#011train-rmse:0.30605#011validation-rmse:0.335814\u001b[0m\n",
      "\u001b[31m[22:46:33] src/tree/updater_prune.cc:74: tree pruning end, 1 roots, 18 extra nodes, 22 pruned nodes, max_depth=9\u001b[0m\n",
      "\u001b[31m[123]#011train-rmse:0.305659#011validation-rmse:0.335565\u001b[0m\n",
      "\u001b[31m[22:46:36] src/tree/updater_prune.cc:74: tree pruning end, 1 roots, 18 extra nodes, 32 pruned nodes, max_depth=9\u001b[0m\n",
      "\u001b[31m[124]#011train-rmse:0.305303#011validation-rmse:0.335328\u001b[0m\n",
      "\u001b[31m[22:46:39] src/tree/updater_prune.cc:74: tree pruning end, 1 roots, 18 extra nodes, 26 pruned nodes, max_depth=9\u001b[0m\n",
      "\u001b[31m[125]#011train-rmse:0.304952#011validation-rmse:0.335167\u001b[0m\n",
      "\u001b[31m[22:46:41] src/tree/updater_prune.cc:74: tree pruning end, 1 roots, 18 extra nodes, 46 pruned nodes, max_depth=9\u001b[0m\n",
      "\u001b[31m[126]#011train-rmse:0.304613#011validation-rmse:0.334875\u001b[0m\n",
      "\u001b[31m[22:46:44] src/tree/updater_prune.cc:74: tree pruning end, 1 roots, 18 extra nodes, 48 pruned nodes, max_depth=9\u001b[0m\n",
      "\u001b[31m[127]#011train-rmse:0.304209#011validation-rmse:0.334799\u001b[0m\n",
      "\u001b[31m[22:46:47] src/tree/updater_prune.cc:74: tree pruning end, 1 roots, 20 extra nodes, 30 pruned nodes, max_depth=8\u001b[0m\n",
      "\u001b[31m[128]#011train-rmse:0.303901#011validation-rmse:0.334705\u001b[0m\n",
      "\u001b[31m[22:46:50] src/tree/updater_prune.cc:74: tree pruning end, 1 roots, 18 extra nodes, 76 pruned nodes, max_depth=6\u001b[0m\n",
      "\u001b[31m[129]#011train-rmse:0.303589#011validation-rmse:0.334576\u001b[0m\n",
      "\u001b[31m[22:46:52] src/tree/updater_prune.cc:74: tree pruning end, 1 roots, 18 extra nodes, 22 pruned nodes, max_depth=9\u001b[0m\n",
      "\u001b[31m[130]#011train-rmse:0.303221#011validation-rmse:0.334316\u001b[0m\n",
      "\u001b[31m[22:46:55] src/tree/updater_prune.cc:74: tree pruning end, 1 roots, 22 extra nodes, 32 pruned nodes, max_depth=9\u001b[0m\n",
      "\u001b[31m[131]#011train-rmse:0.302783#011validation-rmse:0.334019\u001b[0m\n",
      "\u001b[31m[22:46:58] src/tree/updater_prune.cc:74: tree pruning end, 1 roots, 18 extra nodes, 24 pruned nodes, max_depth=9\u001b[0m\n",
      "\u001b[31m[132]#011train-rmse:0.302416#011validation-rmse:0.333817\u001b[0m\n",
      "\u001b[31m[22:47:01] src/tree/updater_prune.cc:74: tree pruning end, 1 roots, 24 extra nodes, 40 pruned nodes, max_depth=9\u001b[0m\n",
      "\u001b[31m[133]#011train-rmse:0.301901#011validation-rmse:0.333555\u001b[0m\n",
      "\u001b[31m[22:47:04] src/tree/updater_prune.cc:74: tree pruning end, 1 roots, 18 extra nodes, 6 pruned nodes, max_depth=9\u001b[0m\n",
      "\u001b[31m[134]#011train-rmse:0.301481#011validation-rmse:0.333371\u001b[0m\n",
      "\u001b[31m[22:47:06] src/tree/updater_prune.cc:74: tree pruning end, 1 roots, 20 extra nodes, 46 pruned nodes, max_depth=7\u001b[0m\n",
      "\u001b[31m[135]#011train-rmse:0.301092#011validation-rmse:0.333249\u001b[0m\n",
      "\u001b[31m[22:47:09] src/tree/updater_prune.cc:74: tree pruning end, 1 roots, 18 extra nodes, 28 pruned nodes, max_depth=9\u001b[0m\n",
      "\u001b[31m[136]#011train-rmse:0.300736#011validation-rmse:0.332981\u001b[0m\n",
      "\u001b[31m[22:47:12] src/tree/updater_prune.cc:74: tree pruning end, 1 roots, 24 extra nodes, 48 pruned nodes, max_depth=9\u001b[0m\n",
      "\u001b[31m[137]#011train-rmse:0.3003#011validation-rmse:0.332765\u001b[0m\n",
      "\u001b[31m[22:47:15] src/tree/updater_prune.cc:74: tree pruning end, 1 roots, 18 extra nodes, 16 pruned nodes, max_depth=9\u001b[0m\n",
      "\u001b[31m[138]#011train-rmse:0.29996#011validation-rmse:0.332575\u001b[0m\n",
      "\u001b[31m[22:47:17] src/tree/updater_prune.cc:74: tree pruning end, 1 roots, 18 extra nodes, 32 pruned nodes, max_depth=9\u001b[0m\n",
      "\u001b[31m[139]#011train-rmse:0.299575#011validation-rmse:0.332436\u001b[0m\n",
      "\u001b[31m[22:47:20] src/tree/updater_prune.cc:74: tree pruning end, 1 roots, 18 extra nodes, 22 pruned nodes, max_depth=9\u001b[0m\n",
      "\u001b[31m[140]#011train-rmse:0.299206#011validation-rmse:0.332188\u001b[0m\n",
      "\u001b[31m[22:47:23] src/tree/updater_prune.cc:74: tree pruning end, 1 roots, 18 extra nodes, 20 pruned nodes, max_depth=9\u001b[0m\n",
      "\u001b[31m[141]#011train-rmse:0.298904#011validation-rmse:0.331967\u001b[0m\n",
      "\u001b[31m[22:47:26] src/tree/updater_prune.cc:74: tree pruning end, 1 roots, 18 extra nodes, 16 pruned nodes, max_depth=9\u001b[0m\n",
      "\u001b[31m[142]#011train-rmse:0.298557#011validation-rmse:0.331763\u001b[0m\n",
      "\u001b[31m[22:47:29] src/tree/updater_prune.cc:74: tree pruning end, 1 roots, 18 extra nodes, 32 pruned nodes, max_depth=9\u001b[0m\n",
      "\u001b[31m[143]#011train-rmse:0.298279#011validation-rmse:0.331637\u001b[0m\n",
      "\u001b[31m[22:47:31] src/tree/updater_prune.cc:74: tree pruning end, 1 roots, 16 extra nodes, 52 pruned nodes, max_depth=7\u001b[0m\n",
      "\u001b[31m[144]#011train-rmse:0.297952#011validation-rmse:0.33146\u001b[0m\n",
      "\u001b[31m[22:47:34] src/tree/updater_prune.cc:74: tree pruning end, 1 roots, 14 extra nodes, 46 pruned nodes, max_depth=6\u001b[0m\n",
      "\u001b[31m[145]#011train-rmse:0.297688#011validation-rmse:0.331223\u001b[0m\n",
      "\u001b[31m[22:47:37] src/tree/updater_prune.cc:74: tree pruning end, 1 roots, 18 extra nodes, 48 pruned nodes, max_depth=8\u001b[0m\n",
      "\u001b[31m[146]#011train-rmse:0.297339#011validation-rmse:0.331073\u001b[0m\n",
      "\u001b[31m[22:47:40] src/tree/updater_prune.cc:74: tree pruning end, 1 roots, 24 extra nodes, 62 pruned nodes, max_depth=9\u001b[0m\n",
      "\u001b[31m[147]#011train-rmse:0.296906#011validation-rmse:0.330952\u001b[0m\n",
      "\u001b[31m[22:47:42] src/tree/updater_prune.cc:74: tree pruning end, 1 roots, 18 extra nodes, 24 pruned nodes, max_depth=9\u001b[0m\n",
      "\u001b[31m[148]#011train-rmse:0.296572#011validation-rmse:0.330691\u001b[0m\n",
      "\u001b[31m[22:47:45] src/tree/updater_prune.cc:74: tree pruning end, 1 roots, 18 extra nodes, 36 pruned nodes, max_depth=9\u001b[0m\n",
      "\u001b[31m[149]#011train-rmse:0.296269#011validation-rmse:0.330554\u001b[0m\n",
      "\u001b[31m[22:47:48] src/tree/updater_prune.cc:74: tree pruning end, 1 roots, 18 extra nodes, 24 pruned nodes, max_depth=9\u001b[0m\n",
      "\u001b[31m[150]#011train-rmse:0.295951#011validation-rmse:0.330389\u001b[0m\n",
      "\u001b[31m[22:47:51] src/tree/updater_prune.cc:74: tree pruning end, 1 roots, 18 extra nodes, 34 pruned nodes, max_depth=9\u001b[0m\n",
      "\u001b[31m[151]#011train-rmse:0.295586#011validation-rmse:0.3302\u001b[0m\n",
      "\u001b[31m[22:47:53] src/tree/updater_prune.cc:74: tree pruning end, 1 roots, 18 extra nodes, 32 pruned nodes, max_depth=9\u001b[0m\n",
      "\u001b[31m[152]#011train-rmse:0.295277#011validation-rmse:0.329961\u001b[0m\n",
      "\u001b[31m[22:47:56] src/tree/updater_prune.cc:74: tree pruning end, 1 roots, 18 extra nodes, 32 pruned nodes, max_depth=9\u001b[0m\n",
      "\u001b[31m[153]#011train-rmse:0.294959#011validation-rmse:0.329871\u001b[0m\n",
      "\u001b[31m[22:47:59] src/tree/updater_prune.cc:74: tree pruning end, 1 roots, 10 extra nodes, 66 pruned nodes, max_depth=5\u001b[0m\n",
      "\u001b[31m[154]#011train-rmse:0.294859#011validation-rmse:0.329756\u001b[0m\n",
      "\u001b[31m[22:48:02] src/tree/updater_prune.cc:74: tree pruning end, 1 roots, 18 extra nodes, 56 pruned nodes, max_depth=8\u001b[0m\n",
      "\u001b[31m[155]#011train-rmse:0.294519#011validation-rmse:0.329488\u001b[0m\n",
      "\u001b[31m[22:48:04] src/tree/updater_prune.cc:74: tree pruning end, 1 roots, 18 extra nodes, 42 pruned nodes, max_depth=9\u001b[0m\n",
      "\u001b[31m[156]#011train-rmse:0.294227#011validation-rmse:0.329228\u001b[0m\n",
      "\u001b[31m[22:48:07] src/tree/updater_prune.cc:74: tree pruning end, 1 roots, 16 extra nodes, 14 pruned nodes, max_depth=8\u001b[0m\n",
      "\u001b[31m[157]#011train-rmse:0.293984#011validation-rmse:0.329091\u001b[0m\n",
      "\u001b[31m[22:48:10] src/tree/updater_prune.cc:74: tree pruning end, 1 roots, 16 extra nodes, 28 pruned nodes, max_depth=8\u001b[0m\n",
      "\u001b[31m[158]#011train-rmse:0.293703#011validation-rmse:0.328843\u001b[0m\n",
      "\u001b[31m[22:48:13] src/tree/updater_prune.cc:74: tree pruning end, 1 roots, 10 extra nodes, 14 pruned nodes, max_depth=5\u001b[0m\n",
      "\u001b[31m[159]#011train-rmse:0.293552#011validation-rmse:0.328744\u001b[0m\n",
      "\u001b[31m[22:48:16] src/tree/updater_prune.cc:74: tree pruning end, 1 roots, 20 extra nodes, 20 pruned nodes, max_depth=9\u001b[0m\n",
      "\u001b[31m[160]#011train-rmse:0.293225#011validation-rmse:0.32849\u001b[0m\n",
      "\u001b[31m[22:48:18] src/tree/updater_prune.cc:74: tree pruning end, 1 roots, 12 extra nodes, 48 pruned nodes, max_depth=6\u001b[0m\n",
      "\u001b[31m[161]#011train-rmse:0.293055#011validation-rmse:0.328376\u001b[0m\n",
      "\u001b[31m[22:48:21] src/tree/updater_prune.cc:74: tree pruning end, 1 roots, 18 extra nodes, 18 pruned nodes, max_depth=9\u001b[0m\n",
      "\u001b[31m[162]#011train-rmse:0.292799#011validation-rmse:0.328166\u001b[0m\n",
      "\u001b[31m[22:48:24] src/tree/updater_prune.cc:74: tree pruning end, 1 roots, 18 extra nodes, 20 pruned nodes, max_depth=9\u001b[0m\n",
      "\u001b[31m[163]#011train-rmse:0.292479#011validation-rmse:0.327895\u001b[0m\n",
      "\u001b[31m[22:48:27] src/tree/updater_prune.cc:74: tree pruning end, 1 roots, 26 extra nodes, 18 pruned nodes, max_depth=9\u001b[0m\n",
      "\u001b[31m[164]#011train-rmse:0.292054#011validation-rmse:0.327818\u001b[0m\n",
      "\u001b[31m[22:48:29] src/tree/updater_prune.cc:74: tree pruning end, 1 roots, 18 extra nodes, 44 pruned nodes, max_depth=9\u001b[0m\n",
      "\u001b[31m[165]#011train-rmse:0.291793#011validation-rmse:0.327686\u001b[0m\n",
      "\u001b[31m[22:48:32] src/tree/updater_prune.cc:74: tree pruning end, 1 roots, 18 extra nodes, 8 pruned nodes, max_depth=9\u001b[0m\n",
      "\u001b[31m[166]#011train-rmse:0.291482#011validation-rmse:0.327511\u001b[0m\n",
      "\u001b[31m[22:48:35] src/tree/updater_prune.cc:74: tree pruning end, 1 roots, 16 extra nodes, 38 pruned nodes, max_depth=8\u001b[0m\n",
      "\u001b[31m[167]#011train-rmse:0.291221#011validation-rmse:0.327396\u001b[0m\n",
      "\u001b[31m[22:48:38] src/tree/updater_prune.cc:74: tree pruning end, 1 roots, 14 extra nodes, 38 pruned nodes, max_depth=7\u001b[0m\n",
      "\u001b[31m[168]#011train-rmse:0.290996#011validation-rmse:0.327314\u001b[0m\n",
      "\u001b[31m[22:48:41] src/tree/updater_prune.cc:74: tree pruning end, 1 roots, 16 extra nodes, 18 pruned nodes, max_depth=8\u001b[0m\n",
      "\u001b[31m[169]#011train-rmse:0.290705#011validation-rmse:0.327048\u001b[0m\n",
      "\u001b[31m[22:48:43] src/tree/updater_prune.cc:74: tree pruning end, 1 roots, 18 extra nodes, 14 pruned nodes, max_depth=9\u001b[0m\n",
      "\u001b[31m[170]#011train-rmse:0.290457#011validation-rmse:0.326855\u001b[0m\n",
      "\u001b[31m[22:48:46] src/tree/updater_prune.cc:74: tree pruning end, 1 roots, 18 extra nodes, 18 pruned nodes, max_depth=9\u001b[0m\n",
      "\u001b[31m[171]#011train-rmse:0.290201#011validation-rmse:0.326692\u001b[0m\n",
      "\u001b[31m[22:48:49] src/tree/updater_prune.cc:74: tree pruning end, 1 roots, 12 extra nodes, 28 pruned nodes, max_depth=6\u001b[0m\n",
      "\u001b[31m[172]#011train-rmse:0.290004#011validation-rmse:0.326534\u001b[0m\n",
      "\u001b[31m[22:48:52] src/tree/updater_prune.cc:74: tree pruning end, 1 roots, 12 extra nodes, 32 pruned nodes, max_depth=6\u001b[0m\n",
      "\u001b[31m[173]#011train-rmse:0.289826#011validation-rmse:0.326452\u001b[0m\n",
      "\u001b[31m[22:48:54] src/tree/updater_prune.cc:74: tree pruning end, 1 roots, 16 extra nodes, 16 pruned nodes, max_depth=8\u001b[0m\n",
      "\u001b[31m[174]#011train-rmse:0.289568#011validation-rmse:0.326274\u001b[0m\n",
      "\u001b[31m[22:48:57] src/tree/updater_prune.cc:74: tree pruning end, 1 roots, 14 extra nodes, 32 pruned nodes, max_depth=7\u001b[0m\n",
      "\u001b[31m[175]#011train-rmse:0.289318#011validation-rmse:0.326148\u001b[0m\n",
      "\u001b[31m[22:49:00] src/tree/updater_prune.cc:74: tree pruning end, 1 roots, 20 extra nodes, 28 pruned nodes, max_depth=9\u001b[0m\n",
      "\u001b[31m[176]#011train-rmse:0.288984#011validation-rmse:0.325893\u001b[0m\n",
      "\u001b[31m[22:49:03] src/tree/updater_prune.cc:74: tree pruning end, 1 roots, 16 extra nodes, 26 pruned nodes, max_depth=8\u001b[0m\n",
      "\u001b[31m[177]#011train-rmse:0.288758#011validation-rmse:0.325763\u001b[0m\n",
      "\u001b[31m[22:49:06] src/tree/updater_prune.cc:74: tree pruning end, 1 roots, 10 extra nodes, 28 pruned nodes, max_depth=5\u001b[0m\n",
      "\u001b[31m[178]#011train-rmse:0.288594#011validation-rmse:0.32561\u001b[0m\n",
      "\u001b[31m[22:49:08] src/tree/updater_prune.cc:74: tree pruning end, 1 roots, 16 extra nodes, 40 pruned nodes, max_depth=8\u001b[0m\n",
      "\u001b[31m[179]#011train-rmse:0.288419#011validation-rmse:0.325582\u001b[0m\n",
      "\u001b[31m[22:49:11] src/tree/updater_prune.cc:74: tree pruning end, 1 roots, 14 extra nodes, 40 pruned nodes, max_depth=7\u001b[0m\n",
      "\u001b[31m[180]#011train-rmse:0.288202#011validation-rmse:0.325511\u001b[0m\n",
      "\u001b[31m[22:49:14] src/tree/updater_prune.cc:74: tree pruning end, 1 roots, 18 extra nodes, 36 pruned nodes, max_depth=9\u001b[0m\n",
      "\u001b[31m[181]#011train-rmse:0.287917#011validation-rmse:0.32534\u001b[0m\n",
      "\u001b[31m[22:49:18] src/tree/updater_prune.cc:74: tree pruning end, 1 roots, 18 extra nodes, 18 pruned nodes, max_depth=9\u001b[0m\n",
      "\u001b[31m[182]#011train-rmse:0.287612#011validation-rmse:0.325205\u001b[0m\n",
      "\u001b[31m[22:49:20] src/tree/updater_prune.cc:74: tree pruning end, 1 roots, 12 extra nodes, 44 pruned nodes, max_depth=6\u001b[0m\n",
      "\u001b[31m[183]#011train-rmse:0.287429#011validation-rmse:0.325182\u001b[0m\n",
      "\u001b[31m[22:49:24] src/tree/updater_prune.cc:74: tree pruning end, 1 roots, 8 extra nodes, 50 pruned nodes, max_depth=4\u001b[0m\n",
      "\u001b[31m[184]#011train-rmse:0.287309#011validation-rmse:0.325139\u001b[0m\n",
      "\u001b[31m[22:49:26] src/tree/updater_prune.cc:74: tree pruning end, 1 roots, 16 extra nodes, 30 pruned nodes, max_depth=8\u001b[0m\n",
      "\u001b[31m[185]#011train-rmse:0.287059#011validation-rmse:0.325039\u001b[0m\n",
      "\u001b[31m[22:49:29] src/tree/updater_prune.cc:74: tree pruning end, 1 roots, 18 extra nodes, 20 pruned nodes, max_depth=9\u001b[0m\n",
      "\u001b[31m[186]#011train-rmse:0.286769#011validation-rmse:0.324874\u001b[0m\n",
      "\u001b[31m[22:49:32] src/tree/updater_prune.cc:74: tree pruning end, 1 roots, 18 extra nodes, 32 pruned nodes, max_depth=9\u001b[0m\n",
      "\u001b[31m[187]#011train-rmse:0.286507#011validation-rmse:0.324729\u001b[0m\n",
      "\u001b[31m[22:49:35] src/tree/updater_prune.cc:74: tree pruning end, 1 roots, 6 extra nodes, 30 pruned nodes, max_depth=3\u001b[0m\n",
      "\u001b[31m[188]#011train-rmse:0.286437#011validation-rmse:0.324694\u001b[0m\n",
      "\u001b[31m[22:49:37] src/tree/updater_prune.cc:74: tree pruning end, 1 roots, 12 extra nodes, 24 pruned nodes, max_depth=5\u001b[0m\n",
      "\u001b[31m[189]#011train-rmse:0.286299#011validation-rmse:0.32466\u001b[0m\n",
      "\u001b[31m[22:49:40] src/tree/updater_prune.cc:74: tree pruning end, 1 roots, 18 extra nodes, 36 pruned nodes, max_depth=8\u001b[0m\n",
      "\u001b[31m[190]#011train-rmse:0.286019#011validation-rmse:0.32466\u001b[0m\n",
      "\u001b[31m[22:49:43] src/tree/updater_prune.cc:74: tree pruning end, 1 roots, 12 extra nodes, 42 pruned nodes, max_depth=6\u001b[0m\n",
      "\u001b[31m[191]#011train-rmse:0.285857#011validation-rmse:0.324523\u001b[0m\n",
      "\u001b[31m[22:49:46] src/tree/updater_prune.cc:74: tree pruning end, 1 roots, 6 extra nodes, 36 pruned nodes, max_depth=3\u001b[0m\n",
      "\u001b[31m[192]#011train-rmse:0.285767#011validation-rmse:0.324483\u001b[0m\n",
      "\u001b[31m[22:49:48] src/tree/updater_prune.cc:74: tree pruning end, 1 roots, 20 extra nodes, 38 pruned nodes, max_depth=9\u001b[0m\n",
      "\u001b[31m[193]#011train-rmse:0.28554#011validation-rmse:0.324374\u001b[0m\n",
      "\u001b[31m[22:49:51] src/tree/updater_prune.cc:74: tree pruning end, 1 roots, 18 extra nodes, 14 pruned nodes, max_depth=9\u001b[0m\n",
      "\u001b[31m[194]#011train-rmse:0.285315#011validation-rmse:0.324256\u001b[0m\n",
      "\u001b[31m[22:49:54] src/tree/updater_prune.cc:74: tree pruning end, 1 roots, 20 extra nodes, 30 pruned nodes, max_depth=9\u001b[0m\n",
      "\u001b[31m[195]#011train-rmse:0.285034#011validation-rmse:0.324137\u001b[0m\n",
      "\u001b[31m[22:49:57] src/tree/updater_prune.cc:74: tree pruning end, 1 roots, 8 extra nodes, 38 pruned nodes, max_depth=4\u001b[0m\n",
      "\u001b[31m[196]#011train-rmse:0.284923#011validation-rmse:0.324027\u001b[0m\n",
      "\u001b[31m[22:49:59] src/tree/updater_prune.cc:74: tree pruning end, 1 roots, 18 extra nodes, 10 pruned nodes, max_depth=9\u001b[0m\n",
      "\u001b[31m[197]#011train-rmse:0.284675#011validation-rmse:0.323934\u001b[0m\n",
      "\u001b[31m[22:50:02] src/tree/updater_prune.cc:74: tree pruning end, 1 roots, 18 extra nodes, 42 pruned nodes, max_depth=9\u001b[0m\n",
      "\u001b[31m[198]#011train-rmse:0.284414#011validation-rmse:0.323835\u001b[0m\n",
      "\u001b[31m[22:50:05] src/tree/updater_prune.cc:74: tree pruning end, 1 roots, 16 extra nodes, 64 pruned nodes, max_depth=5\u001b[0m\n",
      "\u001b[31m[199]#011train-rmse:0.284165#011validation-rmse:0.323851\u001b[0m\n",
      "\u001b[31m[22:50:08] src/tree/updater_prune.cc:74: tree pruning end, 1 roots, 16 extra nodes, 34 pruned nodes, max_depth=8\u001b[0m\n",
      "\u001b[31m[200]#011train-rmse:0.283907#011validation-rmse:0.323676\u001b[0m\n",
      "\u001b[31m[22:50:10] src/tree/updater_prune.cc:74: tree pruning end, 1 roots, 2 extra nodes, 20 pruned nodes, max_depth=1\u001b[0m\n",
      "\u001b[31m[201]#011train-rmse:0.283871#011validation-rmse:0.323673\u001b[0m\n",
      "\u001b[31m[22:50:13] src/tree/updater_prune.cc:74: tree pruning end, 1 roots, 10 extra nodes, 44 pruned nodes, max_depth=5\u001b[0m\n",
      "\u001b[31m[202]#011train-rmse:0.283691#011validation-rmse:0.323541\u001b[0m\n",
      "\u001b[31m[22:50:16] src/tree/updater_prune.cc:74: tree pruning end, 1 roots, 18 extra nodes, 48 pruned nodes, max_depth=9\u001b[0m\n",
      "\u001b[31m[203]#011train-rmse:0.283432#011validation-rmse:0.32345\u001b[0m\n",
      "\u001b[31m[22:50:19] src/tree/updater_prune.cc:74: tree pruning end, 1 roots, 18 extra nodes, 34 pruned nodes, max_depth=9\u001b[0m\n",
      "\u001b[31m[204]#011train-rmse:0.283169#011validation-rmse:0.323315\u001b[0m\n",
      "\u001b[31m[22:50:21] src/tree/updater_prune.cc:74: tree pruning end, 1 roots, 20 extra nodes, 36 pruned nodes, max_depth=9\u001b[0m\n",
      "\u001b[31m[205]#011train-rmse:0.282903#011validation-rmse:0.323205\u001b[0m\n",
      "\u001b[31m[22:50:24] src/tree/updater_prune.cc:74: tree pruning end, 1 roots, 20 extra nodes, 4 pruned nodes, max_depth=9\u001b[0m\n",
      "\u001b[31m[206]#011train-rmse:0.282645#011validation-rmse:0.323138\u001b[0m\n",
      "\u001b[31m[22:50:27] src/tree/updater_prune.cc:74: tree pruning end, 1 roots, 10 extra nodes, 22 pruned nodes, max_depth=5\u001b[0m\n",
      "\u001b[31m[207]#011train-rmse:0.282521#011validation-rmse:0.323145\u001b[0m\n",
      "\u001b[31m[22:50:30] src/tree/updater_prune.cc:74: tree pruning end, 1 roots, 18 extra nodes, 20 pruned nodes, max_depth=9\u001b[0m\n",
      "\u001b[31m[208]#011train-rmse:0.282296#011validation-rmse:0.323077\u001b[0m\n",
      "\u001b[31m[22:50:32] src/tree/updater_prune.cc:74: tree pruning end, 1 roots, 4 extra nodes, 20 pruned nodes, max_depth=2\u001b[0m\n",
      "\u001b[31m[209]#011train-rmse:0.282253#011validation-rmse:0.323032\u001b[0m\n",
      "\u001b[31m[22:50:35] src/tree/updater_prune.cc:74: tree pruning end, 1 roots, 18 extra nodes, 66 pruned nodes, max_depth=9\u001b[0m\n",
      "\u001b[31m[210]#011train-rmse:0.282084#011validation-rmse:0.322888\u001b[0m\n",
      "\u001b[31m[22:50:38] src/tree/updater_prune.cc:74: tree pruning end, 1 roots, 10 extra nodes, 20 pruned nodes, max_depth=5\u001b[0m\n",
      "\u001b[31m[211]#011train-rmse:0.281885#011validation-rmse:0.32276\u001b[0m\n",
      "\u001b[31m[22:50:41] src/tree/updater_prune.cc:74: tree pruning end, 1 roots, 2 extra nodes, 52 pruned nodes, max_depth=1\u001b[0m\n",
      "\u001b[31m[212]#011train-rmse:0.281859#011validation-rmse:0.322756\u001b[0m\n",
      "\u001b[31m[22:50:43] src/tree/updater_prune.cc:74: tree pruning end, 1 roots, 8 extra nodes, 44 pruned nodes, max_depth=4\u001b[0m\n",
      "\u001b[31m[213]#011train-rmse:0.281752#011validation-rmse:0.322649\u001b[0m\n",
      "\u001b[31m[22:50:46] src/tree/updater_prune.cc:74: tree pruning end, 1 roots, 20 extra nodes, 36 pruned nodes, max_depth=9\u001b[0m\n",
      "\u001b[31m[214]#011train-rmse:0.281487#011validation-rmse:0.322545\u001b[0m\n",
      "\u001b[31m[22:50:49] src/tree/updater_prune.cc:74: tree pruning end, 1 roots, 2 extra nodes, 36 pruned nodes, max_depth=1\u001b[0m\n",
      "\u001b[31m[215]#011train-rmse:0.281455#011validation-rmse:0.322539\u001b[0m\n",
      "\u001b[31m[22:50:52] src/tree/updater_prune.cc:74: tree pruning end, 1 roots, 18 extra nodes, 26 pruned nodes, max_depth=9\u001b[0m\n",
      "\u001b[31m[216]#011train-rmse:0.281195#011validation-rmse:0.322335\u001b[0m\n",
      "\u001b[31m[22:50:54] src/tree/updater_prune.cc:74: tree pruning end, 1 roots, 8 extra nodes, 18 pruned nodes, max_depth=4\u001b[0m\n",
      "\u001b[31m[217]#011train-rmse:0.281081#011validation-rmse:0.322308\u001b[0m\n",
      "\u001b[31m[22:50:57] src/tree/updater_prune.cc:74: tree pruning end, 1 roots, 12 extra nodes, 24 pruned nodes, max_depth=6\u001b[0m\n",
      "\u001b[31m[218]#011train-rmse:0.280936#011validation-rmse:0.322211\u001b[0m\n",
      "\u001b[31m[22:51:00] src/tree/updater_prune.cc:74: tree pruning end, 1 roots, 4 extra nodes, 44 pruned nodes, max_depth=2\u001b[0m\n",
      "\u001b[31m[219]#011train-rmse:0.280892#011validation-rmse:0.322154\u001b[0m\n",
      "\u001b[31m[22:51:03] src/tree/updater_prune.cc:74: tree pruning end, 1 roots, 2 extra nodes, 20 pruned nodes, max_depth=1\u001b[0m\n",
      "\u001b[31m[220]#011train-rmse:0.280853#011validation-rmse:0.322113\u001b[0m\n",
      "\u001b[31m[22:51:06] src/tree/updater_prune.cc:74: tree pruning end, 1 roots, 18 extra nodes, 14 pruned nodes, max_depth=9\u001b[0m\n",
      "\u001b[31m[221]#011train-rmse:0.280595#011validation-rmse:0.321909\u001b[0m\n",
      "\u001b[31m[22:51:08] src/tree/updater_prune.cc:74: tree pruning end, 1 roots, 18 extra nodes, 22 pruned nodes, max_depth=9\u001b[0m\n",
      "\u001b[31m[222]#011train-rmse:0.280394#011validation-rmse:0.321754\u001b[0m\n",
      "\u001b[31m[22:51:11] src/tree/updater_prune.cc:74: tree pruning end, 1 roots, 6 extra nodes, 36 pruned nodes, max_depth=3\u001b[0m\n",
      "\u001b[31m[223]#011train-rmse:0.280326#011validation-rmse:0.321742\u001b[0m\n",
      "\u001b[31m[22:51:14] src/tree/updater_prune.cc:74: tree pruning end, 1 roots, 10 extra nodes, 48 pruned nodes, max_depth=4\u001b[0m\n",
      "\u001b[31m[224]#011train-rmse:0.280163#011validation-rmse:0.321627\u001b[0m\n",
      "\u001b[31m[22:51:17] src/tree/updater_prune.cc:74: tree pruning end, 1 roots, 16 extra nodes, 24 pruned nodes, max_depth=8\u001b[0m\n",
      "\u001b[31m[225]#011train-rmse:0.279932#011validation-rmse:0.321502\u001b[0m\n",
      "\u001b[31m[22:51:19] src/tree/updater_prune.cc:74: tree pruning end, 1 roots, 18 extra nodes, 22 pruned nodes, max_depth=9\u001b[0m\n",
      "\u001b[31m[226]#011train-rmse:0.279689#011validation-rmse:0.321395\u001b[0m\n",
      "\u001b[31m[22:51:22] src/tree/updater_prune.cc:74: tree pruning end, 1 roots, 18 extra nodes, 54 pruned nodes, max_depth=9\u001b[0m\n",
      "\u001b[31m[227]#011train-rmse:0.279517#011validation-rmse:0.321321\u001b[0m\n",
      "\u001b[31m[22:51:25] src/tree/updater_prune.cc:74: tree pruning end, 1 roots, 12 extra nodes, 32 pruned nodes, max_depth=6\u001b[0m\n",
      "\u001b[31m[228]#011train-rmse:0.27936#011validation-rmse:0.321279\u001b[0m\n",
      "\u001b[31m[22:51:28] src/tree/updater_prune.cc:74: tree pruning end, 1 roots, 18 extra nodes, 40 pruned nodes, max_depth=9\u001b[0m\n",
      "\u001b[31m[229]#011train-rmse:0.27914#011validation-rmse:0.321133\u001b[0m\n",
      "\u001b[31m[22:51:30] src/tree/updater_prune.cc:74: tree pruning end, 1 roots, 20 extra nodes, 18 pruned nodes, max_depth=9\u001b[0m\n",
      "\u001b[31m[230]#011train-rmse:0.278837#011validation-rmse:0.321004\u001b[0m\n",
      "\u001b[31m[22:51:33] src/tree/updater_prune.cc:74: tree pruning end, 1 roots, 4 extra nodes, 54 pruned nodes, max_depth=2\u001b[0m\n",
      "\u001b[31m[231]#011train-rmse:0.278788#011validation-rmse:0.320945\u001b[0m\n",
      "\u001b[31m[22:51:36] src/tree/updater_prune.cc:74: tree pruning end, 1 roots, 4 extra nodes, 44 pruned nodes, max_depth=2\u001b[0m\n",
      "\u001b[31m[232]#011train-rmse:0.27875#011validation-rmse:0.320888\u001b[0m\n",
      "\u001b[31m[22:51:39] src/tree/updater_prune.cc:74: tree pruning end, 1 roots, 0 extra nodes, 38 pruned nodes, max_depth=0\u001b[0m\n",
      "\u001b[31m[233]#011train-rmse:0.278754#011validation-rmse:0.320895\u001b[0m\n",
      "\u001b[31m[22:51:41] src/tree/updater_prune.cc:74: tree pruning end, 1 roots, 8 extra nodes, 52 pruned nodes, max_depth=4\u001b[0m\n",
      "\u001b[31m[234]#011train-rmse:0.278652#011validation-rmse:0.320829\u001b[0m\n",
      "\u001b[31m[22:51:44] src/tree/updater_prune.cc:74: tree pruning end, 1 roots, 8 extra nodes, 36 pruned nodes, max_depth=4\u001b[0m\n",
      "\u001b[31m[235]#011train-rmse:0.278558#011validation-rmse:0.320826\u001b[0m\n",
      "\u001b[31m[22:51:47] src/tree/updater_prune.cc:74: tree pruning end, 1 roots, 12 extra nodes, 22 pruned nodes, max_depth=6\u001b[0m\n",
      "\u001b[31m[236]#011train-rmse:0.278416#011validation-rmse:0.32082\u001b[0m\n",
      "\u001b[31m[22:51:50] src/tree/updater_prune.cc:74: tree pruning end, 1 roots, 18 extra nodes, 28 pruned nodes, max_depth=9\u001b[0m\n",
      "\u001b[31m[237]#011train-rmse:0.278161#011validation-rmse:0.320844\u001b[0m\n",
      "\u001b[31m[22:51:52] src/tree/updater_prune.cc:74: tree pruning end, 1 roots, 8 extra nodes, 32 pruned nodes, max_depth=4\u001b[0m\n",
      "\u001b[31m[238]#011train-rmse:0.27805#011validation-rmse:0.320817\u001b[0m\n",
      "\u001b[31m[22:51:55] src/tree/updater_prune.cc:74: tree pruning end, 1 roots, 14 extra nodes, 16 pruned nodes, max_depth=7\u001b[0m\n",
      "\u001b[31m[239]#011train-rmse:0.277864#011validation-rmse:0.320747\u001b[0m\n",
      "\u001b[31m[22:51:58] src/tree/updater_prune.cc:74: tree pruning end, 1 roots, 8 extra nodes, 26 pruned nodes, max_depth=4\u001b[0m\n",
      "\u001b[31m[240]#011train-rmse:0.277773#011validation-rmse:0.320721\u001b[0m\n",
      "\u001b[31m[22:52:01] src/tree/updater_prune.cc:74: tree pruning end, 1 roots, 4 extra nodes, 28 pruned nodes, max_depth=2\u001b[0m\n",
      "\u001b[31m[241]#011train-rmse:0.277736#011validation-rmse:0.320744\u001b[0m\n",
      "\u001b[31m[22:52:04] src/tree/updater_prune.cc:74: tree pruning end, 1 roots, 2 extra nodes, 40 pruned nodes, max_depth=1\u001b[0m\n",
      "\u001b[31m[242]#011train-rmse:0.277695#011validation-rmse:0.320713\u001b[0m\n",
      "\u001b[31m[22:52:06] src/tree/updater_prune.cc:74: tree pruning end, 1 roots, 8 extra nodes, 56 pruned nodes, max_depth=3\u001b[0m\n",
      "\u001b[31m[243]#011train-rmse:0.277593#011validation-rmse:0.320697\u001b[0m\n",
      "\u001b[31m[22:52:09] src/tree/updater_prune.cc:74: tree pruning end, 1 roots, 4 extra nodes, 32 pruned nodes, max_depth=2\u001b[0m\n",
      "\u001b[31m[244]#011train-rmse:0.277535#011validation-rmse:0.320635\u001b[0m\n",
      "\u001b[31m[22:52:12] src/tree/updater_prune.cc:74: tree pruning end, 1 roots, 16 extra nodes, 18 pruned nodes, max_depth=8\u001b[0m\n",
      "\u001b[31m[245]#011train-rmse:0.277295#011validation-rmse:0.320501\u001b[0m\n",
      "\u001b[31m[22:52:15] src/tree/updater_prune.cc:74: tree pruning end, 1 roots, 10 extra nodes, 26 pruned nodes, max_depth=5\u001b[0m\n",
      "\u001b[31m[246]#011train-rmse:0.277148#011validation-rmse:0.320512\u001b[0m\n",
      "\u001b[31m[22:52:17] src/tree/updater_prune.cc:74: tree pruning end, 1 roots, 6 extra nodes, 26 pruned nodes, max_depth=3\u001b[0m\n",
      "\u001b[31m[247]#011train-rmse:0.27708#011validation-rmse:0.32046\u001b[0m\n",
      "\u001b[31m[22:52:20] src/tree/updater_prune.cc:74: tree pruning end, 1 roots, 2 extra nodes, 54 pruned nodes, max_depth=1\u001b[0m\n",
      "\u001b[31m[248]#011train-rmse:0.277056#011validation-rmse:0.32045\u001b[0m\n",
      "\u001b[31m[22:52:23] src/tree/updater_prune.cc:74: tree pruning end, 1 roots, 16 extra nodes, 38 pruned nodes, max_depth=7\u001b[0m\n",
      "\u001b[31m[249]#011train-rmse:0.276866#011validation-rmse:0.320412\u001b[0m\n",
      "\u001b[31m[22:52:26] src/tree/updater_prune.cc:74: tree pruning end, 1 roots, 12 extra nodes, 42 pruned nodes, max_depth=6\u001b[0m\n",
      "\u001b[31m[250]#011train-rmse:0.276769#011validation-rmse:0.320313\u001b[0m\n",
      "\u001b[31m[22:52:28] src/tree/updater_prune.cc:74: tree pruning end, 1 roots, 2 extra nodes, 34 pruned nodes, max_depth=1\u001b[0m\n",
      "\u001b[31m[251]#011train-rmse:0.276733#011validation-rmse:0.320291\u001b[0m\n",
      "\u001b[31m[22:52:31] src/tree/updater_prune.cc:74: tree pruning end, 1 roots, 18 extra nodes, 40 pruned nodes, max_depth=9\u001b[0m\n",
      "\u001b[31m[252]#011train-rmse:0.27653#011validation-rmse:0.320058\u001b[0m\n",
      "\u001b[31m[22:52:34] src/tree/updater_prune.cc:74: tree pruning end, 1 roots, 6 extra nodes, 42 pruned nodes, max_depth=3\u001b[0m\n",
      "\u001b[31m[253]#011train-rmse:0.276474#011validation-rmse:0.319984\u001b[0m\n",
      "\u001b[31m[22:52:37] src/tree/updater_prune.cc:74: tree pruning end, 1 roots, 0 extra nodes, 36 pruned nodes, max_depth=0\u001b[0m\n",
      "\u001b[31m[254]#011train-rmse:0.276471#011validation-rmse:0.319979\u001b[0m\n",
      "\u001b[31m[22:52:39] src/tree/updater_prune.cc:74: tree pruning end, 1 roots, 10 extra nodes, 32 pruned nodes, max_depth=4\u001b[0m\n",
      "\u001b[31m[255]#011train-rmse:0.276305#011validation-rmse:0.319831\u001b[0m\n",
      "\u001b[31m[22:52:42] src/tree/updater_prune.cc:74: tree pruning end, 1 roots, 8 extra nodes, 36 pruned nodes, max_depth=4\u001b[0m\n",
      "\u001b[31m[256]#011train-rmse:0.276206#011validation-rmse:0.319715\u001b[0m\n",
      "\u001b[31m[22:52:45] src/tree/updater_prune.cc:74: tree pruning end, 1 roots, 0 extra nodes, 30 pruned nodes, max_depth=0\u001b[0m\n",
      "\u001b[31m[257]#011train-rmse:0.276209#011validation-rmse:0.31972\u001b[0m\n",
      "\u001b[31m[22:52:48] src/tree/updater_prune.cc:74: tree pruning end, 1 roots, 6 extra nodes, 54 pruned nodes, max_depth=3\u001b[0m\n",
      "\u001b[31m[258]#011train-rmse:0.276143#011validation-rmse:0.319649\u001b[0m\n",
      "\u001b[31m[22:52:50] src/tree/updater_prune.cc:74: tree pruning end, 1 roots, 12 extra nodes, 28 pruned nodes, max_depth=6\u001b[0m\n",
      "\u001b[31m[259]#011train-rmse:0.275992#011validation-rmse:0.319531\u001b[0m\n",
      "\u001b[31m[22:52:53] src/tree/updater_prune.cc:74: tree pruning end, 1 roots, 8 extra nodes, 38 pruned nodes, max_depth=4\u001b[0m\n",
      "\u001b[31m[260]#011train-rmse:0.275899#011validation-rmse:0.319416\u001b[0m\n",
      "\u001b[31m[22:52:56] src/tree/updater_prune.cc:74: tree pruning end, 1 roots, 6 extra nodes, 36 pruned nodes, max_depth=3\u001b[0m\n",
      "\u001b[31m[261]#011train-rmse:0.275818#011validation-rmse:0.31941\u001b[0m\n",
      "\u001b[31m[22:52:59] src/tree/updater_prune.cc:74: tree pruning end, 1 roots, 6 extra nodes, 48 pruned nodes, max_depth=3\u001b[0m\n",
      "\u001b[31m[262]#011train-rmse:0.275744#011validation-rmse:0.319382\u001b[0m\n",
      "\u001b[31m[22:53:01] src/tree/updater_prune.cc:74: tree pruning end, 1 roots, 4 extra nodes, 30 pruned nodes, max_depth=2\u001b[0m\n",
      "\u001b[31m[263]#011train-rmse:0.275686#011validation-rmse:0.319355\u001b[0m\n",
      "\u001b[31m[22:53:04] src/tree/updater_prune.cc:74: tree pruning end, 1 roots, 4 extra nodes, 58 pruned nodes, max_depth=2\u001b[0m\n",
      "\u001b[31m[264]#011train-rmse:0.275631#011validation-rmse:0.319346\u001b[0m\n",
      "\u001b[31m[22:53:07] src/tree/updater_prune.cc:74: tree pruning end, 1 roots, 10 extra nodes, 22 pruned nodes, max_depth=5\u001b[0m\n",
      "\u001b[31m[265]#011train-rmse:0.275519#011validation-rmse:0.319297\u001b[0m\n",
      "\u001b[31m[22:53:10] src/tree/updater_prune.cc:74: tree pruning end, 1 roots, 0 extra nodes, 42 pruned nodes, max_depth=0\u001b[0m\n",
      "\u001b[31m[266]#011train-rmse:0.275514#011validation-rmse:0.319289\u001b[0m\n",
      "\u001b[31m[22:53:12] src/tree/updater_prune.cc:74: tree pruning end, 1 roots, 18 extra nodes, 20 pruned nodes, max_depth=9\u001b[0m\n",
      "\u001b[31m[267]#011train-rmse:0.275319#011validation-rmse:0.319196\u001b[0m\n",
      "\u001b[31m[22:53:15] src/tree/updater_prune.cc:74: tree pruning end, 1 roots, 0 extra nodes, 34 pruned nodes, max_depth=0\u001b[0m\n",
      "\u001b[31m[268]#011train-rmse:0.275318#011validation-rmse:0.319193\u001b[0m\n",
      "\u001b[31m[22:53:18] src/tree/updater_prune.cc:74: tree pruning end, 1 roots, 8 extra nodes, 58 pruned nodes, max_depth=4\u001b[0m\n",
      "\u001b[31m[269]#011train-rmse:0.275206#011validation-rmse:0.319173\u001b[0m\n",
      "\u001b[31m[22:53:21] src/tree/updater_prune.cc:74: tree pruning end, 1 roots, 10 extra nodes, 30 pruned nodes, max_depth=5\u001b[0m\n",
      "\u001b[31m[270]#011train-rmse:0.275088#011validation-rmse:0.319113\u001b[0m\n",
      "\u001b[31m[22:53:23] src/tree/updater_prune.cc:74: tree pruning end, 1 roots, 2 extra nodes, 40 pruned nodes, max_depth=1\u001b[0m\n",
      "\u001b[31m[271]#011train-rmse:0.275078#011validation-rmse:0.319114\u001b[0m\n",
      "\u001b[31m[22:53:26] src/tree/updater_prune.cc:74: tree pruning end, 1 roots, 2 extra nodes, 44 pruned nodes, max_depth=1\u001b[0m\n",
      "\u001b[31m[272]#011train-rmse:0.275046#011validation-rmse:0.319126\u001b[0m\n",
      "\u001b[31m[22:53:29] src/tree/updater_prune.cc:74: tree pruning end, 1 roots, 0 extra nodes, 40 pruned nodes, max_depth=0\u001b[0m\n",
      "\u001b[31m[273]#011train-rmse:0.275048#011validation-rmse:0.31913\u001b[0m\n",
      "\u001b[31m[22:53:32] src/tree/updater_prune.cc:74: tree pruning end, 1 roots, 0 extra nodes, 30 pruned nodes, max_depth=0\u001b[0m\n",
      "\u001b[31m[274]#011train-rmse:0.27505#011validation-rmse:0.319132\u001b[0m\n",
      "\u001b[31m[22:53:34] src/tree/updater_prune.cc:74: tree pruning end, 1 roots, 4 extra nodes, 30 pruned nodes, max_depth=2\u001b[0m\n",
      "\u001b[31m[275]#011train-rmse:0.274995#011validation-rmse:0.319113\u001b[0m\n",
      "\u001b[31m[22:53:37] src/tree/updater_prune.cc:74: tree pruning end, 1 roots, 8 extra nodes, 38 pruned nodes, max_depth=4\u001b[0m\n",
      "\u001b[31m[276]#011train-rmse:0.274891#011validation-rmse:0.319122\u001b[0m\n",
      "\u001b[31m[22:53:40] src/tree/updater_prune.cc:74: tree pruning end, 1 roots, 14 extra nodes, 38 pruned nodes, max_depth=7\u001b[0m\n",
      "\u001b[31m[277]#011train-rmse:0.274756#011validation-rmse:0.318987\u001b[0m\n",
      "\u001b[31m[22:53:43] src/tree/updater_prune.cc:74: tree pruning end, 1 roots, 8 extra nodes, 44 pruned nodes, max_depth=3\u001b[0m\n",
      "\u001b[31m[278]#011train-rmse:0.274665#011validation-rmse:0.318978\u001b[0m\n",
      "\u001b[31m[22:53:45] src/tree/updater_prune.cc:74: tree pruning end, 1 roots, 8 extra nodes, 52 pruned nodes, max_depth=4\u001b[0m\n",
      "\u001b[31m[279]#011train-rmse:0.274555#011validation-rmse:0.31895\u001b[0m\n",
      "\u001b[31m[22:53:48] src/tree/updater_prune.cc:74: tree pruning end, 1 roots, 4 extra nodes, 26 pruned nodes, max_depth=2\u001b[0m\n",
      "\u001b[31m[280]#011train-rmse:0.274499#011validation-rmse:0.318945\u001b[0m\n",
      "\u001b[31m[22:53:51] src/tree/updater_prune.cc:74: tree pruning end, 1 roots, 14 extra nodes, 32 pruned nodes, max_depth=7\u001b[0m\n",
      "\u001b[31m[281]#011train-rmse:0.274297#011validation-rmse:0.318765\u001b[0m\n",
      "\u001b[31m[22:53:54] src/tree/updater_prune.cc:74: tree pruning end, 1 roots, 8 extra nodes, 20 pruned nodes, max_depth=4\u001b[0m\n",
      "\u001b[31m[282]#011train-rmse:0.27422#011validation-rmse:0.318697\u001b[0m\n",
      "\u001b[31m[22:53:56] src/tree/updater_prune.cc:74: tree pruning end, 1 roots, 0 extra nodes, 44 pruned nodes, max_depth=0\u001b[0m\n",
      "\u001b[31m[283]#011train-rmse:0.274217#011validation-rmse:0.318691\u001b[0m\n",
      "\u001b[31m[22:53:59] src/tree/updater_prune.cc:74: tree pruning end, 1 roots, 4 extra nodes, 44 pruned nodes, max_depth=2\u001b[0m\n",
      "\u001b[31m[284]#011train-rmse:0.27415#011validation-rmse:0.318713\u001b[0m\n",
      "\u001b[31m[22:54:02] src/tree/updater_prune.cc:74: tree pruning end, 1 roots, 0 extra nodes, 56 pruned nodes, max_depth=0\u001b[0m\n",
      "\u001b[31m[285]#011train-rmse:0.274148#011validation-rmse:0.31871\u001b[0m\n",
      "\u001b[31m[22:54:05] src/tree/updater_prune.cc:74: tree pruning end, 1 roots, 0 extra nodes, 24 pruned nodes, max_depth=0\u001b[0m\n",
      "\u001b[31m[286]#011train-rmse:0.27415#011validation-rmse:0.318713\u001b[0m\n",
      "\u001b[31m[22:54:07] src/tree/updater_prune.cc:74: tree pruning end, 1 roots, 14 extra nodes, 46 pruned nodes, max_depth=7\u001b[0m\n",
      "\u001b[31m[287]#011train-rmse:0.273987#011validation-rmse:0.318666\u001b[0m\n",
      "\u001b[31m[22:54:10] src/tree/updater_prune.cc:74: tree pruning end, 1 roots, 16 extra nodes, 44 pruned nodes, max_depth=8\u001b[0m\n",
      "\u001b[31m[288]#011train-rmse:0.273788#011validation-rmse:0.318558\u001b[0m\n",
      "\u001b[31m[22:54:13] src/tree/updater_prune.cc:74: tree pruning end, 1 roots, 2 extra nodes, 32 pruned nodes, max_depth=1\u001b[0m\n",
      "\u001b[31m[289]#011train-rmse:0.273758#011validation-rmse:0.318568\u001b[0m\n",
      "\u001b[31m[22:54:16] src/tree/updater_prune.cc:74: tree pruning end, 1 roots, 14 extra nodes, 32 pruned nodes, max_depth=6\u001b[0m\n",
      "\u001b[31m[290]#011train-rmse:0.273583#011validation-rmse:0.318428\u001b[0m\n",
      "\u001b[31m[22:54:19] src/tree/updater_prune.cc:74: tree pruning end, 1 roots, 0 extra nodes, 32 pruned nodes, max_depth=0\u001b[0m\n",
      "\u001b[31m[291]#011train-rmse:0.273579#011validation-rmse:0.318423\u001b[0m\n",
      "\u001b[31m[22:54:21] src/tree/updater_prune.cc:74: tree pruning end, 1 roots, 0 extra nodes, 24 pruned nodes, max_depth=0\u001b[0m\n",
      "\u001b[31m[292]#011train-rmse:0.273578#011validation-rmse:0.318421\u001b[0m\n",
      "\u001b[31m[22:54:24] src/tree/updater_prune.cc:74: tree pruning end, 1 roots, 2 extra nodes, 30 pruned nodes, max_depth=1\u001b[0m\n",
      "\u001b[31m[293]#011train-rmse:0.273556#011validation-rmse:0.318421\u001b[0m\n",
      "\u001b[31m[22:54:27] src/tree/updater_prune.cc:74: tree pruning end, 1 roots, 2 extra nodes, 22 pruned nodes, max_depth=1\u001b[0m\n",
      "\u001b[31m[294]#011train-rmse:0.273534#011validation-rmse:0.318434\u001b[0m\n",
      "\u001b[31m[22:54:30] src/tree/updater_prune.cc:74: tree pruning end, 1 roots, 16 extra nodes, 20 pruned nodes, max_depth=8\u001b[0m\n",
      "\u001b[31m[295]#011train-rmse:0.273334#011validation-rmse:0.318341\u001b[0m\n",
      "\u001b[31m[22:54:32] src/tree/updater_prune.cc:74: tree pruning end, 1 roots, 0 extra nodes, 36 pruned nodes, max_depth=0\u001b[0m\n",
      "\u001b[31m[296]#011train-rmse:0.273333#011validation-rmse:0.31834\u001b[0m\n",
      "\u001b[31m[22:54:35] src/tree/updater_prune.cc:74: tree pruning end, 1 roots, 0 extra nodes, 40 pruned nodes, max_depth=0\u001b[0m\n",
      "\u001b[31m[297]#011train-rmse:0.273334#011validation-rmse:0.318341\u001b[0m\n",
      "\u001b[31m[22:54:38] src/tree/updater_prune.cc:74: tree pruning end, 1 roots, 12 extra nodes, 38 pruned nodes, max_depth=6\u001b[0m\n",
      "\u001b[31m[298]#011train-rmse:0.273147#011validation-rmse:0.318277\u001b[0m\n",
      "\u001b[31m[22:54:41] src/tree/updater_prune.cc:74: tree pruning end, 1 roots, 0 extra nodes, 58 pruned nodes, max_depth=0\u001b[0m\n",
      "\u001b[31m[299]#011train-rmse:0.273147#011validation-rmse:0.318277\u001b[0m\n",
      "\u001b[31m[22:54:43] src/tree/updater_prune.cc:74: tree pruning end, 1 roots, 6 extra nodes, 48 pruned nodes, max_depth=3\u001b[0m\n",
      "\u001b[31m[300]#011train-rmse:0.273088#011validation-rmse:0.318191\u001b[0m\n",
      "\u001b[31m[22:54:46] src/tree/updater_prune.cc:74: tree pruning end, 1 roots, 4 extra nodes, 24 pruned nodes, max_depth=2\u001b[0m\n",
      "\u001b[31m[301]#011train-rmse:0.273037#011validation-rmse:0.318146\u001b[0m\n",
      "\u001b[31m[22:54:49] src/tree/updater_prune.cc:74: tree pruning end, 1 roots, 0 extra nodes, 38 pruned nodes, max_depth=0\u001b[0m\n",
      "\u001b[31m[302]#011train-rmse:0.273035#011validation-rmse:0.318144\u001b[0m\n",
      "\u001b[31m[22:54:52] src/tree/updater_prune.cc:74: tree pruning end, 1 roots, 0 extra nodes, 50 pruned nodes, max_depth=0\u001b[0m\n",
      "\u001b[31m[303]#011train-rmse:0.273037#011validation-rmse:0.318146\u001b[0m\n",
      "\u001b[31m[22:54:54] src/tree/updater_prune.cc:74: tree pruning end, 1 roots, 8 extra nodes, 30 pruned nodes, max_depth=4\u001b[0m\n",
      "\u001b[31m[304]#011train-rmse:0.272973#011validation-rmse:0.318223\u001b[0m\n",
      "\u001b[31m[22:54:57] src/tree/updater_prune.cc:74: tree pruning end, 1 roots, 8 extra nodes, 44 pruned nodes, max_depth=4\u001b[0m\n",
      "\u001b[31m[305]#011train-rmse:0.272874#011validation-rmse:0.318242\u001b[0m\n",
      "\u001b[31m[22:55:00] src/tree/updater_prune.cc:74: tree pruning end, 1 roots, 8 extra nodes, 40 pruned nodes, max_depth=4\u001b[0m\n",
      "\u001b[31m[306]#011train-rmse:0.272783#011validation-rmse:0.318179\u001b[0m\n",
      "\u001b[31m[22:55:03] src/tree/updater_prune.cc:74: tree pruning end, 1 roots, 18 extra nodes, 22 pruned nodes, max_depth=9\u001b[0m\n",
      "\u001b[31m[307]#011train-rmse:0.272605#011validation-rmse:0.318022\u001b[0m\n",
      "\u001b[31m[22:55:05] src/tree/updater_prune.cc:74: tree pruning end, 1 roots, 2 extra nodes, 42 pruned nodes, max_depth=1\u001b[0m\n",
      "\u001b[31m[308]#011train-rmse:0.272569#011validation-rmse:0.318006\u001b[0m\n",
      "\u001b[31m[22:55:08] src/tree/updater_prune.cc:74: tree pruning end, 1 roots, 0 extra nodes, 56 pruned nodes, max_depth=0\u001b[0m\n",
      "\u001b[31m[309]#011train-rmse:0.272569#011validation-rmse:0.318006\u001b[0m\n",
      "\u001b[31m[22:55:11] src/tree/updater_prune.cc:74: tree pruning end, 1 roots, 6 extra nodes, 46 pruned nodes, max_depth=3\u001b[0m\n",
      "\u001b[31m[310]#011train-rmse:0.272511#011validation-rmse:0.317988\u001b[0m\n",
      "\u001b[31m[22:55:14] src/tree/updater_prune.cc:74: tree pruning end, 1 roots, 4 extra nodes, 34 pruned nodes, max_depth=2\u001b[0m\n",
      "\u001b[31m[311]#011train-rmse:0.27245#011validation-rmse:0.318031\u001b[0m\n",
      "\u001b[31m[22:55:16] src/tree/updater_prune.cc:74: tree pruning end, 1 roots, 0 extra nodes, 36 pruned nodes, max_depth=0\u001b[0m\n",
      "\u001b[31m[312]#011train-rmse:0.272449#011validation-rmse:0.31803\u001b[0m\n",
      "\u001b[31m[22:55:19] src/tree/updater_prune.cc:74: tree pruning end, 1 roots, 2 extra nodes, 46 pruned nodes, max_depth=1\u001b[0m\n",
      "\u001b[31m[313]#011train-rmse:0.272414#011validation-rmse:0.318037\u001b[0m\n",
      "\u001b[31m[22:55:22] src/tree/updater_prune.cc:74: tree pruning end, 1 roots, 4 extra nodes, 42 pruned nodes, max_depth=2\u001b[0m\n",
      "\u001b[31m[314]#011train-rmse:0.272351#011validation-rmse:0.318047\u001b[0m\n",
      "\u001b[31m[22:55:25] src/tree/updater_prune.cc:74: tree pruning end, 1 roots, 10 extra nodes, 24 pruned nodes, max_depth=5\u001b[0m\n",
      "\u001b[31m[315]#011train-rmse:0.272259#011validation-rmse:0.318012\u001b[0m\n",
      "\u001b[31m[22:55:27] src/tree/updater_prune.cc:74: tree pruning end, 1 roots, 16 extra nodes, 14 pruned nodes, max_depth=8\u001b[0m\n",
      "\u001b[31m[316]#011train-rmse:0.272097#011validation-rmse:0.317893\u001b[0m\n",
      "\u001b[31m[22:55:30] src/tree/updater_prune.cc:74: tree pruning end, 1 roots, 0 extra nodes, 46 pruned nodes, max_depth=0\u001b[0m\n",
      "\u001b[31m[317]#011train-rmse:0.272097#011validation-rmse:0.317892\u001b[0m\n",
      "\u001b[31m[22:55:33] src/tree/updater_prune.cc:74: tree pruning end, 1 roots, 4 extra nodes, 20 pruned nodes, max_depth=2\u001b[0m\n",
      "\u001b[31m[318]#011train-rmse:0.272058#011validation-rmse:0.317864\u001b[0m\n",
      "\u001b[31m[22:55:36] src/tree/updater_prune.cc:74: tree pruning end, 1 roots, 14 extra nodes, 36 pruned nodes, max_depth=6\u001b[0m\n",
      "\u001b[31m[319]#011train-rmse:0.271871#011validation-rmse:0.317849\u001b[0m\n",
      "\u001b[31m[22:55:39] src/tree/updater_prune.cc:74: tree pruning end, 1 roots, 6 extra nodes, 36 pruned nodes, max_depth=3\u001b[0m\n",
      "\u001b[31m[320]#011train-rmse:0.27179#011validation-rmse:0.31782\u001b[0m\n",
      "\u001b[31m[22:55:41] src/tree/updater_prune.cc:74: tree pruning end, 1 roots, 0 extra nodes, 40 pruned nodes, max_depth=0\u001b[0m\n",
      "\u001b[31m[321]#011train-rmse:0.27179#011validation-rmse:0.31782\u001b[0m\n",
      "\u001b[31m[22:55:44] src/tree/updater_prune.cc:74: tree pruning end, 1 roots, 2 extra nodes, 34 pruned nodes, max_depth=1\u001b[0m\n",
      "\u001b[31m[322]#011train-rmse:0.271777#011validation-rmse:0.317825\u001b[0m\n",
      "\u001b[31m[22:55:47] src/tree/updater_prune.cc:74: tree pruning end, 1 roots, 0 extra nodes, 36 pruned nodes, max_depth=0\u001b[0m\n",
      "\u001b[31m[323]#011train-rmse:0.271777#011validation-rmse:0.317826\u001b[0m\n",
      "\u001b[31m[22:55:50] src/tree/updater_prune.cc:74: tree pruning end, 1 roots, 2 extra nodes, 24 pruned nodes, max_depth=1\u001b[0m\n",
      "\u001b[31m[324]#011train-rmse:0.271759#011validation-rmse:0.317851\u001b[0m\n",
      "\u001b[31m[22:55:52] src/tree/updater_prune.cc:74: tree pruning end, 1 roots, 8 extra nodes, 38 pruned nodes, max_depth=4\u001b[0m\n",
      "\u001b[31m[325]#011train-rmse:0.271672#011validation-rmse:0.317855\u001b[0m\n",
      "\u001b[31m[22:55:55] src/tree/updater_prune.cc:74: tree pruning end, 1 roots, 0 extra nodes, 38 pruned nodes, max_depth=0\u001b[0m\n",
      "\u001b[31m[326]#011train-rmse:0.27168#011validation-rmse:0.317866\u001b[0m\n",
      "\u001b[31m[22:55:58] src/tree/updater_prune.cc:74: tree pruning end, 1 roots, 8 extra nodes, 26 pruned nodes, max_depth=4\u001b[0m\n",
      "\u001b[31m[327]#011train-rmse:0.271565#011validation-rmse:0.31784\u001b[0m\n",
      "\u001b[31m[22:56:01] src/tree/updater_prune.cc:74: tree pruning end, 1 roots, 2 extra nodes, 36 pruned nodes, max_depth=1\u001b[0m\n",
      "\u001b[31m[328]#011train-rmse:0.271531#011validation-rmse:0.317833\u001b[0m\n",
      "\u001b[31m[22:56:03] src/tree/updater_prune.cc:74: tree pruning end, 1 roots, 0 extra nodes, 36 pruned nodes, max_depth=0\u001b[0m\n",
      "\u001b[31m[329]#011train-rmse:0.271526#011validation-rmse:0.317826\u001b[0m\n",
      "\u001b[31m[22:56:06] src/tree/updater_prune.cc:74: tree pruning end, 1 roots, 16 extra nodes, 26 pruned nodes, max_depth=8\u001b[0m\n",
      "\u001b[31m[330]#011train-rmse:0.271309#011validation-rmse:0.317678\u001b[0m\n",
      "\u001b[31m[22:56:09] src/tree/updater_prune.cc:74: tree pruning end, 1 roots, 0 extra nodes, 34 pruned nodes, max_depth=0\u001b[0m\n",
      "\u001b[31m[331]#011train-rmse:0.271308#011validation-rmse:0.317677\u001b[0m\n",
      "\u001b[31m[22:56:12] src/tree/updater_prune.cc:74: tree pruning end, 1 roots, 0 extra nodes, 28 pruned nodes, max_depth=0\u001b[0m\n",
      "\u001b[31m[332]#011train-rmse:0.271316#011validation-rmse:0.317688\u001b[0m\n",
      "\u001b[31m[22:56:15] src/tree/updater_prune.cc:74: tree pruning end, 1 roots, 12 extra nodes, 56 pruned nodes, max_depth=6\u001b[0m\n",
      "\u001b[31m[333]#011train-rmse:0.271142#011validation-rmse:0.317658\u001b[0m\n",
      "\u001b[31m[22:56:17] src/tree/updater_prune.cc:74: tree pruning end, 1 roots, 2 extra nodes, 32 pruned nodes, max_depth=1\u001b[0m\n",
      "\u001b[31m[334]#011train-rmse:0.27112#011validation-rmse:0.317652\u001b[0m\n",
      "\u001b[31m[22:56:20] src/tree/updater_prune.cc:74: tree pruning end, 1 roots, 4 extra nodes, 34 pruned nodes, max_depth=2\u001b[0m\n",
      "\u001b[31m[335]#011train-rmse:0.271074#011validation-rmse:0.317673\u001b[0m\n",
      "\u001b[31m[22:56:23] src/tree/updater_prune.cc:74: tree pruning end, 1 roots, 0 extra nodes, 48 pruned nodes, max_depth=0\u001b[0m\n",
      "\u001b[31m[336]#011train-rmse:0.271064#011validation-rmse:0.31766\u001b[0m\n",
      "\u001b[31m[22:56:26] src/tree/updater_prune.cc:74: tree pruning end, 1 roots, 0 extra nodes, 30 pruned nodes, max_depth=0\u001b[0m\n",
      "\u001b[31m[337]#011train-rmse:0.27106#011validation-rmse:0.317654\u001b[0m\n",
      "\u001b[31m[22:56:28] src/tree/updater_prune.cc:74: tree pruning end, 1 roots, 2 extra nodes, 30 pruned nodes, max_depth=1\u001b[0m\n",
      "\u001b[31m[338]#011train-rmse:0.271043#011validation-rmse:0.317624\u001b[0m\n",
      "\u001b[31m[22:56:31] src/tree/updater_prune.cc:74: tree pruning end, 1 roots, 0 extra nodes, 40 pruned nodes, max_depth=0\u001b[0m\n",
      "\u001b[31m[339]#011train-rmse:0.271043#011validation-rmse:0.317623\u001b[0m\n",
      "\u001b[31m[22:56:34] src/tree/updater_prune.cc:74: tree pruning end, 1 roots, 0 extra nodes, 36 pruned nodes, max_depth=0\u001b[0m\n",
      "\u001b[31m[340]#011train-rmse:0.271042#011validation-rmse:0.317623\u001b[0m\n",
      "\u001b[31m[22:56:37] src/tree/updater_prune.cc:74: tree pruning end, 1 roots, 2 extra nodes, 36 pruned nodes, max_depth=1\u001b[0m\n",
      "\u001b[31m[341]#011train-rmse:0.271027#011validation-rmse:0.317628\u001b[0m\n",
      "\u001b[31m[22:56:39] src/tree/updater_prune.cc:74: tree pruning end, 1 roots, 12 extra nodes, 54 pruned nodes, max_depth=6\u001b[0m\n",
      "\u001b[31m[342]#011train-rmse:0.270909#011validation-rmse:0.317524\u001b[0m\n",
      "\u001b[31m[22:56:42] src/tree/updater_prune.cc:74: tree pruning end, 1 roots, 0 extra nodes, 44 pruned nodes, max_depth=0\u001b[0m\n",
      "\u001b[31m[343]#011train-rmse:0.270908#011validation-rmse:0.317523\u001b[0m\n",
      "\u001b[31m[22:56:45] src/tree/updater_prune.cc:74: tree pruning end, 1 roots, 0 extra nodes, 30 pruned nodes, max_depth=0\u001b[0m\n",
      "\u001b[31m[344]#011train-rmse:0.270912#011validation-rmse:0.317529\u001b[0m\n",
      "\u001b[31m[22:56:48] src/tree/updater_prune.cc:74: tree pruning end, 1 roots, 4 extra nodes, 32 pruned nodes, max_depth=2\u001b[0m\n",
      "\u001b[31m[345]#011train-rmse:0.270857#011validation-rmse:0.317467\u001b[0m\n",
      "\u001b[31m[22:56:51] src/tree/updater_prune.cc:74: tree pruning end, 1 roots, 2 extra nodes, 38 pruned nodes, max_depth=1\u001b[0m\n",
      "\u001b[31m[346]#011train-rmse:0.270831#011validation-rmse:0.317465\u001b[0m\n",
      "\u001b[31m[22:56:53] src/tree/updater_prune.cc:74: tree pruning end, 1 roots, 10 extra nodes, 46 pruned nodes, max_depth=5\u001b[0m\n",
      "\u001b[31m[347]#011train-rmse:0.270696#011validation-rmse:0.31742\u001b[0m\n",
      "\u001b[31m[22:56:56] src/tree/updater_prune.cc:74: tree pruning end, 1 roots, 0 extra nodes, 30 pruned nodes, max_depth=0\u001b[0m\n",
      "\u001b[31m[348]#011train-rmse:0.270695#011validation-rmse:0.317417\u001b[0m\n",
      "\u001b[31m[22:56:59] src/tree/updater_prune.cc:74: tree pruning end, 1 roots, 6 extra nodes, 28 pruned nodes, max_depth=3\u001b[0m\n",
      "\u001b[31m[349]#011train-rmse:0.270617#011validation-rmse:0.317421\u001b[0m\n",
      "\u001b[31m[22:57:02] src/tree/updater_prune.cc:74: tree pruning end, 1 roots, 0 extra nodes, 24 pruned nodes, max_depth=0\u001b[0m\n",
      "\u001b[31m[350]#011train-rmse:0.270615#011validation-rmse:0.317418\u001b[0m\n",
      "\u001b[31m[22:57:04] src/tree/updater_prune.cc:74: tree pruning end, 1 roots, 12 extra nodes, 40 pruned nodes, max_depth=6\u001b[0m\n",
      "\u001b[31m[351]#011train-rmse:0.270514#011validation-rmse:0.317313\u001b[0m\n",
      "\u001b[31m[22:57:07] src/tree/updater_prune.cc:74: tree pruning end, 1 roots, 0 extra nodes, 36 pruned nodes, max_depth=0\u001b[0m\n",
      "\u001b[31m[352]#011train-rmse:0.270516#011validation-rmse:0.317316\u001b[0m\n",
      "\u001b[31m[22:57:10] src/tree/updater_prune.cc:74: tree pruning end, 1 roots, 0 extra nodes, 50 pruned nodes, max_depth=0\u001b[0m\n",
      "\u001b[31m[353]#011train-rmse:0.270515#011validation-rmse:0.317315\u001b[0m\n",
      "\u001b[31m[22:57:13] src/tree/updater_prune.cc:74: tree pruning end, 1 roots, 2 extra nodes, 24 pruned nodes, max_depth=1\u001b[0m\n",
      "\u001b[31m[354]#011train-rmse:0.270498#011validation-rmse:0.317316\u001b[0m\n",
      "\u001b[31m[22:57:15] src/tree/updater_prune.cc:74: tree pruning end, 1 roots, 0 extra nodes, 34 pruned nodes, max_depth=0\u001b[0m\n",
      "\u001b[31m[355]#011train-rmse:0.270503#011validation-rmse:0.317322\u001b[0m\n",
      "\u001b[31m[22:57:18] src/tree/updater_prune.cc:74: tree pruning end, 1 roots, 4 extra nodes, 32 pruned nodes, max_depth=2\u001b[0m\n",
      "\u001b[31m[356]#011train-rmse:0.270457#011validation-rmse:0.317299\u001b[0m\n",
      "\u001b[31m[22:57:21] src/tree/updater_prune.cc:74: tree pruning end, 1 roots, 4 extra nodes, 40 pruned nodes, max_depth=2\u001b[0m\n",
      "\u001b[31m[357]#011train-rmse:0.270431#011validation-rmse:0.317198\u001b[0m\n",
      "\u001b[31m[22:57:24] src/tree/updater_prune.cc:74: tree pruning end, 1 roots, 0 extra nodes, 42 pruned nodes, max_depth=0\u001b[0m\n",
      "\u001b[31m[358]#011train-rmse:0.27043#011validation-rmse:0.317196\u001b[0m\n",
      "\u001b[31m[22:57:26] src/tree/updater_prune.cc:74: tree pruning end, 1 roots, 6 extra nodes, 44 pruned nodes, max_depth=3\u001b[0m\n",
      "\u001b[31m[359]#011train-rmse:0.270381#011validation-rmse:0.317181\u001b[0m\n",
      "\u001b[31m[22:57:29] src/tree/updater_prune.cc:74: tree pruning end, 1 roots, 0 extra nodes, 52 pruned nodes, max_depth=0\u001b[0m\n",
      "\u001b[31m[360]#011train-rmse:0.270384#011validation-rmse:0.317186\u001b[0m\n",
      "\u001b[31m[22:57:32] src/tree/updater_prune.cc:74: tree pruning end, 1 roots, 16 extra nodes, 24 pruned nodes, max_depth=8\u001b[0m\n",
      "\u001b[31m[361]#011train-rmse:0.270197#011validation-rmse:0.317029\u001b[0m\n",
      "\u001b[31m[22:57:35] src/tree/updater_prune.cc:74: tree pruning end, 1 roots, 0 extra nodes, 34 pruned nodes, max_depth=0\u001b[0m\n",
      "\u001b[31m[362]#011train-rmse:0.270199#011validation-rmse:0.317031\u001b[0m\n",
      "\u001b[31m[22:57:37] src/tree/updater_prune.cc:74: tree pruning end, 1 roots, 0 extra nodes, 48 pruned nodes, max_depth=0\u001b[0m\n",
      "\u001b[31m[363]#011train-rmse:0.270194#011validation-rmse:0.317024\u001b[0m\n",
      "\u001b[31m[22:57:40] src/tree/updater_prune.cc:74: tree pruning end, 1 roots, 0 extra nodes, 50 pruned nodes, max_depth=0\u001b[0m\n",
      "\u001b[31m[364]#011train-rmse:0.270193#011validation-rmse:0.317023\u001b[0m\n",
      "\u001b[31m[22:57:43] src/tree/updater_prune.cc:74: tree pruning end, 1 roots, 0 extra nodes, 30 pruned nodes, max_depth=0\u001b[0m\n",
      "\u001b[31m[365]#011train-rmse:0.27019#011validation-rmse:0.317017\u001b[0m\n",
      "\u001b[31m[22:57:46] src/tree/updater_prune.cc:74: tree pruning end, 1 roots, 4 extra nodes, 46 pruned nodes, max_depth=2\u001b[0m\n",
      "\u001b[31m[366]#011train-rmse:0.27014#011validation-rmse:0.317017\u001b[0m\n",
      "\u001b[31m[22:57:48] src/tree/updater_prune.cc:74: tree pruning end, 1 roots, 8 extra nodes, 36 pruned nodes, max_depth=4\u001b[0m\n",
      "\u001b[31m[367]#011train-rmse:0.270056#011validation-rmse:0.316966\u001b[0m\n",
      "\u001b[31m[22:57:51] src/tree/updater_prune.cc:74: tree pruning end, 1 roots, 6 extra nodes, 34 pruned nodes, max_depth=3\u001b[0m\n",
      "\u001b[31m[368]#011train-rmse:0.269981#011validation-rmse:0.316921\u001b[0m\n",
      "\u001b[31m[22:57:54] src/tree/updater_prune.cc:74: tree pruning end, 1 roots, 6 extra nodes, 42 pruned nodes, max_depth=3\u001b[0m\n",
      "\u001b[31m[369]#011train-rmse:0.269895#011validation-rmse:0.316854\u001b[0m\n",
      "\u001b[31m[22:57:57] src/tree/updater_prune.cc:74: tree pruning end, 1 roots, 6 extra nodes, 24 pruned nodes, max_depth=3\u001b[0m\n",
      "\u001b[31m[370]#011train-rmse:0.269806#011validation-rmse:0.316819\u001b[0m\n",
      "\u001b[31m[22:58:00] src/tree/updater_prune.cc:74: tree pruning end, 1 roots, 0 extra nodes, 42 pruned nodes, max_depth=0\u001b[0m\n",
      "\u001b[31m[371]#011train-rmse:0.269804#011validation-rmse:0.316815\u001b[0m\n",
      "\u001b[31m[22:58:02] src/tree/updater_prune.cc:74: tree pruning end, 1 roots, 0 extra nodes, 34 pruned nodes, max_depth=0\u001b[0m\n",
      "\u001b[31m[372]#011train-rmse:0.269805#011validation-rmse:0.316817\u001b[0m\n",
      "\u001b[31m[22:58:05] src/tree/updater_prune.cc:74: tree pruning end, 1 roots, 18 extra nodes, 14 pruned nodes, max_depth=9\u001b[0m\n",
      "\u001b[31m[373]#011train-rmse:0.269639#011validation-rmse:0.316793\u001b[0m\n",
      "\u001b[31m[22:58:08] src/tree/updater_prune.cc:74: tree pruning end, 1 roots, 2 extra nodes, 30 pruned nodes, max_depth=1\u001b[0m\n",
      "\u001b[31m[374]#011train-rmse:0.269622#011validation-rmse:0.316789\u001b[0m\n",
      "\u001b[31m[22:58:11] src/tree/updater_prune.cc:74: tree pruning end, 1 roots, 2 extra nodes, 36 pruned nodes, max_depth=1\u001b[0m\n",
      "\u001b[31m[375]#011train-rmse:0.269608#011validation-rmse:0.316799\u001b[0m\n",
      "\u001b[31m[22:58:13] src/tree/updater_prune.cc:74: tree pruning end, 1 roots, 0 extra nodes, 44 pruned nodes, max_depth=0\u001b[0m\n",
      "\u001b[31m[376]#011train-rmse:0.269609#011validation-rmse:0.316802\u001b[0m\n",
      "\u001b[31m[22:58:16] src/tree/updater_prune.cc:74: tree pruning end, 1 roots, 16 extra nodes, 18 pruned nodes, max_depth=8\u001b[0m\n",
      "\u001b[31m[377]#011train-rmse:0.269437#011validation-rmse:0.316728\u001b[0m\n",
      "\u001b[31m[22:58:19] src/tree/updater_prune.cc:74: tree pruning end, 1 roots, 4 extra nodes, 22 pruned nodes, max_depth=2\u001b[0m\n",
      "\u001b[31m[378]#011train-rmse:0.26938#011validation-rmse:0.316743\u001b[0m\n",
      "\u001b[31m[22:58:22] src/tree/updater_prune.cc:74: tree pruning end, 1 roots, 12 extra nodes, 38 pruned nodes, max_depth=6\u001b[0m\n",
      "\u001b[31m[379]#011train-rmse:0.269219#011validation-rmse:0.31668\u001b[0m\n",
      "\u001b[31m[22:58:24] src/tree/updater_prune.cc:74: tree pruning end, 1 roots, 8 extra nodes, 42 pruned nodes, max_depth=4\u001b[0m\n",
      "\u001b[31m[380]#011train-rmse:0.26912#011validation-rmse:0.316615\u001b[0m\n",
      "\u001b[31m[22:58:27] src/tree/updater_prune.cc:74: tree pruning end, 1 roots, 18 extra nodes, 22 pruned nodes, max_depth=9\u001b[0m\n",
      "\u001b[31m[381]#011train-rmse:0.268951#011validation-rmse:0.316513\u001b[0m\n",
      "\u001b[31m[22:58:30] src/tree/updater_prune.cc:74: tree pruning end, 1 roots, 0 extra nodes, 28 pruned nodes, max_depth=0\u001b[0m\n",
      "\u001b[31m[382]#011train-rmse:0.268947#011validation-rmse:0.316506\u001b[0m\n",
      "\u001b[31m[22:58:33] src/tree/updater_prune.cc:74: tree pruning end, 1 roots, 0 extra nodes, 34 pruned nodes, max_depth=0\u001b[0m\n",
      "\u001b[31m[383]#011train-rmse:0.268946#011validation-rmse:0.316504\u001b[0m\n",
      "\u001b[31m[22:58:35] src/tree/updater_prune.cc:74: tree pruning end, 1 roots, 4 extra nodes, 36 pruned nodes, max_depth=2\u001b[0m\n",
      "\u001b[31m[384]#011train-rmse:0.268918#011validation-rmse:0.316501\u001b[0m\n",
      "\u001b[31m[22:58:38] src/tree/updater_prune.cc:74: tree pruning end, 1 roots, 0 extra nodes, 40 pruned nodes, max_depth=0\u001b[0m\n",
      "\u001b[31m[385]#011train-rmse:0.268919#011validation-rmse:0.316503\u001b[0m\n",
      "\u001b[31m[22:58:41] src/tree/updater_prune.cc:74: tree pruning end, 1 roots, 0 extra nodes, 46 pruned nodes, max_depth=0\u001b[0m\n",
      "\u001b[31m[386]#011train-rmse:0.26892#011validation-rmse:0.316505\u001b[0m\n",
      "\u001b[31m[22:58:44] src/tree/updater_prune.cc:74: tree pruning end, 1 roots, 4 extra nodes, 58 pruned nodes, max_depth=2\u001b[0m\n",
      "\u001b[31m[387]#011train-rmse:0.268874#011validation-rmse:0.316468\u001b[0m\n",
      "\u001b[31m[22:58:46] src/tree/updater_prune.cc:74: tree pruning end, 1 roots, 6 extra nodes, 40 pruned nodes, max_depth=3\u001b[0m\n",
      "\u001b[31m[388]#011train-rmse:0.268819#011validation-rmse:0.316484\u001b[0m\n",
      "\u001b[31m[22:58:49] src/tree/updater_prune.cc:74: tree pruning end, 1 roots, 0 extra nodes, 32 pruned nodes, max_depth=0\u001b[0m\n",
      "\u001b[31m[389]#011train-rmse:0.268821#011validation-rmse:0.316487\u001b[0m\n",
      "\u001b[31m[22:58:52] src/tree/updater_prune.cc:74: tree pruning end, 1 roots, 0 extra nodes, 40 pruned nodes, max_depth=0\u001b[0m\n",
      "\u001b[31m[390]#011train-rmse:0.268823#011validation-rmse:0.31649\u001b[0m\n",
      "\u001b[31m[22:58:55] src/tree/updater_prune.cc:74: tree pruning end, 1 roots, 6 extra nodes, 30 pruned nodes, max_depth=3\u001b[0m\n",
      "\u001b[31m[391]#011train-rmse:0.268745#011validation-rmse:0.316431\u001b[0m\n",
      "\u001b[31m[22:58:57] src/tree/updater_prune.cc:74: tree pruning end, 1 roots, 10 extra nodes, 52 pruned nodes, max_depth=5\u001b[0m\n",
      "\u001b[31m[392]#011train-rmse:0.268669#011validation-rmse:0.316312\u001b[0m\n",
      "\u001b[31m[22:59:00] src/tree/updater_prune.cc:74: tree pruning end, 1 roots, 8 extra nodes, 52 pruned nodes, max_depth=4\u001b[0m\n",
      "\u001b[31m[393]#011train-rmse:0.268573#011validation-rmse:0.316287\u001b[0m\n",
      "\u001b[31m[22:59:03] src/tree/updater_prune.cc:74: tree pruning end, 1 roots, 0 extra nodes, 50 pruned nodes, max_depth=0\u001b[0m\n",
      "\u001b[31m[394]#011train-rmse:0.268578#011validation-rmse:0.316294\u001b[0m\n",
      "\u001b[31m[22:59:06] src/tree/updater_prune.cc:74: tree pruning end, 1 roots, 0 extra nodes, 46 pruned nodes, max_depth=0\u001b[0m\n",
      "\u001b[31m[395]#011train-rmse:0.268577#011validation-rmse:0.316293\u001b[0m\n",
      "\u001b[31m[22:59:08] src/tree/updater_prune.cc:74: tree pruning end, 1 roots, 0 extra nodes, 34 pruned nodes, max_depth=0\u001b[0m\n",
      "\u001b[31m[396]#011train-rmse:0.268571#011validation-rmse:0.316283\u001b[0m\n",
      "\u001b[31m[22:59:11] src/tree/updater_prune.cc:74: tree pruning end, 1 roots, 0 extra nodes, 52 pruned nodes, max_depth=0\u001b[0m\n",
      "\u001b[31m[397]#011train-rmse:0.26857#011validation-rmse:0.316282\u001b[0m\n",
      "\u001b[31m[22:59:14] src/tree/updater_prune.cc:74: tree pruning end, 1 roots, 0 extra nodes, 40 pruned nodes, max_depth=0\u001b[0m\n",
      "\u001b[31m[398]#011train-rmse:0.26857#011validation-rmse:0.316281\u001b[0m\n",
      "\u001b[31m[22:59:17] src/tree/updater_prune.cc:74: tree pruning end, 1 roots, 0 extra nodes, 44 pruned nodes, max_depth=0\u001b[0m\n",
      "\u001b[31m[399]#011train-rmse:0.26857#011validation-rmse:0.316281\u001b[0m\n",
      "\u001b[31m[22:59:19] src/tree/updater_prune.cc:74: tree pruning end, 1 roots, 6 extra nodes, 38 pruned nodes, max_depth=3\u001b[0m\n",
      "\u001b[31m[400]#011train-rmse:0.268486#011validation-rmse:0.31631\u001b[0m\n",
      "\u001b[31m[22:59:22] src/tree/updater_prune.cc:74: tree pruning end, 1 roots, 10 extra nodes, 32 pruned nodes, max_depth=5\u001b[0m\n",
      "\u001b[31m[401]#011train-rmse:0.268359#011validation-rmse:0.316296\u001b[0m\n",
      "\u001b[31m[22:59:25] src/tree/updater_prune.cc:74: tree pruning end, 1 roots, 0 extra nodes, 46 pruned nodes, max_depth=0\u001b[0m\n",
      "\u001b[31m[402]#011train-rmse:0.268359#011validation-rmse:0.316296\u001b[0m\n",
      "\u001b[31m[22:59:28] src/tree/updater_prune.cc:74: tree pruning end, 1 roots, 0 extra nodes, 70 pruned nodes, max_depth=0\u001b[0m\n",
      "\u001b[31m[403]#011train-rmse:0.268361#011validation-rmse:0.3163\u001b[0m\n",
      "\u001b[31m[22:59:30] src/tree/updater_prune.cc:74: tree pruning end, 1 roots, 2 extra nodes, 34 pruned nodes, max_depth=1\u001b[0m\n",
      "\u001b[31m[404]#011train-rmse:0.268345#011validation-rmse:0.316276\u001b[0m\n",
      "\u001b[31m[22:59:33] src/tree/updater_prune.cc:74: tree pruning end, 1 roots, 4 extra nodes, 34 pruned nodes, max_depth=2\u001b[0m\n",
      "\u001b[31m[405]#011train-rmse:0.268319#011validation-rmse:0.316186\u001b[0m\n",
      "\u001b[31m[22:59:36] src/tree/updater_prune.cc:74: tree pruning end, 1 roots, 10 extra nodes, 26 pruned nodes, max_depth=5\u001b[0m\n",
      "\u001b[31m[406]#011train-rmse:0.26822#011validation-rmse:0.316171\u001b[0m\n",
      "\u001b[31m[22:59:39] src/tree/updater_prune.cc:74: tree pruning end, 1 roots, 0 extra nodes, 36 pruned nodes, max_depth=0\u001b[0m\n",
      "\u001b[31m[407]#011train-rmse:0.268214#011validation-rmse:0.316162\u001b[0m\n",
      "\u001b[31m[22:59:41] src/tree/updater_prune.cc:74: tree pruning end, 1 roots, 2 extra nodes, 36 pruned nodes, max_depth=1\u001b[0m\n",
      "\u001b[31m[408]#011train-rmse:0.268186#011validation-rmse:0.316173\u001b[0m\n",
      "\u001b[31m[22:59:44] src/tree/updater_prune.cc:74: tree pruning end, 1 roots, 2 extra nodes, 26 pruned nodes, max_depth=1\u001b[0m\n",
      "\u001b[31m[409]#011train-rmse:0.268163#011validation-rmse:0.316164\u001b[0m\n",
      "\u001b[31m[22:59:47] src/tree/updater_prune.cc:74: tree pruning end, 1 roots, 2 extra nodes, 30 pruned nodes, max_depth=1\u001b[0m\n",
      "\u001b[31m[410]#011train-rmse:0.268134#011validation-rmse:0.316151\u001b[0m\n",
      "\u001b[31m[22:59:50] src/tree/updater_prune.cc:74: tree pruning end, 1 roots, 0 extra nodes, 34 pruned nodes, max_depth=0\u001b[0m\n",
      "\u001b[31m[411]#011train-rmse:0.268138#011validation-rmse:0.316159\u001b[0m\n",
      "\u001b[31m[22:59:52] src/tree/updater_prune.cc:74: tree pruning end, 1 roots, 10 extra nodes, 24 pruned nodes, max_depth=5\u001b[0m\n",
      "\u001b[31m[412]#011train-rmse:0.268059#011validation-rmse:0.316043\u001b[0m\n",
      "\u001b[31m[22:59:55] src/tree/updater_prune.cc:74: tree pruning end, 1 roots, 0 extra nodes, 44 pruned nodes, max_depth=0\u001b[0m\n",
      "\u001b[31m[413]#011train-rmse:0.268061#011validation-rmse:0.316047\u001b[0m\n",
      "\u001b[31m[22:59:58] src/tree/updater_prune.cc:74: tree pruning end, 1 roots, 0 extra nodes, 36 pruned nodes, max_depth=0\u001b[0m\n",
      "\u001b[31m[414]#011train-rmse:0.268059#011validation-rmse:0.316043\u001b[0m\n",
      "\u001b[31m[23:00:01] src/tree/updater_prune.cc:74: tree pruning end, 1 roots, 2 extra nodes, 30 pruned nodes, max_depth=1\u001b[0m\n",
      "\u001b[31m[415]#011train-rmse:0.268037#011validation-rmse:0.316057\u001b[0m\n",
      "\u001b[31m[23:00:04] src/tree/updater_prune.cc:74: tree pruning end, 1 roots, 0 extra nodes, 32 pruned nodes, max_depth=0\u001b[0m\n",
      "\u001b[31m[416]#011train-rmse:0.268039#011validation-rmse:0.316061\u001b[0m\n",
      "\u001b[31m[23:00:06] src/tree/updater_prune.cc:74: tree pruning end, 1 roots, 0 extra nodes, 32 pruned nodes, max_depth=0\u001b[0m\n",
      "\u001b[31m[417]#011train-rmse:0.26804#011validation-rmse:0.316062\u001b[0m\n",
      "\u001b[31m[23:00:09] src/tree/updater_prune.cc:74: tree pruning end, 1 roots, 0 extra nodes, 48 pruned nodes, max_depth=0\u001b[0m\n",
      "\u001b[31m[418]#011train-rmse:0.268043#011validation-rmse:0.316067\u001b[0m\n",
      "\u001b[31m[23:00:12] src/tree/updater_prune.cc:74: tree pruning end, 1 roots, 0 extra nodes, 52 pruned nodes, max_depth=0\u001b[0m\n",
      "\u001b[31m[419]#011train-rmse:0.268039#011validation-rmse:0.31606\u001b[0m\n",
      "\u001b[31m[23:00:15] src/tree/updater_prune.cc:74: tree pruning end, 1 roots, 6 extra nodes, 46 pruned nodes, max_depth=3\u001b[0m\n",
      "\u001b[31m[420]#011train-rmse:0.267939#011validation-rmse:0.316046\u001b[0m\n",
      "\u001b[31m[23:00:17] src/tree/updater_prune.cc:74: tree pruning end, 1 roots, 0 extra nodes, 36 pruned nodes, max_depth=0\u001b[0m\n",
      "\u001b[31m[421]#011train-rmse:0.267944#011validation-rmse:0.316053\u001b[0m\n",
      "\u001b[31m[23:00:20] src/tree/updater_prune.cc:74: tree pruning end, 1 roots, 0 extra nodes, 54 pruned nodes, max_depth=0\u001b[0m\n",
      "\u001b[31m[422]#011train-rmse:0.26795#011validation-rmse:0.316062\u001b[0m\n",
      "\u001b[31mStopping. Best iteration:\u001b[0m\n",
      "\u001b[31m[412]#011train-rmse:0.268059#011validation-rmse:0.316043\n",
      "\u001b[0m\n",
      "Billable seconds: 1257\n"
     ]
    }
   ],
   "source": [
    "# Create a new estimator object attached to the best training job found during hyperparameter tuning\n",
    "xgb_attached = None\n",
    "\n",
    "xgb_attached = sagemaker.estimator.Estimator.attach(xgb_hyperparameter_tuner.best_training_job())"
   ]
  },
  {
   "cell_type": "code",
   "execution_count": 31,
   "metadata": {},
   "outputs": [
    {
     "name": "stderr",
     "output_type": "stream",
     "text": [
      "INFO:sagemaker:Creating model with name: xgboost-190125-2237-002-1e91cc7a\n"
     ]
    }
   ],
   "source": [
    "# To perform a Batch Transformation we need to first create a transformer objects from our trained estimator object.\n",
    "# Create a transformer object from the trained model. Using an instance count of 1 and \n",
    "# an instance type of ml.m4.xlarge should be more than enough.\n",
    "xgb_transformer = None\n",
    "\n",
    "xgb_transformer = xgb_attached.transformer(instance_count = 1, instance_type = 'ml.m4.xlarge')"
   ]
  },
  {
   "cell_type": "markdown",
   "metadata": {},
   "source": [
    "Next we actually perform the transform job. When doing so we need to make sure to specify the type of data we are sending so that it is serialized correctly in the background. In our case we are providing our model with csv data so we specify `text/csv`. Also, if the test data that we have provided is too large to process all at once then we need to specify how the data file should be split up. Since each line is a single entry in our data set we tell SageMaker that it can split the input on each line."
   ]
  },
  {
   "cell_type": "code",
   "execution_count": 32,
   "metadata": {},
   "outputs": [
    {
     "name": "stderr",
     "output_type": "stream",
     "text": [
      "INFO:sagemaker:Creating transform job with name: xgboost-190125-2237-002-1e91cc7a-2019-01-26-00-01-55-605\n"
     ]
    }
   ],
   "source": [
    "# Start the transform job. Make sure to specify the content type and the split type of the test data.\n",
    "xgb_transformer.transform(test_location, content_type='text/csv', split_type='Line')"
   ]
  },
  {
   "cell_type": "markdown",
   "metadata": {},
   "source": [
    "Currently the transform job is running but it is doing so in the background. Since we wish to wait until the transform job is done and we would like a bit of feedback we can run the `wait()` method."
   ]
  },
  {
   "cell_type": "code",
   "execution_count": 33,
   "metadata": {},
   "outputs": [
    {
     "name": "stdout",
     "output_type": "stream",
     "text": [
      "...........................................!\n"
     ]
    }
   ],
   "source": [
    "xgb_transformer.wait()"
   ]
  },
  {
   "cell_type": "markdown",
   "metadata": {},
   "source": [
    "Now the transform job has executed and the result, the estimated sentiment of each review, has been saved on S3. Since we would rather work on this file locally we can perform a bit of notebook magic to copy the file to the `data_dir`."
   ]
  },
  {
   "cell_type": "code",
   "execution_count": 34,
   "metadata": {},
   "outputs": [
    {
     "name": "stdout",
     "output_type": "stream",
     "text": [
      "Completed 256.0 KiB/370.6 KiB (3.4 MiB/s) with 1 file(s) remaining\r",
      "Completed 370.6 KiB/370.6 KiB (4.8 MiB/s) with 1 file(s) remaining\r",
      "download: s3://sagemaker-us-east-2-637354651523/xgboost-190125-2237-002-1e91cc7a-2019-01-26-00-01-55-605/test.csv.out to ../data/xgboost/test.csv.out\r\n"
     ]
    }
   ],
   "source": [
    "!aws s3 cp --recursive $xgb_transformer.output_path $data_dir"
   ]
  },
  {
   "cell_type": "markdown",
   "metadata": {},
   "source": [
    "The last step is now to read in the output from our model, convert the output to something a little more usable, in this case we want the sentiment to be either `1` (positive) or `0` (negative), and then compare to the ground truth labels."
   ]
  },
  {
   "cell_type": "code",
   "execution_count": 35,
   "metadata": {
    "collapsed": true
   },
   "outputs": [],
   "source": [
    "predictions = pd.read_csv(os.path.join(data_dir, 'test.csv.out'), header=None)\n",
    "predictions = [round(num) for num in predictions.squeeze().values]"
   ]
  },
  {
   "cell_type": "code",
   "execution_count": 36,
   "metadata": {},
   "outputs": [
    {
     "data": {
      "text/plain": [
       "0.86992"
      ]
     },
     "execution_count": 36,
     "metadata": {},
     "output_type": "execute_result"
    }
   ],
   "source": [
    "from sklearn.metrics import accuracy_score\n",
    "accuracy_score(test_y, predictions)"
   ]
  },
  {
   "cell_type": "markdown",
   "metadata": {},
   "source": [
    "## Step 8: Deploying the model\n",
    "\n",
    "Once we construct and fit our model, SageMaker stores the resulting model artifacts and we can use those to deploy an endpoint (inference code). To see this, look in the SageMaker console and you should see that a model has been created along with a link to the S3 location where the model artifacts have been stored.\n",
    "\n",
    "Deploying an endpoint is a lot like training the model with a few important differences. The first is that a deployed model doesn't change the model artifacts, so as you send it various testing instances the model won't change. Another difference is that since we aren't performing a fixed computation, as we were in the training step or while performing a batch transform, the compute instance that gets started stays running until we tell it to stop. This is important to note as if we forget and leave it running we will be charged the entire time.\n",
    "\n",
    "In other words **If you are no longer using a deployed endpoint, shut it down!**"
   ]
  },
  {
   "cell_type": "code",
   "execution_count": 38,
   "metadata": {},
   "outputs": [
    {
     "name": "stderr",
     "output_type": "stream",
     "text": [
      "INFO:sagemaker:Creating model with name: xgboost-2019-01-26-00-07-48-580\n",
      "INFO:sagemaker:Creating endpoint with name xgboost-190125-2237-002-1e91cc7a\n"
     ]
    },
    {
     "name": "stdout",
     "output_type": "stream",
     "text": [
      "--------------------------------------------------------------!"
     ]
    }
   ],
   "source": [
    "xgb_predictor = xgb_attached.deploy(initial_instance_count = 1, instance_type = 'ml.m4.xlarge')"
   ]
  },
  {
   "cell_type": "markdown",
   "metadata": {},
   "source": [
    "### Evaluating the model(again)\n",
    "\n",
    "Now that we have deployed our endpoint, we can send the testing data to it and get back the inference results. We already did this earlier using the batch transform functionality of SageMaker, however, we will test our model again using the newly deployed endpoint so that we can make sure that it works properly and to get a bit of a feel for how the endpoint works.\n",
    "\n",
    "When using the created endpoint it is important to know that we are limited in the amount of information we can send in each call so we need to break the testing data up into chunks and then send each chunk. Also, we need to serialize our data before we send it to the endpoint to ensure that our data is transmitted properly. Fortunately, SageMaker can do the serialization part for us provided we tell it the format of our data."
   ]
  },
  {
   "cell_type": "code",
   "execution_count": 39,
   "metadata": {
    "collapsed": true
   },
   "outputs": [],
   "source": [
    "from sagemaker.predictor import csv_serializer\n",
    "\n",
    "# We need to tell the endpoint what format the data we are sending is in so that SageMaker can perform the serialization.\n",
    "xgb_predictor.content_type = 'text/csv'\n",
    "xgb_predictor.serializer = csv_serializer"
   ]
  },
  {
   "cell_type": "code",
   "execution_count": 40,
   "metadata": {
    "collapsed": true
   },
   "outputs": [],
   "source": [
    "# We split the data into chunks and send each chunk seperately, accumulating the results.\n",
    "\n",
    "def predict(data, rows=512):\n",
    "    split_array = np.array_split(data, int(data.shape[0] / float(rows) + 1))\n",
    "    predictions = ''\n",
    "    for array in split_array:\n",
    "        predictions = ','.join([predictions, xgb_predictor.predict(array).decode('utf-8')])\n",
    "    \n",
    "    return np.fromstring(predictions[1:], sep=',')"
   ]
  },
  {
   "cell_type": "code",
   "execution_count": 41,
   "metadata": {
    "collapsed": true
   },
   "outputs": [],
   "source": [
    "test_X = pd.read_csv(os.path.join(data_dir, 'test.csv'), header=None).values\n",
    "\n",
    "evaluation = predict(test_X)\n",
    "evaluation = [round(num) for num in evaluation]"
   ]
  },
  {
   "cell_type": "code",
   "execution_count": 42,
   "metadata": {},
   "outputs": [
    {
     "data": {
      "text/plain": [
       "0.86992"
      ]
     },
     "execution_count": 42,
     "metadata": {},
     "output_type": "execute_result"
    }
   ],
   "source": [
    "from sklearn.metrics import accuracy_score\n",
    "accuracy_score(test_y, evaluation)"
   ]
  },
  {
   "cell_type": "markdown",
   "metadata": {},
   "source": [
    "## Step 9: Putting Model to Work"
   ]
  },
  {
   "cell_type": "markdown",
   "metadata": {},
   "source": [
    "Our goal is to access our model using a very simple web app. The intent is for this web app to take some user submitted data (a review), send it off to our endpoint (the model) and then display the result.\n",
    "\n",
    "* However, there is a small catch. Currently the only way we can access the endpoint to send it data is using the SageMaker API. We can, if we wish, expose the actual URL that our model's endpoint is receiving data from, however, if we just send it data ourselves we will not get anything in return. This is because the endpoint created by SageMaker requires the entity accessing it have the correct permissions. So, we would need to somehow authenticate our web app with AWS.\n",
    "\n",
    ">Having a website that authenticates to AWS seems a lot of work so we will opt for an alternative approach. Namely, we will create a new endpoint which does not require authentication and which acts as a proxy for the SageMaker endpoint.\n",
    "\n",
    "* As an additional constraint, we will try to avoid doing any data processing in the web app itself. Remember that when we constructed and tested our model we started with a movie review, then we simplified it by removing any html formatting and punctuation, then we constructed a bag of words embedding and the resulting vector is what we sent to our model. All of this needs to be done to our user input as well.\n",
    "\n",
    "Fortunately we can do all of this data processing in the backend, using Amazon's Lambda service and API Gateway\n",
    "\n",
    ">        APP <==> API GATEWAY == LAMBDA <==> MODEL\n",
    "\n",
    "The diagram above gives an overview of how the various services will work together. On the far right is the model which we trained above and which will be deployed using SageMaker. On the far left is our web app that collects a user's movie review, sends it off and expects a positive or negative sentiment in return.\n",
    "\n",
    "In the middle, we will construct a Lambda function, which you can think of as a straightforward Python function that can be executed whenever a specified event occurs. This Python function will do the data processing we need to perform on a user submitted review. In addition, we will give this function permission to send and recieve data from a SageMaker endpoint.\n",
    "\n",
    "Lastly, the method we will use to execute the Lambda function is a new endpoint that we will create using API Gateway. This endpoint will be a url that listens for data to be sent to it. Once it gets some data it will pass that data on to the Lambda function and then return whatever the Lambda function returns. Essentially it will act as an interface that lets our web app communicate with the Lambda function."
   ]
  },
  {
   "cell_type": "markdown",
   "metadata": {},
   "source": [
    "### Lambda Function\n",
    "1. Lambda function will recive the review(string) through webapp\n",
    "2. Then Lambda function need to do Text pre-processing steps:\n",
    "    1. Get rid of any html formatting and any punctuation in the string lambda function recieves. Also, Convert all text to lowercase and split into individual words. Function `review_to_words` will take care of this part\n",
    "    2. Word Tokenization: Create a vocabulary that assigns each unique word a numerical value or converts words into a vector of numbers ([bag of words](https://en.wikipedia.org/wiki/Bag-of-words_model)). Function `bow_encoding` will take care of that\n",
    "    > We can calculate the bad of words with cosine similairity (identical vectors will have cosine = 1). cosine similairity can be calculated as dot product/product of their magitude. [cos(theta) = a.b/(||a||.||b||)]\n",
    "    3. To send the bag of words encoding of user provided review we need a end point. For that we will use SageMaker interface itself. To do that, we will get an object which points to sage maker runtime.something like below...\n",
    "    > `runtime = boto3.Session().client('sagemaker-runtime')`\n",
    "    4. Now we use the SageMaker runtime to invoke our endpoint, sending the review we were given\n",
    "    5. For that we need convert list of integers that we got in the `bow` from `bow_encoding` function to a serialized object and then call to invoke our endpoint. You can see that below.\n",
    "    > response = runtime.invoke_endpoint(EndpointName = '***ENDPOINT NAME HERE***', ContentType = 'text/csv', Body = ','.join([str(val) for val in bow]).encode('utf-8'))"
   ]
  },
  {
   "cell_type": "markdown",
   "metadata": {},
   "source": [
    "Now, we are going to set up an HTTP endpoint through API Gateway which is open to the public. Then, whenever anyone sends data to our public endpoint we will trigger a Lambda function which will send the input (in our case a review) to our model's endpoint and then return the result."
   ]
  },
  {
   "cell_type": "markdown",
   "metadata": {},
   "source": [
    "### Setting up Lambda function\n",
    "\n",
    "#### Part A: Create an IAM Role for the Lambda function\n",
    "\n",
    "Since we want the Lambda function to call a SageMaker endpoint, we need to make sure that it has permission to do so. To do this, we will construct a role that we can later give the Lambda function.\n",
    "\n",
    "- Using the AWS Console, navigate to the **IAM** page\n",
    "- click on **Roles**. Then, click on **Create role**. \n",
    "- Make sure that the **AWS service** is the type of trusted entity selected \n",
    "- choose **Lambda** as the service that will use this role, then click **Next: Permissions**.\n",
    "- In the search box type `sagemaker` and select the check box next to the **AmazonSageMakerFullAccess** policy. Then, click on **Next: Review**.\n",
    "- Lastly, give this role a name. Make sure you use a name that you will remember later on, for example `LambdaSageMakerRole`. Then, click on **Create role**."
   ]
  },
  {
   "cell_type": "markdown",
   "metadata": {},
   "source": [
    "#### Part B: Create a Lambda function\n",
    "\n",
    "Remember from earlier that in order to process the user provided input and send it to our endpoint we need to gather two pieces of information:\n",
    "\n",
    " - The name of the endpoint, and\n",
    " - the vocabulary object.\n",
    "\n",
    "We will copy these pieces of information to our Lambda function after we create it.\n",
    "\n",
    "- Using the AWS Console, navigate to the AWS Lambda page and click on **Create a function**. \n",
    "- When you get to the next page, make sure that **Author from scratch** is selected. \n",
    "- Now, name your Lambda function, using a name that you will remember later on, for example `sentiment_analysis_xgboost_func`. \n",
    "- Make sure that the **Python 3.6** runtime is selected and then choose the role that you created in the previous part. Then, click on **Create Function**.\n",
    "- Function is now created. If you scroll down you should see an editor in which you can write the code that will be executed when your Lambda function is triggered.\n",
    "- Now copy and past below `Lambda_handler`\n",
    "\n",
    "```python\n",
    "# We need to use the low-level library to interact with SageMaker since the SageMaker API\n",
    "# is not available natively through Lambda.\n",
    "import boto3\n",
    "\n",
    "# And we need the regular expression library to do some of the data processing\n",
    "import re\n",
    "\n",
    "REPLACE_NO_SPACE = re.compile(\"(\\.)|(\\;)|(\\:)|(\\!)|(\\')|(\\?)|(\\,)|(\\\")|(\\()|(\\))|(\\[)|(\\])\")\n",
    "REPLACE_WITH_SPACE = re.compile(\"(<br\\s*/><br\\s*/>)|(\\-)|(\\/)\")\n",
    "\n",
    "def review_to_words(review):\n",
    "    words = REPLACE_NO_SPACE.sub(\"\", review.lower())\n",
    "    words = REPLACE_WITH_SPACE.sub(\" \", words)\n",
    "    return words\n",
    "    \n",
    "def bow_encoding(words, vocabulary):\n",
    "    bow = [0] * len(vocabulary) # Start by setting the count for each word in the vocabulary to zero.\n",
    "    for word in words.split():  # For each word in the string\n",
    "        if word in vocabulary:  # If the word is one that occurs in the vocabulary, increase its count.\n",
    "            bow[vocabulary[word]] += 1\n",
    "    return bow\n",
    "\n",
    "\n",
    "def lambda_handler(event, context):\n",
    "    \n",
    "    vocab = \"*** ACTUAL VOCABULARY GOES HERE ***\"\n",
    "    \n",
    "    words = review_to_words(event['body'])\n",
    "    bow = bow_encoding(words, vocab)\n",
    "\n",
    "    # The SageMaker runtime is what allows us to invoke the endpoint that we've created.\n",
    "    runtime = boto3.Session().client('sagemaker-runtime')\n",
    "\n",
    "    # Now we use the SageMaker runtime to invoke our endpoint, sending the review we were given\n",
    "    response = runtime.invoke_endpoint(EndpointName = '***ENDPOINT NAME HERE***',# The name of the endpoint we created\n",
    "                                       ContentType = 'text/csv',                 # The data format that is expected\n",
    "                                       Body = ','.join([str(val) for val in bow]).encode('utf-8')) # The actual review\n",
    "\n",
    "    # The response is an HTTP response whose body contains the result of our inference\n",
    "    result = response['Body'].read().decode('utf-8')\n",
    "    \n",
    "    # Round the result so that our web app only gets '1' or '0' as a response.\n",
    "    result = round(float(result))\n",
    "\n",
    "    return {\n",
    "        'statusCode' : 200,\n",
    "        'headers' : { 'Content-Type' : 'text/plain', 'Access-Control-Allow-Origin' : '*' },\n",
    "        'body' : str(result)\n",
    "    }\n",
    "```"
   ]
  },
  {
   "cell_type": "markdown",
   "metadata": {},
   "source": [
    "We need to add two things to this lambda handler\n",
    "- Name of the end point. We will get that by running `xgb_predictor.endpoint`.\n",
    "- VOCABULARY object. for that we can print `print(str(vocabulary))`"
   ]
  },
  {
   "cell_type": "code",
   "execution_count": 43,
   "metadata": {},
   "outputs": [
    {
     "data": {
      "text/plain": [
       "'xgboost-190125-2237-002-1e91cc7a'"
      ]
     },
     "execution_count": 43,
     "metadata": {},
     "output_type": "execute_result"
    }
   ],
   "source": [
    "xgb_predictor.endpoint"
   ]
  },
  {
   "cell_type": "code",
   "execution_count": 44,
   "metadata": {},
   "outputs": [
    {
     "name": "stdout",
     "output_type": "stream",
     "text": [
      "{'spoiler': 4197, 'read': 3603, 'jame': 2426, 'cain': 699, 'novel': 3103, 'alway': 229, 'ring': 3752, 'twice': 4636, 'movi': 2972, 'base': 437, 'cannot': 723, 'compar': 969, 'film': 1750, 'version': 4763, 'seen': 3926, 'love': 2709, 'us': 4721, 'also': 222, 'entitl': 1560, 'even': 1597, 'better': 502, 'gem': 1927, 'itali': 2413, 'edit': 1475, 'mani': 2766, 'blatant': 540, 'refer': 3640, 'fascist': 1700, 'well': 4872, 'matter': 2809, 'left': 2614, 'fine': 1757, 'piec': 3328, 'cinema': 871, 'appar': 291, 'neo': 3041, 'realist': 3609, 'movement': 2971, 'make': 2757, 'one': 3155, 'certainli': 791, 'see': 3920, 'despit': 1278, 'whatev': 4883, 'harsh': 2104, 'go': 1975, 'sens': 3938, 'cultur': 1142, 'person': 3297, 'oppress': 3166, 'remain': 3670, 'hang': 2087, 'heavi': 2129, 'protagonist': 3505, 'therefor': 4480, 'face': 1664, 'limit': 2657, 'life': 2646, 'consid': 1019, 'young': 4989, 'educ': 1477, 'resort': 3706, 'away': 393, 'steal': 4242, 'con': 989, 'peopl': 3283, 'order': 3169, 'get': 1944, 'pair': 3220, 'shoe': 4004, 'virtual': 4792, 'useless': 4724, 'way': 4851, 'yet': 4986, 'kept': 2518, 'marriag': 2788, 'older': 3149, 'man': 2763, 'money': 2937, 'job': 2460, 'work': 4944, 'husband': 2247, 'slave': 4083, 'behind': 478, 'bar': 429, 'kitchen': 2536, 'sex': 3967, 'past': 3258, 'option': 3167, 'decid': 1215, 'marri': 2787, 'restaur': 3712, 'ga': 1901, 'station': 4238, 'owner': 3206, 'play': 3352, 'de': 1197, 'anyway': 285, 'know': 2545, 'would': 4957, 'happi': 2091, 'tell': 4449, 'feel': 1721, 'sick': 4024, 'everi': 1601, 'time': 4519, 'touch': 4559, 'help': 2141, 'fix': 1772, 'car': 734, 'send': 3936, 'villag': 4784, 'buy': 691, 'need': 3030, 'part': 3245, 'fact': 1667, 'pocket': 3364, 'win': 4914, 'favor': 1709, 'promis': 3491, 'broken': 644, 'water': 4847, 'symbol': 4395, 'lack': 2563, 'alon': 217, 'immedi': 2280, 'start': 4233, 'heat': 2127, 'passion': 3257, 'affair': 164, 'soon': 4140, 'relationship': 3658, 'move': 2970, 'propos': 3503, 'dispos': 1348, 'want': 4830, 'leav': 2610, 'town': 4565, 'train': 4578, 'ride': 3747, 'afford': 167, 'paid': 3216, 'anoth': 268, 'type': 4642, 'name': 3006, 'fellow': 1725, 'passeng': 3256, 'repres': 3690, 'sort': 4147, 'freedom': 1860, 'becom': 467, 'friend': 1868, 'moral': 2952, 'conscienc': 1014, 'travel': 4592, 'find': 1756, 'togeth': 4532, 'final': 1753, 'steadi': 4241, 'employ': 1523, 'month': 2945, 'pass': 3253, 'wife': 4905, 'persuad': 3300, 'back': 405, 'home': 2188, 'live': 2677, 'around': 316, 'weak': 4854, 'will': 4910, 'resist': 3702, 'reunit': 3725, 'agre': 180, 'goe': 1980, 'stay': 4240, 'coupl': 1083, 'give': 1959, 'gina': 1955, 'demand': 1246, 'rid': 3745, 'evil': 1608, 'deed': 1222, 'done': 1377, 'cold': 934, 'blood': 552, 'ever': 1600, 'seem': 3924, 'littl': 2675, 'guilt': 2054, 'shame': 3978, 'eat': 1463, 'hurt': 2246, 'never': 3049, 'harm': 2099, 'much': 2977, 'briefli': 630, 'link': 2665, 'must': 2993, 'consequ': 1017, 'like': 2654, 'charact': 808, 'came': 706, 'act': 136, 'judg': 2482, 'good': 1989, 'interest': 2377, 'ad': 142, 'dimens': 1312, 'stori': 4271, 'u': 4644, 'turner': 4631, 'john': 2465, 'bit': 524, 'lost': 2701, 'especi': 1577, 'cop': 1058, 'lawyer': 2597, 'concentr': 992, 'psycholog': 3518, 'effect': 1480, 'crime': 1116, 'lover': 2710, 'outcom': 3183, 'power': 3412, 'statement': 4236, 'helpless': 2142, 'inher': 2341, 'societi': 4120, 'minor': 2898, 'amount': 246, 'hardli': 2098, 'pronounc': 3493, 'quickli': 3549, 'kill': 2527, 'first': 1764, 'attempt': 362, 'quick': 3548, 'dancer': 1175, 'hooker': 2200, 'profess': 3479, 'risk': 3756, 'great': 2019, 'deal': 1201, 'met': 2859, 'rather': 3592, 'unrealist': 4705, 'found': 1839, 'frame': 1845, 'problem': 3471, 'quit': 3554, 'distract': 1355, 'made': 2742, 'think': 4485, 'miss': 2910, 'someth': 4134, 'somewher': 4137, 'otherwis': 3180, 'worth': 4953, 'viewer': 4780, 'direct': 1318, 'uniformli': 4686, 'throughout': 4502, 'recommend': 3625, 'right': 3751, 'top': 4550, 'list': 2669, 'hyster': 2252, 'funni': 1891, 'show': 4016, 'laugh': 2586, 'hard': 2094, 'sure': 4365, 'half': 2072, 'joke': 2469, 'showcas': 4017, 'brilliantli': 634, 'gift': 1949, 'comedian': 955, 'particularli': 3250, 'dumb': 1434, 'materi': 2805, 'audienc': 370, 'routin': 3807, 'tie': 4512, 'perform': 3290, 'seri': 3953, 'gag': 1905, 'thumb': 4508, 'luckili': 2721, 'pay': 3273, 'reveal': 3726, 'walk': 4818, 'forti': 1833, 'minut': 2900, 'bad': 410, 'fell': 1724, 'guy': 2062, 'theme': 4478, 'song': 4139, 'howev': 2226, 'thought': 4492, 'fun': 1886, 'realiz': 3611, 'product': 3477, 'cartoon': 754, 'use': 4723, 'watch': 4844, 'almost': 216, 'religi': 3666, 'although': 225, 'last': 2580, 'episod': 1565, 'heard': 2122, 'dr': 1393, 'noth': 3098, 'somebodi': 4130, 'comment': 960, 'page': 3215, 'penni': 3282, 'brain': 607, 'point': 3370, 'hate': 2109, 'setup': 3963, 'whole': 4894, 'thing': 4484, 'reminisc': 3675, 'screw': 3899, 'inspector': 2357, 'gadget': 1904, 'nearli': 3023, 'clumsi': 923, 'actual': 141, 'saw': 3865, 'except': 1619, 'oil': 3144, 'slick': 4089, 'tone': 4543, 'excit': 1622, 'felt': 1726, 'disappoint': 1327, 'slaughter': 4082, 'badli': 412, 'everybodi': 1602, 'els': 1506, '14': 10, '17': 13, 'year': 4981, 'old': 3148, 'rememb': 3673, 'went': 4875, 'open': 3158, 'mind': 2890, 'taken': 4411, 'retard': 3720, 'reli': 3663, 'sight': 4031, 'stupid': 4310, 'dialogu': 1295, 'humor': 2239, 'disney': 1345, 'pain': 3217, 'physic': 3322, 'push': 3537, 'kid': 2523, 'along': 218, 'pointless': 3371, 'wise': 4924, 'crack': 1092, 'look': 2694, 'nice': 3059, 'overli': 3198, 'silli': 4037, 'scene': 3876, 'crap': 1095, '40': 80, '45': 81, 'dudley': 1429, 'preview': 3448, 'intellig': 2372, 'famili': 1684, 'entertain': 1555, 'highli': 2158, 'iron': 2402, 'giant': 1948, 'sad': 3833, 'travesti': 4593, 'drama': 1399, '1': 3, 'view': 4779, 'juli': 2486, 'impress': 2294, 'screenplay': 3897, 'comed': 953, 'none': 3083, 'neil': 3036, 'simon': 4042, 'display': 1347, 'excel': 1618, 'insight': 2354, 'human': 2236, 'natur': 3017, 'creat': 1104, 'genuin': 1937, 'comedi': 954, 'unusu': 4711, 'situat': 4065, 'jack': 2418, 'lemmon': 2622, 'walter': 4825, 'matthau': 2810, 'inspir': 2358, 'event': 1598, 'write': 4966, 'best': 498, 'written': 4968, 'hollywood': 2184, 'surprisingli': 4371, 'nomin': 3081, '2': 55, 'academi': 115, 'award': 392, 'adapt': 144, 'rare': 3589, 'pull': 3523, 'gut': 2061, 'butt': 689, 'spoof': 4201, 'realli': 3612, 'happen': 2090, 'improv': 2296, 'gone': 1987, 'horribl': 2209, 'wrong': 4969, 'say': 3866, 'wrote': 4970, 'script': 3900, 'anyon': 283, 'imagin': 2276, 'entir': 1559, 'cast': 762, 'sit': 4062, 'director': 1320, 'writer': 4967, 'next': 3058, 'villain': 4785, '24': 69, 'token': 4534, 'creepi': 1113, 'neighbor': 3034, 'brilliant': 633, 'proclaim': 3475, 'nobodi': 3075, 'gotta': 1998, 'gal': 1907, 'beat': 461, 'freak': 1856, 'death': 1206, 'floor': 1793, 'cave': 774, 'cannib': 721, 'bother': 590, 'cook': 1054, 'mayb': 2815, 'explain': 1640, 'lie': 2645, 'dark': 1183, 'hulk': 2234, 'martial': 2792, 'art': 322, 'expert': 1639, 'porn': 3392, 'queen': 3545, 'door': 1382, 'fall': 1680, 'easili': 1459, 'fri': 1866, 'pan': 3229, 'girl': 1957, 'heck': 2131, 'richard': 3742, 'fire': 1761, 'agent': 177, 'end': 1531, 'pleas': 3355, 'either': 1488, 'figur': 1746, 'hero': 2146, 'ladi': 2566, 'tea': 4432, 'sunshin': 4351, 'boy': 601, 'favorit': 1710, 'christma': 862, 'attract': 368, 'radio': 3565, 'citi': 878, 'music': 2990, 'hall': 2074, 'sinc': 4051, '6': 85, 'theater': 4475, 'today': 4529, 'lot': 2702, 'review': 3730, 'mention': 2849, 'wonder': 4936, 'lead': 2602, 'misfortun': 2907, 'nicholson': 3061, 'oscar': 3177, 'p': 3208, 'burn': 678, 'though': 4491, 'deserv': 1271, 'least': 2608, 'role': 3780, 'perfect': 3288, 'audit': 372, 'chip': 846, 'commerci': 962, 'bring': 635, 'reason': 3615, 'greatli': 2022, 'underr': 4668, 'ross': 3800, 'previous': 3450, 'brought': 651, 'two': 4640, 'screen': 3896, 'full': 1883, 'without': 4929, 'photograph': 3319, 'stage': 4216, '20': 56, 'ben': 489, 'clark': 886, 'come': 952, 'uncl': 4657, 'special': 4169, 'twenti': 4635, 'sequenc': 3951, 'total': 4558, 'new': 3051, 'ago': 179, 'broadway': 642, 'reviv': 3731, 'toni': 4545, 'screenwrit': 3898, 'notabl': 3095, 'steve': 4250, 'mcqueen': 2820, 'big': 510, 'star': 4229, 'talent': 4413, 'raw': 3596, 'honest': 2193, 'campi': 713, 'sci': 3882, 'fi': 1736, 'horror': 2213, 'anti': 274, 'establish': 1580, 'hot': 2219, 'rod': 3778, 'actor': 139, 'polish': 3381, 'icon': 2255, 'industri': 2326, 'five': 1771, 'henc': 2143, 'later': 2582, 'blob': 548, 'everyon': 1604, 'cute': 1156, 'fresh': 1865, 'innoc': 2349, 'plot': 3362, 'fast': 1702, 'pace': 3209, 'predict': 3425, 'still': 4255, 'hour': 2221, 'becam': 466, 'king': 2532, 'andi': 253, 'taylor': 4431, 'girlfriend': 1958, 'close': 913, 'sent': 3944, 'dvd': 1442, 'treasur': 4594, 'addit': 147, 'collect': 940, 'dougla': 1387, 'macarthur': 2737, 'affect': 165, 'american': 240, 'elect': 1492, 'presid': 3438, 'biographi': 520, 'univers': 4694, 'oddli': 3135, 'enough': 1549, 'potenti': 3406, 'earli': 1451, 'trek': 4598, 'recent': 3619, 'hbo': 2114, 'lord': 2696, 'warm': 4834, 'spring': 4208, 'joseph': 2475, 'emerg': 1514, 'express': 1650, 'capabl': 727, 'subtli': 4325, 'shape': 3980, 'emot': 1517, 'shade': 3971, 'carri': 752, 'exactli': 1614, 'produc': 3476, 'frank': 1851, 'gave': 1923, 'legendari': 2619, 'jerri': 2447, 'score': 3889, 'wide': 4900, 'four': 1840, 'prepar': 3432, 'perfectli': 3289, 'adequ': 149, 'begin': 474, 'shortli': 4011, 'gener': 1930, 'dan': 1172, 'flee': 1783, 'avoid': 386, 'captur': 733, 'japanes': 2431, 'thu': 4506, 'birth': 522, 'frontier': 1876, 'subject': 4315, 'attack': 361, 'nativ': 3016, 'remark': 3672, 'span': 4161, 'distanc': 1350, 'bow': 597, 'arrow': 321, 'weapon': 4859, 'graduat': 2005, 'west': 4877, 'class': 888, '95': 95, 'join': 2468, 'famou': 1686, 'father': 1707, 'arthur': 323, 'earn': 1453, 'honor': 2197, 'civil': 880, 'war': 4831, 'assign': 344, 'japan': 2430, 'china': 844, 'importantli': 2291, 'heroic': 2147, 'exploit': 1644, 'leap': 2606, 'world': 4946, 'mountain': 2967, 'often': 3142, 'wound': 4958, 'promot': 3492, 'blind': 547, 'speed': 4174, 'servic': 3959, 'youngest': 4991, 'progress': 3487, 'command': 958, 'particip': 3248, 'court': 1086, 'billi': 518, 'mitchel': 2917, 'rout': 3806, 'bonu': 576, 'effort': 1482, 'sustain': 4382, 'armi': 313, 'chief': 838, 'staff': 4215, 'retir': 3721, 'field': 1740, 'marshal': 2789, 'second': 3910, 'footag': 1814, 'tri': 4601, 'fight': 1744, 'boat': 563, 'legend': 2618, 'appreci': 297, 'alleg': 211, 'career': 738, 'present': 3436, 'island': 2408, 'hop': 2201, 'hit': 2171, 'em': 1510, 'campaign': 711, 'fulfil': 1882, 'shall': 3976, 'return': 3723, 'crown': 1128, 'achiev': 130, 'peac': 3275, 'differ': 1304, 'opinion': 3161, 'harri': 2102, 'truman': 4622, 'properli': 3498, 'ed': 1469, 'conduct': 1000, 'korean': 2550, 'conflict': 1005, 'result': 3716, 'outright': 3191, 'soldier': 4124, 'simpli': 4044, 'fade': 1670, 'histor': 2168, 'accur': 126, 'deliber': 1238, 'commentari': 961, 'record': 3626, 'approv': 300, 'action': 137, 'appear': 293, 'nobl': 3074, 'let': 2636, 'concept': 993, 'regist': 3647, 'san': 3850, 'joe': 2462, 'manipul': 2768, 'reaction': 3602, 'refus': 3643, 'offer': 3139, 'intent': 2375, 'may': 2814, 'commend': 959, 'defeat': 1228, 'place': 3342, 'extraordinari': 1657, 'kind': 2530, 'ration': 3593, 'perspect': 3299, 'cheap': 823, 'releas': 3660, 'televis': 4448, 'case': 756, 'tv': 4633, 'march': 2776, 'subtl': 4323, 'larger': 2578, 'memori': 2845, 'ordinari': 3170, 'vaniti': 4747, 'petti': 3306, 'loath': 2681, 'acknowledg': 132, 'militari': 2882, 'research': 3698, 'poor': 3386, '1939': 20, 'capit': 729, 'michael': 2868, 'angel': 256, 'dirti': 1323, 'ray': 3597, 'tame': 4417, 'comparison': 970, 'youth': 4992, 'america': 239, 'inner': 2348, 'presenc': 3435, 'ann': 263, 'dead': 1198, 'folk': 1805, 'curiou': 1146, 'york': 4988, 'turn': 4630, 'properti': 3499, 'social': 4119, 'climat': 905, 'gun': 2058, 'realiti': 3610, 'mere': 2851, 'crimin': 1117, 'chang': 803, 'dream': 1404, 'julia': 2487, 'titl': 4528, 'origin': 3173, 'summer': 4346, '2000': 57, 'pictur': 3326, 'cuba': 1136, 'cut': 1155, '3': 73, 'long': 2692, 'festiv': 1733, 'amor': 245, 'gerard': 1939, 'poster': 3404, 'diana': 1298, 'grandmoth': 2010, 'mother': 2962, 'actress': 140, 'keep': 2511, 'check': 825, 'surpris': 4370, 'worst': 4952, 'appropri': 299, 'child': 839, 'hilari': 2162, 'free': 1859, 'rental': 3682, 'wast': 4843, 'strongli': 4297, 'speak': 4167, 'fan': 1687, 'worthi': 4954, 'true': 4620, 'besid': 497, 'meryl': 2854, 'gain': 1906, 'recognit': 3623, 'prais': 3414, 'greatest': 2021, 'asset': 343, 'rivet': 3763, 'tale': 4412, 'suffer': 4334, 'legal': 2617, 'tortur': 4556, 'enorm': 1548, 'unexpect': 4676, 'brutal': 655, 'eye': 1659, 'expos': 1647, 'side': 4027, 'uncov': 4660, 'law': 2595, 'exampl': 1617, 'selfish': 3931, 'belief': 481, 'prejudic': 3428, 'shut': 4022, 'contempl': 1030, 'light': 2651, 'clearli': 895, 'call': 703, 'be': 455, 'needless': 3031, 'specif': 4170, 'unfold': 4680, 'australia': 378, 'far': 1692, 'cruelti': 1132, 'take': 4410, 'seriou': 3955, 'perhap': 3291, 'provok': 3512, 'dread': 1403, 'idea': 2257, 'put': 3538, 'standard': 4225, 'atroci': 359, 'cinematographi': 874, 'camera': 708, 'sound': 4149, 'unbeliev': 4656, 'could': 1075, '10': 4, 'spare': 4163, 'neurot': 3048, 'centr': 785, 'credibl': 1109, 'whatsoev': 4884, 'urg': 4720, 'spend': 4176, 'truli': 4621, '2008': 65, 'debut': 1209, 'italian': 2414, 'noir': 3077, 'credit': 1110, 'launch': 2589, 'box': 599, 'sometim': 4135, 'portrait': 3396, 'individu': 2323, 'set': 3961, 'assort': 347, 'support': 4361, 'includ': 2305, 'communist': 966, 'virtu': 4791, 'remot': 3676, 'desper': 1275, 'countri': 1080, 'search': 3907, 'ident': 2259, 'drift': 1410, 'soul': 4148, 'compass': 971, 'abil': 99, 'condit': 999, 'alreadi': 220, 'develop': 1289, 'spider': 4180, 'web': 4864, 'posit': 3400, 'fate': 1706, 'femm': 1730, 'fatal': 1705, 'fear': 1715, 'might': 2874, 'ironi': 2403, 'strain': 4277, 'essenti': 1579, 'impact': 2285, 'histori': 2169, 'debat': 1207, 'donald': 1376, 'sutherland': 4383, 'absolut': 109, 'main': 2752, 'short': 4008, '15': 11, 'instanc': 2360, 'oliv': 3151, 'stone': 4266, 'talk': 4414, 'kevin': 2519, 'park': 3241, 'non': 3082, 'stop': 4269, 'breath': 620, 'princip': 3462, 'kate': 2505, 'probabl': 3470, 'aw': 387, 'terribl': 4463, 'color': 945, 'sceneri': 3877, 'storm': 4272, 'lousi': 2707, 'photographi': 3320, 'ken': 2514, 'piti': 3339, 'uninterest': 4690, 'pack': 3212, 'detail': 1284, 'subsequ': 4319, 'monkey': 2939, 'failur': 1672, 'chanc': 802, 'montag': 2943, 'invent': 2392, 'artist': 326, 'run': 3820, 'shown': 4020, 'german': 1941, '1997': 51, 'serv': 3957, 'tom': 4538, 'add': 145, 'manag': 2764, 'deliv': 1242, 'messag': 2857, 'annoy': 267, 'pretenti': 3445, 'disagre': 1325, 'ass': 338, 'ahead': 182, 'wash': 4841, 'dish': 1340, 'huge': 2231, 'hous': 2222, 'offic': 3140, 'mobster': 2923, 'vengeanc': 4757, 'stuff': 4306, 'moor': 2951, 'got': 1996, 'involv': 2397, 'rate': 3591, 'bull': 670, 'nonsens': 3085, 'rambo': 3573, 'cours': 1085, 'prove': 3509, 'woman': 4934, 'navi': 3019, 'seal': 3905, 'clich': 899, 'jane': 2429, 'hell': 2138, '30': 74, 'scott': 3892, 'women': 4935, 'equal': 1567, 'propaganda': 3496, 'drop': 1418, 'sadli': 3835, 'intern': 2380, 'attent': 365, 'fair': 1674, 'slip': 4095, 'somewhat': 4136, 'reluct': 3668, 'known': 2547, 'smaller': 4102, 'project': 3488, 'definit': 1233, 'categori': 768, 'flick': 1787, 'core': 1062, 'documentari': 1368, 'unlik': 4698, 'video': 4777, 'fool': 1811, 'exist': 1629, 'delv': 1245, 'food': 1810, 'level': 2638, 'approach': 298, 'handl': 2085, 'deadli': 1199, 'imag': 2274, 'ridicul': 3749, 'extrem': 1658, 'shoot': 4005, 'visual': 4798, 'techniqu': 4441, 'weird': 4870, 'mix': 2918, 'digit': 1308, 'anim': 262, 'puppet': 3529, 'stick': 4253, 'pose': 3398, 'less': 2632, 'suppos': 4362, 'low': 2711, 'budget': 663, 'possibl': 3402, 'cover': 1088, 'companion': 968, 'influenc': 2334, 'analyz': 249, 'polit': 3382, 'philosoph': 3314, 'angl': 259, 'continu': 1036, 'stream': 4281, 'monologu': 2940, 'wors': 4950, 'complet': 978, 'ground': 2042, 'custom': 1154, 'harder': 2096, 'foreign': 1819, 'grip': 2037, 'multipl': 2980, 'advis': 162, 'insid': 2353, 'said': 3839, 'easi': 1457, 'follow': 1806, 'pretti': 3446, 'variou': 4751, 'introduc': 2388, 'post': 3403, 'expect': 1633, 'import': 2290, 'somehow': 4132, 'crude': 1130, 'assembl': 341, 'rang': 3581, 'sublim': 4316, 'cake': 700, 'cow': 1089, 'creatur': 1108, 'wear': 4860, 'nose': 3092, 'chain': 794, 'gang': 1912, 'regular': 3649, 'provid': 3510, 'comic': 957, 'atmospher': 357, 'wacki': 4813, 'strang': 4279, 'exagger': 1615, 'nois': 3078, 'contradict': 1038, 'rest': 3711, 'burst': 679, 'masterpiec': 2802, 'lush': 2731, 'match': 2803, 'bewar': 505, 'area': 305, 'extend': 1652, 'english': 1542, 'subtitl': 4322, 'french': 1863, 'larg': 2577, 'suffici': 4336, 'halfway': 2073, 'reach': 3600, 'steam': 4243, 'hope': 2202, 'dutch': 1439, 'sub': 4314, 'dub': 1425, 'contain': 1029, 'guess': 2051, 'qualiti': 3543, 'ask': 334, 'congratul': 1008, 'marvel': 2795, 'blend': 544, 'style': 4311, 'uniqu': 4692, 'smart': 4103, 'fill': 1748, 'creativ': 1106, 'immens': 2281, 'catch': 766, 'decent': 1213, 'translat': 4584, 'float': 1791, 'worthless': 4955, 'justic': 2494, 'europ': 1590, 'western': 4878, 'wait': 4815, 'sign': 4032, 'dri': 1409, 'spirit': 4188, '4': 79, '5': 83, '0': 0, 'kudo': 2552, 'gritti': 2038, 'glamor': 1962, 'drew': 1408, 'date': 1188, 'inform': 2336, 'within': 4928, 'ie': 2264, 'newspap': 3057, 'letter': 2637, 'etc': 1585, 'forward': 1835, 'principl': 3463, 'tremend': 4599, 'difficult': 1305, 'cri': 1115, 'usual': 4727, 'awe': 394, 'overal': 3195, '9': 93, '11': 6, 'host': 2216, 'robert': 3770, 'deniro': 1252, 'outsid': 3192, 'twin': 4638, 'tower': 4564, 'septemb': 3949, '2001': 58, 'gori': 1995, 'real': 3606, 'treat': 4595, 'anyth': 284, 'due': 1430, 'technicolor': 4440, 'costum': 1073, 'undoubtedli': 4674, 'lowest': 2713, 'paramount': 3237, 'neither': 3038, 'casual': 764, 'william': 4912, 'sir': 4058, 'foolish': 1812, 'wig': 4906, 'stock': 4262, 'heroin': 2148, 'requir': 3696, 'uninspir': 4688, 'voic': 4802, 'occas': 3128, 'plain': 3344, 'mark': 2784, 'wit': 4926, 'evid': 1607, 'die': 1303, 'mess': 2856, 'given': 1960, 'extra': 1656, 'sum': 4343, 'dull': 1433, 'children': 842, 'late': 2581, 'took': 4547, 'night': 3066, 'audio': 371, 'graini': 2007, 'trailer': 4577, 'reel': 3638, 'sincer': 4052, 'info': 2335, 'com': 948, 'amaz': 233, 'wow': 4959, 'hyde': 2249, 'grow': 2044, 'sing': 4053, 'singer': 4054, 'across': 135, 'vampir': 4742, 'form': 1828, 'friendship': 1870, 'forc': 1817, 'other': 3179, 'sappi': 3855, 'contrari': 1039, 'typic': 4643, 'storylin': 4273, 'thick': 4481, 'twist': 4639, 'entranc': 1561, 'fault': 1708, 'albeit': 195, 'languag': 2576, 'lucki': 2720, 'understood': 4671, 'save': 3864, 'awesom': 395, 'joan': 2459, 'fontain': 1809, 'convinc': 1051, 'beauti': 465, 'combin': 951, 'reduc': 3635, 'tini': 4523, 'room': 3792, 'cloth': 917, 'charm': 819, 'wholli': 4895, 'resolv': 3704, 'poison': 3372, 'divorc': 1363, 'meanwhil': 2827, 'rich': 3741, 'meet': 2835, 'age': 174, 'target': 4423, 'eager': 1448, 'eaten': 1464, 'appeal': 292, 'yesterday': 4985, 'stand': 4224, 'notic': 3099, 'care': 737, 'proce': 3472, 'neatli': 3025, 'everyth': 1605, 'tension': 4459, 'rise': 3755, 'sweat': 4386, 'wick': 4899, 'terrifi': 4465, 'net': 3046, 'edg': 1471, 'seat': 3909, 'cool': 1056, 'victim': 4772, 'scheme': 3879, 'condemn': 998, 'murder': 2985, 'unexpectedli': 4677, 'determin': 1286, 'scotland': 3891, 'yard': 4977, 'doubt': 1386, 'suspect': 4377, 'portray': 3397, 'panic': 3230, 'execut': 1625, 'worm': 4947, 'protect': 3506, 'sam': 3847, 'wood': 4939, 'superb': 4353, 'suspens': 4379, 'thriller': 4500, 'qualifi': 3542, 'descript': 1269, 'superior': 4357, 'unfortun': 4682, 'aspir': 337, 'number': 3111, 'moment': 2935, 'reson': 3705, 'advantag': 158, 'bare': 431, 'bone': 575, 'destroy': 1281, 'benefit': 492, 'abound': 104, 'particular': 3249, 'straight': 4275, 'linda': 2659, 'poorli': 3387, 'abysm': 114, 'line': 2661, 'appal': 290, 'skill': 4071, 'choppi': 851, 'lend': 2624, 'gratuit': 2015, 'stereotyp': 4249, 'gay': 1924, 'sever': 3966, 'center': 784, 'bob': 564, 'tim': 4517, 'drawn': 1402, 'reward': 3736, 'captiv': 732, 'nichola': 3060, 'david': 1192, 'boxer': 600, 'issu': 2412, 'self': 3930, 'disguis': 1338, 'arrog': 320, 'plate': 3350, 'obsess': 3123, 'seemingli': 3925, 'harmless': 2100, 'ultim': 4648, 'stalk': 4220, 'classic': 889, 'cat': 765, 'mous': 2968, 'fashion': 1701, 'tabl': 4401, 'hunter': 2245, 'hunt': 2244, 'artifici': 325, 'compliment': 981, 'break': 616, 'breakdown': 617, 'confront': 1006, 'opportun': 3163, 'chop': 850, 'danni': 1181, 'focu': 1801, 'disturb': 1358, 'violenc': 4787, 'escap': 1576, 'beyond': 506, 'note': 3097, 'obviou': 3126, 'ala': 192, 'glimps': 1967, 'fulli': 1885, 'believ': 482, 'thousand': 4493, 'feed': 1720, 'orson': 3176, 'narrat': 3009, 'wreck': 4961, 'biblic': 509, 'propheci': 3500, 'obvious': 3127, 'mysteri': 2998, 'high': 2155, 'valu': 4740, 'embarrass': 1512, '7': 87, 'jay': 2436, 'funnier': 1892, 'mildli': 2879, 'mainli': 2753, 'lindsay': 2660, 'matt': 2808, 'mari': 2779, 'keaton': 2509, 'romp': 3788, 'bug': 666, 'watchabl': 4845, 'detract': 1287, 'evolv': 1611, 'antic': 275, 'bore': 583, 'bend': 490, 'front': 1874, 'caus': 773, 'e': 1447, 'singl': 4055, 'x': 4975, 'secret': 3913, 'govern': 2000, 'experi': 1636, 'corrupt': 1071, 'vile': 4783, 'fail': 1671, 'elabor': 1490, 'confus': 1007, 'explan': 1641, 'user': 4725, 'slow': 4097, 'okay': 3146, 'nowher': 3105, 'abl': 100, 'argu': 306, 'filmmak': 1751, 'intend': 2373, 'ambigu': 236, 'frequent': 1864, 'shot': 4012, 'build': 667, 'drink': 1411, 'welcom': 4871, 'board': 561, '70': 88, 'funniest': 1893, 'current': 1148, 'leo': 2627, 'son': 4138, 'bitch': 525, 'yell': 4983, 'jacki': 2420, 'damn': 1170, 'season': 3908, 'air': 185, 'fantasi': 1690, 'understand': 4670, 'surpass': 4369, 'par': 3233, 'potter': 3407, 'stretch': 4287, 'adventur': 159, 'hong': 2196, 'kong': 2549, 'topic': 4551, 'exot': 1631, 'hk': 2174, 'fantast': 1691, '60': 86, 'engross': 1543, 'technolog': 4442, 'advanc': 157, 'kim': 2529, 'roger': 3779, 'outstand': 3193, 'black': 530, 'white': 4892, 'awar': 391, 'liner': 2663, 'smile': 4106, 'nuditi': 3109, 'chick': 836, 'sexi': 3968, 'racist': 3562, 'correct': 1069, 'offens': 3138, 'garbag': 1915, 'previou': 3449, '1973': 30, 'cage': 697, 'hammer': 2080, 'dinner': 1315, 'parti': 3246, 'thirti': 4487, 'genr': 1934, 'unabl': 4652, 'throw': 4503, 'jump': 2489, 'print': 3464, 'local': 2682, 'hand': 2083, 'held': 2135, 'enjoy': 1545, 'relax': 3659, 'curios': 1145, 'dollar': 1371, 'disast': 1328, 'vivid': 4800, 'ignor': 2265, 'control': 1043, 'race': 3558, 'neighborhood': 3035, 'enter': 1553, 'longer': 2693, 'signal': 4033, 'circumst': 877, 'common': 964, 'logic': 2686, 'electron': 1494, 'dictat': 1302, 'opposit': 3165, 'street': 4283, 'trait': 4579, 'possess': 3401, 'rocket': 3776, 'scientist': 3885, 'encount': 1529, 'eight': 1485, 'meant': 2826, 'instead': 2363, 'profession': 3480, 'terrorist': 4468, 'matrix': 2807, 'leader': 2603, 'accident': 120, 'pick': 3324, 'plastic': 3349, 'mean': 2822, 'trap': 4587, 'roll': 3781, 'citizen': 879, 'kane': 2499, 'skip': 4073, 'sake': 3842, 'pride': 3454, 'rais': 3568, 'question': 3547, 'alex': 201, 'entri': 1562, 'channel': 804, 'third': 4486, 'anna': 264, 'forgett': 1823, 'jeff': 2441, 'daniel': 1179, 'phone': 3316, 'state': 4235, 'dian': 1297, 'hundr': 2241, 'amus': 247, 'unless': 4697, 'eli': 1500, 'curs': 1149, 'ha': 2064, 'f': 1661, 'bomb': 572, 'interview': 2384, 'leon': 2628, '50': 84, 'utterli': 4730, 'essenc': 1578, 'n': 3002, 'suitabl': 4341, 'choic': 847, 'musician': 2991, 'persona': 3298, 'unconvinc': 4659, 'homosexu': 2192, 'group': 2043, 'near': 3021, 'pilot': 3332, 'canadian': 715, 'network': 3047, 'cult': 1141, 'small': 4101, 'pet': 3303, 'dog': 1369, 'troubl': 4618, 'shootout': 4006, 'r': 3556, 'swear': 4385, 'drug': 1421, 'dont': 1379, 'crisi': 1120, 'apart': 287, 'success': 4328, 'dim': 1311, 'franci': 1848, 'powel': 3411, 'whose': 4898, 'explor': 1645, 'perceiv': 3286, 'distinguish': 1353, 'claim': 882, 'attenborough': 363, 'afterward': 173, 'lectur': 2611, 'christin': 861, 'plan': 3345, 'day': 1195, 'boyfriend': 603, 'hoffman': 2176, '1983': 38, 'frontal': 1875, 'male': 2760, 'femal': 1727, 'church': 867, 'cross': 1125, 'shock': 4002, 'paul': 3268, 'verhoeven': 4762, 'critic': 1121, 'sexual': 3969, 'trash': 4588, 'jan': 2428, 'hidden': 2152, 'layer': 2599, 'thoroughli': 4490, 'despic': 1276, 'root': 3795, 'stun': 4308, 'chill': 843, 'handsom': 2086, 'bodi': 566, 'offend': 3137, 'heart': 2123, 'challeng': 797, 'princ': 3460, 'purpl': 3533, 'rain': 3567, 'shirt': 4001, 'knew': 2540, 'saturday': 3862, 'describ': 1268, 'clever': 897, 'flirt': 1790, 'club': 920, 'stood': 4267, 'disappear': 1326, 'cant': 724, 'jade': 2422, 'killer': 2528, 'monster': 2942, 'basic': 442, 'green': 2026, 'suit': 4340, 'b': 399, 'stellar': 4246, 'substanc': 4320, 'titan': 4527, 'suck': 4329, 'ball': 421, 'fake': 1678, 'that': 4474, 'complaint': 977, 'grade': 2003, 'gore': 1993, 'gruesom': 2048, 'shower': 4019, 'godfath': 1978, 'roman': 3783, 'mytholog': 3001, 'plenti': 3359, 'soprano': 4143, 'mob': 2921, 'clan': 884, 'oper': 3159, 'northern': 3091, 'pro': 3469, 'wrestl': 4963, 'biggest': 512, 'admir': 150, 'complic': 980, 'psychopath': 3519, 'occasion': 3129, 'contribut': 1041, 'junior': 2492, 'silver': 4038, 'hair': 2070, 'perpetu': 3295, 'pauli': 3270, 'edi': 1474, 'tough': 4560, 'nail': 3003, 'sudden': 4331, 'graphic': 2012, 'count': 1076, 'climb': 907, 'nephew': 3042, 'christoph': 863, 'bitter': 528, 'abandon': 97, 'favourit': 1712, 'rider': 3748, 'everywher': 1606, 'nicola': 3064, 'nevertheless': 3050, 'factor': 1668, 'comput': 988, 'thrown': 4504, 'intellectu': 2371, 'deep': 1224, 'wish': 4925, 'fist': 1769, 'battl': 452, 'magic': 2747, 'plane': 3346, 'sky': 4076, 'flow': 1796, 'compani': 967, 'publish': 3522, 'game': 1910, 'element': 1496, 'martin': 2794, 'scorses': 3890, 'fascin': 1699, 'vote': 4807, 'cheek': 826, 'adult': 156, 'nut': 3115, 'carey': 740, 'student': 4303, 'knock': 2544, 'taxi': 4430, 'driver': 1416, 'oh': 3143, 'resolut': 3703, 'topless': 4552, 'mutant': 2994, 'someon': 4133, 'decapit': 1211, 'wire': 4922, 'tree': 4597, 'metal': 2860, 'market': 2785, 'summari': 4345, 'dialog': 1294, 'accept': 117, 'button': 690, 'remind': 3674, 'school': 3881, 'c': 694, 'hear': 2121, 'compet': 974, 'financ': 1754, 'blair': 534, 'witch': 4927, 'wherea': 4887, 'mediocr': 2833, 'unintent': 4689, 'borrow': 587, 'heavili': 2130, 'deliver': 1243, 'plu': 3363, 'bigger': 511, 'bach': 403, 'hint': 2164, 'intens': 2374, 'composit': 983, 'devic': 1290, 'listen': 2670, 'intrigu': 2387, 'appli': 296, 'mutual': 2996, 'tender': 4457, 'justifi': 2495, 'rape': 3586, 'gender': 1928, 'clueless': 922, 'healthi': 2119, 'interact': 2376, 'ghost': 1946, 'hollow': 2183, '1950': 23, 'teen': 4445, 'scienc': 3883, 'fiction': 1738, 'concern': 994, 'kick': 2522, 'rent': 3681, 'haunt': 2111, 'grace': 2002, 'urban': 4719, 'cowboy': 1090, 'document': 1367, 'texa': 4471, 'period': 3293, 'men': 2846, 'wive': 4931, 'drunk': 1423, 'settl': 3962, 'commit': 963, 'mechan': 2830, 'depict': 1259, 'anymor': 282, 'drive': 1413, 'expens': 1635, 'celebr': 778, 'pete': 3304, 'week': 4867, 'learn': 2607, 'bud': 661, 'sissi': 4060, 'split': 4194, 'wave': 4849, 'flip': 1789, 'bird': 521, 'horn': 2207, 'tear': 4436, 'mom': 2934, '18': 14, 'sunday': 4348, 'accomplish': 123, 'laid': 2567, 'aunt': 374, 'pig': 3330, 'necessari': 3026, 'sink': 4057, 'god': 1977, 'allow': 215, 'we': 4853, 'hey': 2151, 'yeah': 4980, 'lesson': 2634, 'seek': 3923, 'public': 3521, 'wed': 4866, 'session': 3960, 'arrang': 317, 'chair': 796, 'leg': 2615, 'conclus': 997, 'ah': 181, 'consist': 1021, 'road': 3764, 'castl': 763, 'crazi': 1102, 'camp': 710, 'ugli': 4645, 'bloodi': 553, 'valuabl': 4741, 'advic': 161, 'lesbian': 2630, 'remak': 3671, 'length': 2625, 'yawn': 4978, 'induc': 2324, 'mostli': 2961, 'disregard': 1349, 'vanessa': 4745, 'member': 2843, 'flair': 1774, 'investig': 2394, 'narrow': 3010, 'danger': 1178, 'sleepwalk': 4087, 'wardrob': 4833, 'numer': 3112, 'sacrific': 3832, 'endless': 1533, 'relev': 3662, 'system': 4400, 'correctli': 1070, 'matur': 2812, 'content': 1033, 'lay': 2598, 'liter': 2672, 'paint': 3218, 'backdrop': 406, 'pop': 3388, 'book': 579, 'orlean': 3174, 'ex': 1612, 'mistress': 2915, 'historian': 2170, 'franc': 1846, 'told': 4536, 'aristocrat': 311, 'inevit': 2328, 'object': 3117, 'represent': 3691, 'knowledg': 2546, 'revolut': 3733, 'loui': 2705, 'cousin': 1087, 'philip': 3312, 'pari': 3240, 'hill': 2163, 'maid': 2750, 'dramat': 1400, 'bear': 458, 'vision': 4795, 'account': 125, 'tast': 4426, 'mad': 2741, 'sweep': 4388, 'illustr': 2272, 'daili': 1164, 'servant': 3958, 'dress': 1407, 'patienc': 3262, 'tube': 4625, 'modern': 2928, 'scale': 3867, 'parodi': 3243, 'asid': 333, 'chase': 820, 'henri': 2144, 'three': 4497, 'skit': 4074, 'featur': 1718, 'strip': 4291, 'news': 3056, 'program': 3485, 'irrit': 2405, 'epic': 1564, 'dealer': 1202, 'bought': 593, 'bbc': 454, 'contemporari': 1031, 'round': 3805, 'north': 3090, 'south': 4153, 'tenant': 4454, 'overdon': 3197, 'wooden': 4940, 'tara': 4421, 'characteris': 810, 'helen': 2136, 'graham': 2006, 'sympathi': 4398, 'fanci': 1689, 'stephen': 4248, 'ok': 3145, 'brother': 650, 'bleak': 542, 'alcohol': 198, 'reader': 3604, 'upon': 4716, 'gross': 2040, 'bleed': 543, 'bed': 468, 'pun': 3525, 'experienc': 1637, 'ranger': 3582, 'spot': 4204, 'familiar': 1685, 'presum': 3442, 'cost': 1072, 'liber': 2642, 'tacki': 4404, 'toy': 4566, 'spawn': 4166, 'franchis': 1847, 'nostalgia': 3094, 'carla': 744, 'unattract': 4653, 'deaf': 1200, 'boss': 588, 'hire': 2167, 'secur': 3917, 'arriv': 319, 'prison': 3466, 'manner': 2771, 'environ': 1563, 'embrac': 1513, 'contract': 1037, 'slimi': 4094, 'colleagu': 939, 'realis': 3607, 'robberi': 3768, 'readi': 3605, 'punch': 3526, 'price': 3452, 'acquaint': 133, 'debt': 1208, 'lip': 2667, 'rip': 3754, 'violent': 4788, 'bank': 427, 'robber': 3767, 'frighten': 1872, 'fourth': 1841, 'engag': 1539, 'romant': 3785, 'loser': 2699, 'shift': 3997, 'gear': 1925, 'edgi': 1473, 'shortcom': 4009, 'winner': 4919, 'odd': 3134, 'connect': 1009, 'farc': 1693, 'discov': 1333, 'exclus': 1623, 'gorgeou': 1994, 'vincent': 4786, 'corner': 1065, 'receiv': 3618, 'scratch': 3894, 'beneath': 491, 'surfac': 4367, 'subplot': 4318, 'contriv': 1042, 'steer': 4245, 'neat': 3024, 'medium': 2834, 'compromis': 987, 'label': 2561, 'defin': 1232, 'pleasur': 3358, 'transcend': 4580, 'defi': 1231, 'finish': 1760, 'accent': 116, 'fluff': 1798, 'step': 4247, 'soap': 4117, 'opera': 3160, 'increasingli': 2314, 'sensibl': 3941, 'w': 4812, 'attach': 360, 'jessica': 2449, 'futur': 1897, 'pure': 3532, 'ham': 2077, 'vehicl': 4755, 'bounc': 594, 'head': 2115, 'phillip': 3313, 'duck': 1426, 'soup': 4151, 'rel': 3656, 'sucker': 4330, 'snow': 4116, 'ambit': 237, 'band': 425, 'tour': 4561, 'aim': 184, 'sold': 4123, 'vice': 4770, 'nerv': 3044, 'advertis': 160, 'clip': 910, 'spread': 4206, 'gonna': 1988, 'morn': 2957, 'eighti': 1486, 'nineti': 3071, 'captain': 731, 'cheesi': 829, 'agenc': 175, 'threw': 4498, 'bunch': 675, 'forgot': 1826, 'plant': 3348, 'explos': 1646, 'motorcycl': 2965, 'ludicr': 2722, 'bike': 513, 'stunt': 4309, 'crash': 1097, 'cgi': 793, 'vanish': 4746, 'choos': 849, 'blow': 555, 'todd': 4530, 'assum': 348, 'blackmail': 531, 'whip': 4891, 'grinch': 2036, 'sympathet': 4397, 'hostil': 2218, 'cynic': 1159, 'cinemat': 872, 'plagu': 3343, 'colin': 936, 'farrel': 1697, 'brown': 652, 'pin': 3333, 'hain': 2069, 'stumbl': 4307, 'humili': 2238, 'glori': 1970, 'stilt': 4257, 'pickford': 3325, 'nerd': 3043, 'romanc': 3784, 'sport': 4203, '20th': 66, 'centuri': 787, 'ebert': 1465, 'respect': 3708, 'spectacular': 4172, 'choru': 854, 'incorrect': 2312, 'poignant': 3369, 'regard': 3644, 'studi': 4304, 'certain': 790, 'closer': 914, 'preach': 3418, 'cusack': 1152, 'midnight': 2873, 'garden': 1917, 'southern': 4154, 'lose': 2698, 'al': 191, 'pacino': 3211, 'standout': 4226, 'convolut': 1053, 'mayor': 2817, 'profound': 3484, 'inaccur': 2299, 'preachi': 3419, 'mindless': 2891, 'pile': 3331, 'junk': 2493, 'maker': 2758, 'liberti': 2643, 'mid': 2871, 'calm': 704, 'smooth': 4109, 'flight': 1788, 'nowaday': 3104, 'land': 2572, 'massiv': 2800, 'nearbi': 3022, 'proport': 3502, 'model': 2926, 'slide': 4090, 'exit': 1630, 'fuel': 1880, 'bottom': 592, 'tank': 4418, 'foot': 1813, 'inconsist': 2310, 'error': 1575, 'prefer': 3426, 'motion': 2963, 'thrill': 4499, 'restrict': 3715, 'engin': 1540, 'safe': 3836, 'honestli': 2195, 'bush': 682, 'rehash': 3650, 'lower': 2712, 'pathet': 3261, 'chicken': 837, 'unfunni': 4683, 'sophist': 4142, 'flash': 1776, 'disgrac': 1337, 'un': 4651, 'parker': 3242, 'copi': 1060, 'thank': 4473, 'kurt': 2556, 'russel': 3824, 'word': 4942, 'photo': 3318, 'blank': 538, 'facial': 1665, 'gestur': 1943, 'stronger': 4295, 'warrior': 4840, 'max': 2813, 'braveheart': 612, 'mel': 2837, 'crow': 1126, 'antonio': 278, 'blade': 532, 'runner': 3821, 'harrison': 2103, 'ford': 1818, 'rough': 3804, 'incoher': 2307, 'surviv': 4374, 'amateurish': 232, 'sleep': 4086, 'bill': 517, 'murray': 2987, '80': 92, 'innov': 2350, 'consum': 1027, 'incred': 2315, 'strive': 4292, 'harold': 2101, 'compel': 972, 'revolv': 3735, 'alec': 199, 'era': 1571, 'buddi': 662, 'stir': 4261, 'admit': 151, 'dynam': 1445, 'quirki': 3553, 'unpredict': 4702, 'teenag': 4446, 'holli': 2182, 'amanda': 230, 'sister': 4061, 'jenni': 2443, 'premis': 3431, 'fish': 1766, 'sitcom': 4063, 'repeatedli': 3684, 'insist': 2356, 'suddenli': 4332, 'stair': 4217, 'manhattan': 2765, 'flop': 1794, 'ram': 3571, 'bollywood': 571, 'crew': 1114, 'block': 549, 'amitabh': 242, 'preciou': 3421, 'privat': 3467, 'regret': 3648, 'incid': 2303, 'rebel': 3616, 'major': 2756, 'uniform': 4685, 'stiff': 4254, 'teeth': 4447, 'fetch': 1734, 'descent': 1267, 'stark': 4232, 'imdb': 2277, 'serial': 3954, 'whoever': 4893, 'avail': 383, 'tiger': 4514, 'chapter': 807, 'eleven': 1499, 'doctor': 1366, 'theori': 4479, 'energi': 1537, 'code': 929, 'soviet': 4155, 'union': 4691, 'rescu': 3697, 'locat': 2683, 'lure': 2729, 'kidnap': 2526, 'estrang': 1583, 'daughter': 1189, 'cia': 868, 'team': 4435, 'swedish': 4387, 'ninja': 3072, 'ambiti': 238, 'comprehend': 984, 'automat': 382, 'suppli': 4360, 'bullet': 671, 'guard': 2050, 'fli': 1786, 'explod': 1643, 'mistak': 2913, 'forget': 1822, 'dose': 1384, 'shadow': 3972, 'makeup': 2759, 'statu': 4239, 'million': 2886, 'wind': 4916, 'ruin': 3816, 'lee': 2613, 'hold': 2178, 'lifeless': 2647, 'insult': 2368, 'lyric': 2735, 'rhythm': 3740, 'senseless': 3940, 'rant': 3584, 'prop': 3495, 'rapidli': 3587, 'fest': 1732, 'space': 4157, 'luck': 2719, 'accid': 119, 'mask': 2796, 'multi': 2979, 'robot': 3773, 'closet': 916, 'mate': 2804, 'hackney': 2068, 'machin': 2738, 'player': 3354, 'airplan': 186, 'suffic': 4335, 'bell': 483, 'willi': 4911, 'templ': 4451, 'doom': 1381, 'thompson': 4489, 'wannab': 4829, 'befriend': 471, 'doll': 1370, 'pound': 3408, 'joy': 2479, 'widescreen': 4901, 'marlon': 2786, 'brando': 610, 'clock': 911, 'sinatra': 4050, 'nathan': 3014, 'charg': 812, '000': 2, 'bet': 499, 'sarah': 3856, 'jean': 2439, 'simmon': 4041, 'danc': 1174, 'complain': 976, 'uneven': 4675, '8': 91, 'slice': 4088, 'childhood': 840, 'disabl': 1324, 'incorpor': 2311, 'soundtrack': 4150, 'seventi': 3965, 'phenomen': 3309, 'schlock': 3880, 'smack': 4100, 'undeni': 4663, 'hokey': 2177, 'sat': 3858, 'shark': 3982, 'terror': 4467, 'thug': 4507, 'primari': 3456, 'directli': 1319, 'filler': 1749, 'pit': 3337, 'aforement': 168, 'www': 4974, 'section': 3916, 'washington': 4842, 'bang': 426, 'thief': 4482, 'red': 3631, 'river': 3762, 'earlier': 1452, 'stewart': 4252, 'dozen': 1392, 'tire': 4525, 'splendid': 4193, 'six': 4066, 'ten': 4453, 'horrif': 2211, 'mile': 2881, 'abc': 98, 'colleg': 942, 'degrad': 1234, 'grim': 2034, 'sleazi': 4085, 'wore': 4943, 'disgust': 1339, 'shove': 4015, 'holi': 2180, 'warn': 4836, 'atroc': 358, 'bu': 658, 'wipe': 4921, 'planet': 3347, 'struck': 4298, 'mouth': 2969, 'replay': 3687, 'shirley': 4000, 'roar': 3765, 'assur': 349, 'precis': 3422, 'quot': 3555, 'fog': 1803, 'anybodi': 281, 'crappi': 1096, 'mine': 2892, 'pearl': 3277, 'enemi': 1535, 'gate': 1921, 'rude': 3815, 'earth': 1455, 'fortun': 1834, 'tripe': 4612, 'ian': 2253, 'respons': 3710, 'rubbish': 3813, 'hitler': 2173, 'ye': 4979, 'volum': 4804, 'jew': 2452, 'mood': 2948, 'adopt': 154, 'nazi': 3020, 'neglect': 3033, 'jewish': 2454, 'colour': 946, 'crucial': 1129, 'aspect': 336, 'complex': 979, 'relentless': 3661, 'smoke': 4108, 'fond': 1807, 'absurd': 111, 'brave': 611, 'whilst': 4889, 'owen': 3204, 'brook': 647, 'vital': 4799, 'awkward': 397, 'fit': 1770, 'trust': 4623, 'throat': 4501, 'spent': 4177, 'serious': 3956, 'salman': 3845, 'fed': 1719, 'unbear': 4655, 'forbidden': 1816, 'author': 381, 'media': 2831, 'clear': 894, 'patient': 3263, 'afternoon': 172, 'journey': 2478, 'ami': 241, 'adam': 143, 'proof': 3494, 'anywher': 286, 'ryan': 3829, 'jackson': 2421, 'virgin': 4789, 'lame': 2569, 'kathryn': 2506, 'michel': 2869, 'teas': 4437, 'increas': 2313, 'impli': 2288, 'reject': 3655, 'loos': 2695, 'blond': 551, 'hole': 2179, 'unfair': 4679, 'tarantino': 4422, 'tool': 4548, 'christ': 858, 'dentist': 1254, 'miracul': 2902, 'polic': 3378, 'chose': 855, 'reput': 3695, 'hum': 2235, 'sloppi': 4096, 'felix': 1723, 'sell': 3932, 'aris': 310, 'stress': 4286, 'uncomfort': 4658, 'strength': 4285, 'insipid': 2355, 'trite': 4614, 'unpleas': 4701, 'cheer': 827, 'rat': 3590, 'paus': 3271, 'chew': 834, 'asham': 330, 'elev': 1498, 'loud': 2704, 'dude': 1428, 'alarm': 194, '99': 96, 'delight': 1241, 'gentl': 1935, 'mill': 2884, 'british': 638, 'flaw': 1781, 'tens': 4458, 'etern': 1586, 'clerk': 896, 'card': 735, 'caught': 772, 'tradit': 4572, 'angri': 260, 'imposs': 2293, 'mission': 2912, 'rob': 3766, 'recogn': 3621, 'incompet': 2308, 'aka': 188, 'clone': 912, 'saint': 3841, 'da': 1161, 'minu': 2899, 'babi': 401, 'widow': 4903, 'smash': 4104, 'shop': 4007, 'remad': 3669, 'amateur': 231, 'degre': 1235, 'attitud': 366, 'fare': 1694, 'discuss': 1335, 'viewpoint': 4781, 'sentenc': 3945, 'mainstream': 2754, 'observ': 3122, 'jewel': 2453, 'normal': 3088, 'tag': 4408, 'grate': 2014, '19th': 53, 'ill': 2268, 'injuri': 2346, 'grief': 2032, 'similar': 4039, 'edward': 1478, 'absorb': 110, 'downright': 1391, 'cliffhang': 903, 'nod': 3076, 'gordon': 1992, '1993': 47, 'blue': 557, 'test': 4469, 'forgotten': 1827, 'terrif': 4464, 'paltrow': 3227, 'dreck': 1406, 'batman': 451, 'combat': 950, 'doc': 1365, 'savag': 3863, 'pulp': 3524, 'idiot': 2262, 'monk': 2938, 'guarante': 2049, 'nightmar': 3068, 'secondari': 3911, 'gold': 1982, 'boom': 580, 'muscl': 2988, 'pale': 3224, 'inexplic': 2329, 'reev': 3639, 'superman': 4358, 'homag': 2187, 'earl': 1450, 'dement': 1247, '00': 1, 'updat': 4714, '90': 94, 'shi': 3995, 'struggl': 4300, 'appl': 294, 'internet': 2381, 'site': 4064, 'method': 2862, 'commun': 965, 'verbal': 4760, 'creator': 1107, 'susan': 4376, 'structur': 4299, 'indulg': 2325, 'brief': 629, 'separ': 3948, 'focus': 1802, 'sole': 4125, 'narr': 3008, 'melodrama': 2840, 'conclud': 996, 'unsatisfi': 4707, 'dandi': 1176, 'ponder': 3384, 'flat': 1779, '19': 15, 'bump': 674, 'candi': 718, 'frustrat': 1878, 'replac': 3686, 'twelv': 4634, 'practic': 3413, 'doubl': 1385, 'sweet': 4389, 'beverli': 504, 'alan': 193, 'cheat': 824, 'reveng': 3728, 'tongu': 4544, 'thru': 4505, 'segment': 3927, 'proper': 3497, 'outrag': 3190, 'busi': 683, 'exact': 1613, 'slapstick': 4079, 'misguid': 2908, 'onto': 3157, 'vh': 4767, '12': 7, 'premier': 3429, 'cabl': 696, 'weekend': 4868, 'en': 1526, 'mass': 2798, 'montana': 2944, 'wilder': 4908, 'sandler': 3852, 'alley': 213, 'cup': 1143, 'hood': 2198, 'neill': 3037, 'priceless': 3453, 'obscur': 3121, 'relat': 3657, 'mexican': 2863, 'ape': 288, '1969': 26, '1977': 33, 'acquir': 134, 'k': 2498, 'share': 3981, 'character': 809, 'outing': 3187, 'promin': 3490, 'st': 4212, 'nick': 3062, 'devil': 1291, 'proceed': 3473, 'satan': 3859, 'santa': 3854, 'clau': 890, 'eve': 1595, 'beard': 459, 'palac': 3222, 'accompani': 122, 'piano': 3323, 'visit': 4796, 'fame': 1683, 'magician': 2748, 'render': 3679, 'invis': 2395, 'wizard': 4932, 'frankenstein': 1852, 'dracula': 1394, '1974': 31, 'incident': 2304, 'excess': 1620, 'weight': 4869, 'enthusiast': 1558, 'rub': 3811, 'deliveri': 1244, 'inde': 2316, 'resembl': 3699, 'laurel': 2591, 'hardi': 2097, 'pad': 3214, 'lone': 2690, 'parent': 3239, 'wrap': 4960, 'packag': 3213, 'yearn': 4982, 'tempt': 4452, 'invad': 2390, 'trio': 4610, 'eventu': 1599, 'amongst': 244, 'rhyme': 3739, 'juvenil': 2497, 'guilti': 2055, 'bay': 453, 'golden': 1985, '21st': 67, 'la': 2559, 'california': 702, 'el': 1489, 'le': 2601, 'gabriel': 1903, 'elimin': 1501, 'realism': 3608, 'mexico': 2864, 'colonel': 943, 'popul': 3390, 'poverti': 3410, 'satir': 3860, 'priest': 3455, 'loyal': 2714, 'toler': 4537, 'finest': 1758, 'nanci': 3007, 'gather': 1922, 'popular': 3391, 'keen': 2510, 'attribut': 369, 'recal': 3617, 'warner': 4837, 'andrew': 255, 'maintain': 2755, 'ish': 2407, 'retain': 3719, 'behaviour': 477, 'background': 407, 'height': 2133, 'distant': 1351, 'cameo': 707, 'emma': 1516, 'niec': 3065, 'dad': 1162, 'suspici': 4380, 'solv': 4129, 'comfort': 956, 'straightforward': 4276, 'josh': 2476, 'jealou': 2438, 'ned': 3029, 'hide': 2153, 'truth': 4624, 'activ': 138, 'sentiment': 3946, 'scoobi': 3886, 'doo': 1380, 'minim': 2894, 'bag': 414, 'alert': 200, 'spark': 4164, 'trend': 4600, 'drag': 1395, 'forev': 1821, 'editor': 1476, 'remov': 3677, 'wander': 4826, 'secondli': 3912, 'z': 4993, '1970': 27, '1980': 36, 'hors': 2214, 'forth': 1832, 'laughabl': 2587, 'visibl': 4794, 'mar': 2774, 'landscap': 2573, 'broad': 640, 'sharp': 3984, 'bath': 449, 'orang': 3168, 'lit': 2671, 'interior': 2379, 'shaki': 3975, 'led': 2612, 'ear': 1449, 'rank': 3583, 'clint': 909, 'eastwood': 1462, '4th': 82, 'vacat': 4733, 'memor': 2844, 'punk': 3528, 'sandra': 3853, 'lock': 2684, 'enforc': 1538, 'worn': 4948, 'arnold': 315, 'termin': 4461, 'desir': 1273, 'j': 2417, 'redeem': 3632, 'reign': 3653, 'bargain': 432, 'bin': 519, 'shelley': 3992, 'duval': 1441, 'theatr': 4476, 'relief': 3665, 'jennif': 2444, 'cinderella': 870, 'matthew': 2811, 'fairi': 1675, 'royal': 3810, 'happili': 2092, 'spike': 4182, 'declin': 1218, 'flashi': 1778, 'stuck': 4302, 'countrysid': 1081, 'hapless': 2089, 'uk': 4647, 'deceas': 1212, 'pretend': 3443, 'celluloid': 780, 'abomin': 101, 'studio': 4305, 'depart': 1256, 'plod': 3361, 'slug': 4099, 'bite': 526, 'finger': 1759, 'theatric': 4477, 'formula': 1831, 'casper': 759, 'van': 4743, 'safeti': 3837, 'cruis': 1133, 'ship': 3999, 'sourc': 4152, 'lazi': 2600, 'profit': 3483, 'undertak': 4672, 'hostag': 2217, 'instantli': 2362, 'flashback': 1777, 'april': 301, 'prank': 3415, 'marti': 2791, 'punish': 3527, 'slasher': 4081, 'simultan': 4048, 'acid': 131, 'reunion': 3724, 'coincid': 933, 'belong': 485, 'clad': 881, 'holm': 2185, 'scar': 3869, 'rage': 3566, 'scenario': 3875, 'bizarr': 529, 'former': 1830, 'disjoint': 1341, 'wake': 4817, 'hospit': 2215, 'stab': 4213, 'nurs': 3114, 'tack': 4403, 'technic': 4439, 'jaw': 2435, 'trip': 4611, 'ventur': 4759, 'notion': 3100, 'paper': 3232, 'territori': 4466, 'term': 4460, 'region': 3646, 'teach': 4433, 'threaten': 4496, 'jon': 2471, 'voight': 4803, 'unknown': 4695, 'demonstr': 1250, 'hat': 2108, 'burt': 680, 'reynold': 3738, 'endur': 1534, 'everyday': 1603, 'beatti': 464, 'shell': 3991, 'cox': 1091, 'balanc': 419, 'pitch': 3338, 'suicid': 4339, 'weav': 4863, 'sheriff': 3994, 'cruel': 1131, 'enthral': 1556, 'lo': 2679, 'built': 668, 'wild': 4907, 'scare': 3870, 'provoc': 3511, 'jesu': 2450, 'interpret': 2382, 'witti': 4930, 'faith': 1677, 'sinist': 4056, 'mistaken': 2914, 'chri': 857, 'divin': 1362, 'glenn': 1966, 'wealthi': 4858, 'jonathan': 2472, 'circl': 875, 'scari': 3873, 'vomit': 4805, 'averag': 385, 'watcher': 4846, 'imit': 2278, 'buri': 677, 'zombi': 4997, 'grudg': 2047, 'afraid': 169, 'turkey': 4629, 'phoni': 3317, 'stoog': 4268, 'alic': 205, 'curli': 1147, 'mr': 2973, 'moe': 2931, 'senior': 3937, 'scream': 3895, 'curtain': 1150, 'aid': 183, 'simpl': 4043, 'jason': 2434, 'lacklust': 2564, 'succeed': 4327, 'varieti': 4750, 'trial': 4602, 'boot': 581, 'succe': 4326, 'highest': 2157, 'unforgett': 4681, 'georg': 1938, 'drivel': 1414, 'incomprehens': 2309, 'depress': 1260, 'dud': 1427, 'jungl': 2491, 'bo': 560, 'excus': 1624, 'tarzan': 4424, 'elvi': 1508, 'sea': 3903, 'imperson': 2286, 'convent': 1046, 'basing': 443, 'consider': 1020, 'merit': 2852, 'wheel': 4885, 'pink': 3334, 'dicken': 1301, 'format': 1829, 'recogniz': 3624, '1984': 39, 'eddi': 1470, 'murphi': 2986, 'min': 2889, 'trade': 4570, 'professor': 3481, 'redund': 3636, 'trilog': 4609, 'gari': 1918, 'sensat': 3939, 'conscious': 1016, 'react': 3601, 'sin': 4049, 'initi': 2343, 'glover': 1973, 'ensur': 1552, 'row': 3808, 'rock': 3775, 'semi': 3934, 'basi': 441, 'blatantli': 541, 'peck': 3278, 'sugar': 4337, 'addict': 146, 'quarter': 3544, 'cabin': 695, 'lake': 2568, 'demon': 1249, 'milk': 2883, 'downhil': 1390, 'clinic': 908, 'caricatur': 742, 'slowli': 4098, 'deeper': 1225, 'despair': 1274, 'laughter': 2588, 'repress': 3692, 'european': 1592, 'health': 2118, 'rapist': 3588, 'defend': 1229, 'arm': 312, 'behavior': 476, 'teacher': 4434, 'mental': 2848, 'middl': 2872, 'ritual': 3760, 'drove': 1419, 'wretch': 4965, 'dimension': 1313, 'miser': 2905, 'sorri': 4145, 'albert': 196, 'nemesi': 3040, 'super': 4352, 'bulk': 669, 'tribe': 4604, 'africa': 170, 'portion': 3395, 'african': 171, 'authent': 380, 'cyborg': 1157, 'treatment': 4596, 'boil': 568, 'babe': 400, 'vs': 4809, 'guin': 2056, '1940': 21, 'fabric': 1662, 'tend': 4455, 'sneak': 4113, 'lab': 2560, 'blew': 546, 'discoveri': 1334, 'poke': 3373, 'chuck': 865, 'barri': 435, 'clue': 921, 'highlight': 2159, 'horrid': 2210, 'lifetim': 2649, 'confess': 1001, 'ruth': 3827, 'thin': 4483, 'snake': 4110, 'england': 1541, 'whether': 4888, 'secretari': 3914, 'awhil': 396, 'london': 2689, 'parallel': 3236, 'furiou': 1895, 'mst3k': 2975, 'toward': 4563, 'christian': 860, 'fund': 1888, 'bibl': 508, 'improb': 2295, 'solid': 4126, 'prevent': 3447, 'psycho': 3517, 'skin': 4072, 'creep': 1112, 'unsettl': 4709, 'what': 4882, 'wall': 4821, 'tunnel': 4627, 'peak': 3276, 'equival': 1569, 'crippl': 1119, 'recreat': 3628, '1930': 17, 'likabl': 2653, 'karen': 2502, 'homer': 2190, 'simpson': 4047, 'buff': 664, 'emphas': 1520, 'deni': 1251, 'overact': 3194, 'meg': 2836, 'foster': 1836, 'newman': 3055, 'carel': 739, 'psychic': 3516, 'ol': 3147, 'spoken': 4199, 'jr': 2480, 'shine': 3998, 'whenev': 4886, 'fairli': 1676, 'transport': 4586, 'moder': 2927, 'strong': 4294, 'bikini': 515, 'chines': 845, 'maria': 2780, 'jail': 2423, 'cigarett': 869, 'metaphor': 2861, 'germani': 1942, 'loss': 2700, 'convers': 1047, 'answer': 269, 'karl': 2503, 'firm': 1762, 'miracl': 2901, 'repli': 3688, 'econom': 1468, 'process': 3474, 'fals': 1682, 'convey': 1049, 'ideolog': 2261, 'function': 1887, 'honesti': 2194, 'submit': 4317, 'central': 786, 'instrument': 2367, 'betti': 503, 'peter': 3305, 'stare': 4230, 'hart': 2105, 'testament': 4470, 'rex': 3737, 'dinosaur': 1316, 'hungri': 2243, 'satisfi': 3861, 'blockbust': 550, 'blame': 536, 'spielberg': 4181, 'await': 388, 'mayhem': 2816, 'instinct': 2364, 'sequel': 3950, 'master': 2801, 'declar': 1217, 'reliabl': 3664, 'sharon': 3983, 'slightli': 4093, 'storytel': 4274, 'friendli': 1869, 'clean': 893, 'pleasant': 3356, 'mon': 2936, 'seldom': 3928, 'lust': 2732, 'partner': 3252, 'psychiatrist': 3515, 'glass': 1965, 'seduc': 3918, 'spell': 4175, 'seduct': 3919, 'erot': 1573, 'ensu': 1551, 'recycl': 3630, 'notch': 3096, 'dazzl': 1196, 'chosen': 856, 'prize': 3468, 'barbara': 430, 'unseen': 4708, 'spi': 4178, 'report': 3689, 'associ': 346, 'denni': 1253, 'wilson': 4913, 'wanna': 4828, 'drain': 1397, 'footbal': 1815, 'reserv': 3700, 'hotel': 2220, 'museum': 2989, 'sidney': 4030, 'gentleman': 1936, 'paradis': 3235, 'pal': 3221, 'weather': 4862, 'fat': 1704, 'argument': 308, 'fruit': 1877, 'knee': 2539, 'sadist': 3834, 'basement': 439, 'tragedi': 4574, 'damag': 1167, 'divers': 1360, 'trick': 4606, 'scientif': 3884, 'puzzl': 3539, 'einstein': 1487, 'robbin': 3769, 'dysfunct': 1446, 'saga': 3838, 'meaning': 2824, 'altern': 224, 'dare': 1182, 'bogu': 567, 'reflect': 3641, 'naiv': 3004, 'prequel': 3434, 'charismat': 814, 'design': 1272, 'track': 4569, 'ted': 4443, 'artsi': 327, 'holocaust': 2186, 'unawar': 4654, 'charisma': 813, 'occur': 3132, 'despis': 1277, 'rush': 3823, 'per': 3285, 'tragic': 4575, 'ellen': 1504, 'aliv': 210, 'poetic': 3367, 'diari': 1299, 'tail': 4409, 'slight': 4091, 'suggest': 4338, 'drown': 1420, 'reid': 3652, 'pie': 3327, 'revel': 3727, 'stolen': 4264, 'friday': 1867, '13th': 9, 'lion': 2666, 'ran': 3576, 'leagu': 2604, 'muddl': 2978, 'reed': 3637, 'bradi': 606, 'connor': 1011, 'horrend': 2208, 'accord': 124, 'fred': 1857, 'australian': 379, 'grant': 2011, 'chamberlain': 798, 'accus': 128, 'deepli': 1226, 'convict': 1050, 'streep': 4282, 'nation': 3015, 'heartbreak': 2124, 'regardless': 3645, 'accuraci': 127, 'press': 3439, 'ruthless': 3828, 'habit': 2065, 'asylum': 354, 'mesmer': 2855, 'plausibl': 3351, 'driven': 1415, 'bunni': 676, 'outfit': 3186, 'tasteless': 4427, 'jim': 2456, 'hank': 2088, 'luke': 2726, 'glad': 1961, 'tape': 4420, 'mansion': 2772, 'supposedli': 4363, 'secretli': 3915, 'ensembl': 1550, 'inabl': 2298, 'stink': 4259, 'duo': 1436, 'pat': 3259, 'trail': 4576, 'unit': 4693, 'path': 3260, 'victori': 4774, 'lewi': 2639, 'nasti': 3012, 'apolog': 289, 'directori': 1321, 'astonish': 351, 'denzel': 1255, 'sensit': 3942, 'thread': 4494, 'tediou': 4444, 'intim': 2385, 'samurai': 3849, 'prime': 3458, 'fighter': 1745, '1st': 54, 'ton': 4542, 'hook': 2199, 'surround': 4373, 'nonetheless': 3084, 'breathtak': 621, 'monoton': 2941, 'charli': 816, 'empathi': 1518, 'morbid': 2953, 'butcher': 687, 'von': 4806, 'bound': 595, 'frankli': 1854, 'depth': 1261, 'duti': 1440, 'kiss': 2535, 'marin': 2781, '1945': 22, 'someday': 4131, 'tribut': 4605, 'courag': 1084, 'sacrif': 3831, 'lavish': 2594, 'warrant': 4838, 'soccer': 4118, 'bond': 573, 'jordan': 2474, 'goal': 1976, 'indian': 2320, 'jess': 2448, 'jule': 2485, 'knightley': 2543, 'invit': 2396, 'coach': 925, 'meyer': 2865, 'miller': 2885, 'explicit': 1642, 'stranger': 4280, 'razor': 3599, 'wield': 4904, 'prostitut': 3504, 'blake': 535, 'allen': 212, 'detect': 1285, 'keith': 2512, 'brian': 625, 'palma': 3226, 'measur': 2828, 'switch': 4393, 'motiv': 2964, 'unnecessari': 4699, 'controversi': 1044, 'inappropri': 2302, 'interestingli': 2378, '1981': 37, 'sniper': 4114, 'dismiss': 1344, '100': 5, 'zane': 4994, 'helicopt': 2137, 'oppos': 3164, 'elm': 1505, 'jam': 2425, 'exhaust': 1627, 'dig': 1307, '3000': 75, 'proud': 3508, '1987': 42, 'occup': 3130, 'ant': 270, 'construct': 1026, 'worker': 4945, 'instal': 2359, 'swim': 4391, 'pool': 3385, 'dirt': 1322, 'resid': 3701, 'via': 4768, 'draw': 1401, 'grand': 2008, 'dump': 1435, 'bread': 615, 'alien': 207, 'paranoia': 3238, 'polanski': 3376, 'horrifi': 2212, 'isabel': 2406, 'winter': 4920, 'belov': 486, '1995': 49, 'jone': 2473, 'pre': 3417, 'farmer': 1696, 'transfer': 4581, 'among': 243, 'transit': 4583, 'racial': 3560, 'strike': 4289, 'nelson': 3039, 'indi': 2318, 'philosophi': 3315, 'alter': 223, 'geniu': 1933, 'fonda': 1808, 'usa': 4722, 'toe': 4531, 'patrick': 3265, 'compens': 973, 'alison': 209, 'elizabeth': 1503, 'co': 924, 'magnific': 2749, 'craig': 1094, 'bruce': 653, 'obnoxi': 3120, 'feminist': 1729, 'kirk': 2534, 'profan': 3478, 'walt': 4824, 'vain': 4736, 'grew': 2030, 'spite': 4191, 'obligatori': 3119, 'melodramat': 2841, 'sung': 4349, 'abus': 113, 'unhappi': 4684, 'grown': 2045, 'numb': 3110, '1971': 28, 'hippi': 2166, 'india': 2319, 'spiritu': 4189, 'zone': 4998, 'east': 1460, 'unrel': 4706, 'virginia': 4790, 'chaplin': 806, 'likewis': 2655, 'destini': 1280, 'purpos': 3534, 'nuanc': 3106, 'fabul': 1663, 'torn': 4554, 'oblig': 3118, 'loyalti': 2715, 'speech': 4173, 'tokyo': 4535, 'spit': 4190, 'dislik': 1342, 'sketch': 4070, 'roommat': 3793, 'flesh': 1785, 'distribut': 1357, 'jerk': 2446, 'financi': 1755, 'store': 4270, 'unsuspect': 4710, 'independ': 2317, 'pioneer': 3335, 'werewolf': 4876, 'crush': 1134, 'domin': 1374, 'strongest': 4296, 'bitten': 527, 'beast': 460, 'bright': 631, 'outlin': 3189, 'guitar': 2057, 'asian': 332, 'biker': 514, 'stinker': 4260, 'ginger': 1956, 'louis': 2706, 'strand': 4278, 'torment': 4553, 'repuls': 3694, 'worri': 4949, 'shelf': 3990, 'tune': 4626, 'tiresom': 4526, 'chuckl': 866, 'gray': 2017, 'ethnic': 1588, 'anticip': 276, 'wisdom': 4923, 'aesthet': 163, 'disbelief': 1330, 'evok': 1609, 'l': 2558, 'knight': 2542, 'dick': 1300, 'traci': 4568, 'outdat': 3184, 'neg': 3032, 'madonna': 2743, 'warren': 4839, 'bold': 569, 'scarfac': 3872, 'niro': 3073, 'stomach': 4265, 'up': 4713, 'surreal': 4372, 'backward': 408, 'owe': 3203, 'higher': 2156, 'spoil': 4196, 'smell': 4105, 'coffe': 930, 'asleep': 335, 'decad': 1210, 'marc': 2775, 'concert': 995, 'album': 197, '2006': 63, '1972': 29, 'spine': 4186, 'jami': 2427, 'curti': 1151, 'g': 1900, 'carpent': 749, 'halloween': 2075, 'imageri': 2275, 'alfr': 204, 'ron': 3789, 'utter': 4729, 'peril': 3292, 'boredom': 584, 'kennedi': 2515, 'foxx': 1843, 'alvin': 228, 'edgar': 1472, 'bait': 415, 'dear': 1205, 'sixti': 4067, 'betray': 500, 'difficulti': 1306, 'intric': 2386, 'paula': 3269, 'vulner': 4811, 'mum': 2981, 'darren': 1186, 'pleasantli': 3357, 'contrast': 1040, 'insert': 2352, '1960': 24, 'fleet': 1784, 'enterpris': 1554, 'spock': 4195, 'mccoy': 2818, 'shanghai': 3979, 'iv': 2416, 'illog': 2270, '3rd': 78, '13': 8, 'prior': 3465, '2nd': 72, 'craft': 1093, 'futurist': 1898, 'fianc': 1737, 'gotten': 1999, '16': 12, 'younger': 4990, 'surf': 4366, 'disc': 1331, 'eva': 1593, 'survivor': 4375, 'primarili': 3457, 'eric': 1572, 'forgiv': 1824, 'isol': 2409, 'meat': 2829, 'heal': 2117, 'arab': 302, 'chicago': 835, 'firstli': 1765, 'defens': 1230, 'trauma': 4590, 'refresh': 3642, 'terri': 4462, 'gilliam': 1952, 'till': 4516, 'cole': 935, '1996': 50, 'viru': 4793, 'ocean': 3133, 'blur': 559, '1990': 45, 'brad': 605, 'pitt': 3340, 'jeffrey': 2442, 'soft': 4122, 'bland': 537, 'recit': 3620, 'heartfelt': 2125, 'cash': 757, 'bernard': 496, 'scroog': 3902, 'preming': 3430, 'revolt': 3732, 'flower': 1797, 'humour': 2240, 'own': 3205, 'predat': 3423, 'insan': 2351, 'feminin': 1728, 'latter': 2585, 'assault': 340, 'overwhelm': 3202, 'protest': 3507, 'beg': 472, 'purchas': 3531, 'widmark': 4902, 'ritter': 3759, '25': 70, '35': 76, 'destin': 1279, 'ador': 155, 'conspiraci': 1022, 'chao': 805, 'delici': 1240, 'stack': 4214, 'dorothi': 1383, 'malon': 2762, 'sheer': 3988, 'triumph': 4615, 'steel': 4244, 'pepper': 3284, 'toss': 4557, 'heel': 2132, 'random': 3579, 'bronson': 645, 'behold': 479, 'alright': 221, 'shallow': 3977, 'tyler': 4641, 'meaningless': 2825, 'beach': 456, 'corni': 1066, 'robin': 3771, 'ii': 2266, 'vari': 4748, 'chainsaw': 795, 'massacr': 2799, 'signific': 4034, 'select': 3929, 'furthermor': 1896, 'poetri': 3368, 'lift': 2650, 'altogeth': 227, 'distinct': 1352, 'literatur': 2674, 'swing': 4392, 'began': 473, 'infam': 2330, 'victorian': 4776, 'revolutionari': 3734, 'lighter': 2652, 'ancient': 251, 'overlook': 3200, 'scandal': 3868, 'psych': 3514, 'psychot': 3520, 'russian': 3826, 'cent': 783, 'armstrong': 314, 'moon': 2950, 'ridden': 3746, 'cring': 1118, 'campbel': 712, 'dean': 1204, 'hitchcock': 2172, 'spin': 4184, 'grave': 2016, 'boast': 562, 'lol': 2688, 'brand': 609, 'v': 4732, 'bsg': 656, 'eastern': 1461, 'electr': 1493, 'deriv': 1265, 'endear': 1532, 'organ': 3171, 'shoulder': 4013, 'mobil': 2922, 'gundam': 2059, 'wing': 4918, 'chronicl': 864, 'destruct': 1282, 'greater': 2020, 'magazin': 2745, 'mortal': 2960, 'seed': 3921, 'bent': 493, 'oz': 3207, '2003': 60, 'rooki': 3791, 'sensual': 3943, 'equip': 1568, 'corps': 1068, 'pot': 3405, 'globe': 1969, 'freddi': 1858, 'hardcor': 2095, 'unreal': 4704, 'kazan': 2508, 'infect': 2331, 'palanc': 3223, 'interrupt': 2383, 'respond': 3709, 'passabl': 3254, 'coher': 932, 'carol': 748, 'ingeni': 2337, 'carrey': 751, 'collaps': 938, 'breast': 619, 'stroke': 4293, 'heap': 2120, 'moron': 2958, 'judgment': 2483, 'zero': 4995, 'cemeteri': 781, 'lynch': 2734, 'prey': 3451, 'newer': 3053, 'anchor': 250, 'down': 1388, '1989': 44, '1991': 46, 'charlott': 817, 'eyr': 1660, 'mini': 2893, 'text': 4472, 'timothi': 4522, 'dalton': 1166, 'rochest': 3774, 'characterist': 811, 'quiet': 3550, 'chemistri': 830, 'devot': 1293, 'gothic': 1997, 'introduct': 2389, 'discern': 1332, 'roof': 3790, 'contest': 1034, 'bridg': 627, 'irish': 2401, 'millionair': 2887, 'wrench': 4962, 'enthusiasm': 1557, 'distress': 1356, 'conceiv': 991, '1920': 16, 'silent': 4036, 'repetit': 3685, 'indic': 2321, 'lloyd': 2678, 'hugh': 2232, 'dawn': 1193, 'bacon': 409, 'diseas': 1336, 'fx': 1899, 'rule': 3818, 'quietli': 3551, 'traffic': 4573, 'cardboard': 736, 'cohen': 931, 'bash': 440, 'norm': 3087, 'contempt': 1032, 'myth': 3000, 'repeat': 3683, 'shred': 4021, 'bumbl': 673, 'toilet': 4533, 'empti': 1525, 'guid': 2053, 'archiv': 304, 'bias': 507, 'streisand': 4284, 'fought': 1837, 'exhibit': 1628, 'mixtur': 2919, 'whale': 4881, 'mock': 2924, 'undead': 4662, 'bori': 585, 'bela': 480, 'border': 582, 'menac': 2847, 'whore': 4897, 'pseudo': 3513, 'et': 1584, 'slap': 4078, 'cg': 792, 'easier': 1458, 'suspend': 4378, 'pixar': 3341, 'dragon': 1396, 'facil': 1666, 'vocal': 4801, '3d': 77, 'gradual': 2004, 'confid': 1002, 'pressur': 3440, 'flock': 1792, 'address': 148, 'bett': 501, 'born': 586, 'pregnant': 3427, 'pray': 3416, 'nicol': 3063, 'kidman': 2525, 'sue': 4333, 'devoid': 1292, 'kelli': 2513, 'upper': 4717, 'porter': 3394, 'belushi': 488, 'homeless': 2189, 'resourc': 3707, 'latest': 2583, 'constant': 1023, 'notori': 3101, 'gimmick': 1954, 'countless': 1079, 'fuller': 1884, 'rival': 3761, 'stuart': 4301, 'homicid': 2191, 'climax': 906, 'rosemari': 3799, 'upset': 4718, 'diamond': 1296, 'domino': 1375, 'luci': 2717, 'liu': 2676, 'fbi': 1714, 'austin': 377, 'shorter': 4010, 'elderli': 1491, 'glow': 1974, 'clair': 883, 'dane': 1177, 'tall': 4416, 'climact': 904, 'lovabl': 2708, 'grab': 2001, 'extens': 1653, 'squar': 4211, 'literari': 2673, 'counterpart': 1078, 'baldwin': 420, 'knife': 2541, 'christi': 859, 'garbo': 1916, 'censor': 782, 'scriptwrit': 3901, 'baddi': 411, 'behav': 475, 'ought': 3181, 'transform': 4582, 'goofi': 1991, 'unexplain': 4678, 'shout': 4014, 'spooki': 4202, '1999': 52, 'cliff': 902, 'critiqu': 1122, 'enlighten': 1546, 'mystic': 2999, 'realm': 3613, 'beatl': 463, 'davi': 1191, '2005': 62, 'kingdom': 2533, 'rampag': 3575, 'mighti': 2875, 'melt': 2842, 'tomato': 4539, 'spray': 4205, 'aussi': 375, 'schedul': 3878, 'rambl': 3572, 'buzz': 692, 'bubbl': 659, 'conveni': 1045, 'weakest': 4856, 'durat': 1437, 'absenc': 107, 'mitch': 2916, 'counter': 1077, 'cancel': 716, 'offici': 3141, 'guest': 2052, 'hip': 2165, 'flavor': 1780, 'unimagin': 4687, 'anni': 265, 'cd': 776, 'cameron': 709, 'deem': 1223, 'inferior': 2332, 'util': 4728, 'load': 2680, 'lengthi': 2626, 'access': 118, 'elsewher': 1507, 'kinda': 2531, 'encourag': 1530, 'static': 4237, 'constantli': 1024, 'decis': 1216, 'johnni': 2466, 'compos': 982, 'goer': 1981, 'epitom': 1566, 'partli': 3251, 'buck': 660, 'kubrick': 2551, 'vast': 4752, '2004': 61, '1988': 43, 'hay': 2113, 'dive': 1359, 'recognis': 3622, 'extent': 1654, 'humbl': 2237, 'uh': 4646, 'blown': 556, 'rose': 3798, 'traumat': 4591, 'disord': 1346, 'announc': 266, 'phrase': 3321, 'applaud': 295, 'bobbi': 565, 'stan': 4223, 'stale': 4219, 'profil': 3482, 'jimmi': 2457, 'howard': 2225, 'pc': 3274, 'ban': 423, 'pour': 3409, 'medic': 2832, 'woo': 4938, 'abort': 103, 'groan': 2039, 'preced': 3420, 'funer': 1890, 'journalist': 2477, 'scoop': 3887, 'woodi': 4941, 'sid': 4026, 'inclus': 2306, 'supernatur': 4359, 'worthwhil': 4956, 'brazil': 614, 'forest': 1820, 'pacif': 3210, 'expedit': 1634, 'tad': 4407, 'ingredi': 2338, 'ya': 4976, 'kung': 2554, 'fu': 1879, '2002': 59, 'highway': 2160, 'danish': 1180, 'immigr': 2283, 'showdown': 4018, 'bourn': 596, 'tight': 4515, 'russia': 3825, 'damon': 1171, 'gasp': 1920, 'off': 3136, 'shaw': 3986, 'breed': 622, 'nuclear': 3107, 'hypnot': 2251, 'illus': 2271, 'obtain': 3125, 'pursu': 3535, 'synopsi': 4399, 'choke': 848, 'artwork': 328, 'carl': 743, 'rachel': 3559, 'leigh': 2621, 'ralph': 3570, 'bakshi': 418, 'ice': 2254, 'sword': 4394, 'quest': 3546, 'aveng': 384, 'princess': 3461, 'collabor': 937, 'roy': 3809, 'thoma': 4488, 'conan': 990, 'painter': 3219, 'admittedli': 152, 'exchang': 1621, '22': 68, 'norman': 3089, 'bate': 448, 'spade': 4159, 'brooklyn': 648, 'inhabit': 2340, 'seller': 3933, 'sentinel': 3947, 'mount': 2966, 'heartwarm': 2126, 'bulli': 672, 'creation': 1105, 'hug': 2230, 'alongsid': 219, 'turtl': 4632, 'necessarili': 3027, 'audrey': 373, 'hepburn': 2145, 'sheet': 3989, 'sparkl': 4165, 'valentin': 4737, 'desert': 1270, 'ethan': 1587, 'map': 2773, 'camcord': 705, 'confirm': 1004, 'window': 4917, 'foil': 1804, 'gilbert': 1951, 'contact': 1028, 'instruct': 2366, 'alli': 214, 'palm': 3225, 'global': 1968, 'websit': 4865, 'charl': 815, 'boyer': 602, 'spanish': 4162, 'lauren': 2592, 'bacal': 402, 'lui': 2724, 'miscast': 2904, 'forgiven': 1825, 'ms': 2974, 'underst': 4669, 'household': 2223, 'inherit': 2342, 'restor': 3713, 'circu': 876, 'cuban': 1137, 'missil': 2911, 'corpor': 1067, 'aborigin': 102, 'claustrophob': 892, 'spill': 4183, 'bean': 457, 'huh': 2233, 'key': 2520, 'grasp': 2013, 'eeri': 1479, 'scariest': 3874, 'birthday': 523, 'hilar': 2161, 'identifi': 2260, 'competit': 975, 'bro': 639, 'kay': 2507, 'implaus': 2287, 'canada': 714, 'vibrant': 4769, 'yellow': 4984, 'chest': 833, 'tommi': 4540, 'sailor': 3840, 'abund': 112, 'broke': 643, 'vulgar': 4810, 'viciou': 4771, 'cannon': 722, 'basketbal': 445, 'alik': 208, 'dismal': 1343, 'detach': 1283, 'maniac': 2767, 'candl': 720, 'fluid': 1799, 'bride': 626, 'recruit': 3629, 'pervers': 3301, 'britain': 637, 'compris': 986, 'worship': 4951, 'culmin': 1140, 'amazingli': 234, 'franco': 1850, 'spain': 4160, '1976': 32, 'phenomenon': 3310, 'emphasi': 1521, 'taboo': 4402, 'barn': 433, 'exercis': 1626, 'confin': 1003, 'sleaz': 4084, 'anger': 258, 'uwe': 4731, 'boll': 570, 'percept': 3287, 'echo': 1467, 'bastard': 446, 'weari': 4861, 'kline': 2538, 'scope': 3888, 'downey': 1389, 'antholog': 272, 'prom': 3489, 'sean': 3906, 'conneri': 1010, 'winchest': 4915, 'rifl': 3750, 'subtleti': 4324, 'passag': 3255, 'librari': 2644, 'chees': 828, 'fright': 1871, 'monument': 2947, 'task': 4425, 'spoke': 4198, 'mankind': 2769, 'digniti': 1309, 'bless': 545, 'bottl': 591, 'drunken': 1424, 'cure': 1144, 'shake': 3973, 'foul': 1838, 'del': 1236, 'distort': 1354, 'depend': 1258, 'context': 1035, 'awak': 389, 'tactic': 4406, 'nervou': 3045, 'suspicion': 4381, 'banter': 428, 'verg': 4761, 'invest': 2393, 'squad': 4210, 'integr': 2370, 'vastli': 4753, 'bathroom': 450, 'threat': 4495, 'veteran': 4766, 'sore': 4144, 'mgm': 2866, 'fifti': 1743, 'lesser': 2633, 'bowl': 598, 'gloriou': 1972, 'attend': 364, 'nude': 3108, 'item': 2415, 'wax': 4850, 'h': 2063, 'lean': 2605, 'boo': 577, 'closest': 915, 'stole': 4263, 'businessman': 684, 'swallow': 4384, 'modest': 2929, 'arrest': 318, 'pg': 3307, 'splatter': 4192, 'hideou': 2154, 'sicken': 4025, 'sidekick': 4028, 'drake': 1398, 'sullivan': 4342, 'visitor': 4797, 'crocodil': 1123, 'fifth': 1742, 'riot': 3753, 'fundament': 1889, 'brit': 636, 'exposit': 1648, 'pant': 3231, 'sun': 4347, 'handicap': 2084, 'flawless': 1782, 'crystal': 1135, 'spice': 4179, 'ireland': 2400, 'daisi': 1165, 'stylish': 4312, 'naughti': 3018, 'divid': 1361, 'predecessor': 3424, 'clash': 887, 'esther': 1582, 'judi': 2484, 'banal': 424, 'rave': 3595, 'solo': 4127, 'dire': 1317, 'vignett': 4782, 'dylan': 1444, 'darn': 1185, 'comprehens': 985, 'employe': 1524, 'slash': 4080, 'wtf': 4971, 'truck': 4619, 'feat': 1717, 'neck': 3028, 'hopelessli': 2204, 'cartoonish': 755, 'victor': 4773, 'wildli': 4909, 'boob': 578, 'puppi': 3530, 'dana': 1173, 'donna': 1378, 'tourist': 4562, '1979': 35, 'lisa': 2668, 'undermin': 4666, 'vagu': 4735, 'cape': 728, 'fallen': 1681, 'mail': 2751, 'demis': 1248, 'labor': 2562, 'blast': 539, 'mickey': 2870, 'shield': 3996, 'abraham': 105, 'snap': 4111, 'hallucin': 2076, 'insur': 2369, 'speci': 4168, 'hack': 2066, 'onlin': 3156, 'domest': 1373, 'exterior': 1655, 'whoopi': 4896, 'goldberg': 1983, 'cream': 1103, 'absent': 108, 'drum': 1422, 'lampoon': 2570, 'stake': 4218, 'playboy': 3353, 'nake': 3005, 'joel': 2463, 'sh': 3970, 'jake': 2424, 'anthoni': 273, 'bloom': 554, 'estat': 1581, 'linger': 2664, 'angst': 261, 'craze': 1101, 'candid': 719, 'radiat': 3563, 'fox': 1842, 'isra': 2410, 'preserv': 3437, 'aggress': 178, 'ticket': 4511, 'israel': 2411, 'geni': 1932, 'ghetto': 1945, 'rap': 3585, 'beer': 470, '1986': 41, 'holiday': 2181, 'greedi': 2024, 'swept': 4390, 'ritchi': 3758, 'im': 2273, 'file': 1747, 'quaid': 3541, 'wallac': 4822, 'bachelor': 404, 'clown': 919, 'barrymor': 436, 'ward': 4832, 'redneck': 3634, 'cleverli': 898, 'feet': 1722, 'pokemon': 3374, 'ash': 329, 'burton': 681, 'bergman': 494, 'outer': 3185, 'orient': 3172, 'ashley': 331, 'judd': 2481, 'seven': 3964, 'crowd': 1127, 'waitress': 4816, 'brillianc': 632, 'couch': 1074, 'glorifi': 1971, 'atlanti': 356, 'ideal': 2258, 'whack': 4880, 'robinson': 3772, 'cancer': 717, 'nine': 3070, 'timeless': 4520, 'heston': 2150, 'hamlet': 2079, 'shakespear': 3974, 'wwii': 4973, 'chan': 801, 'cerebr': 788, 'bedroom': 469, 'conquer': 1012, 'string': 4290, 'daddi': 1163, 'skull': 4075, 'helm': 2140, 'frantic': 1855, 'improvis': 2297, '1978': 34, 'enhanc': 1544, 'exposur': 1649, 'steven': 4251, 'loretta': 2697, 'jo': 2458, 'effici': 1481, 'trademark': 4571, 'dedic': 1220, 'anderson': 252, 'parad': 3234, 'uplift': 4715, 'rubi': 3814, 'decor': 1219, 'larri': 2579, 'freez': 1862, 'newli': 3054, 'hamilton': 2078, 'ace': 129, 'nolan': 3079, 'hello': 2139, 'pretens': 3444, 'latin': 2584, 'instant': 2361, 'slam': 4077, 'conserv': 1018, 'morgan': 2955, 'freeman': 1861, 'warmth': 4835, 'cell': 779, 'rehears': 3651, 'inmat': 2347, 'redempt': 3633, 'broadcast': 641, 'eleph': 1497, 'gene': 1929, 'grayson': 2018, 'energet': 1536, 'substitut': 4321, 'rear': 3614, 'slightest': 4092, 'choreograph': 852, 'stanwyck': 4228, 'constitut': 1025, 'solut': 4128, 'dash': 1187, 'lesli': 2631, 'id': 2256, 'whine': 4890, 'twilight': 4637, 'unleash': 4696, 'kapoor': 2501, 'legaci': 2616, 'tomorrow': 4541, 'grotesqu': 2041, 'heaven': 2128, 'frog': 1873, 'pursuit': 3536, 'superbl': 4354, 'grey': 2031, 'anton': 277, 'primit': 3459, 'faster': 1703, 'tackl': 4405, 'disastr': 1329, 'overr': 3201, 'miniseri': 2896, 'gambl': 1909, 'resum': 3717, 'agenda': 176, 'coat': 928, 'jet': 2451, 'luxuri': 2733, 'chess': 832, 'partial': 3247, 'ego': 1484, 'strictli': 4288, 'gap': 1914, 'mafia': 2744, 'derek': 1264, 'franki': 1853, 'tip': 4524, 'canyon': 725, 'http': 2228, 'btw': 657, 'oldest': 3150, 'politician': 3383, 'crook': 1124, 'hesit': 2149, 'reincarn': 3654, 'enlist': 1547, 'assist': 345, 'butler': 688, 'jeremi': 2445, 'devast': 1288, 'scarecrow': 3871, 'cb': 775, 'inan': 2301, 'simplic': 4045, 'sale': 3843, 'sibl': 4023, 'mislead': 2909, 'bust': 685, 'cope': 1059, 'tick': 4510, 'polici': 3380, 'phantom': 3308, 'factori': 1669, 'taught': 4428, 'ultra': 4649, 'barrel': 434, 'voyag': 4808, 'giallo': 1947, 'enchant': 1528, 'macabr': 2736, 'grandfath': 2009, 'kitti': 2537, 'evelyn': 1596, 'spree': 4207, 'fenc': 1731, 'macho': 2739, 'smith': 4107, '2007': 64, 'seedi': 3922, 'astound': 352, 'cap': 726, 'francisco': 1849, 'wont': 4937, 'cagney': 698, 'gangster': 1913, 'eas': 1456, '1933': 18, 'assassin': 339, 'june': 2490, 'akshay': 190, 'calib': 701, 'injur': 2345, 'rubber': 3812, 'jacket': 2419, 'airport': 187, 'charlton': 818, 'tax': 4429, 'hung': 2242, 'wealth': 4857, 'unravel': 4703, 'greek': 2025, 'hype': 2250, 'indiffer': 2322, 'nostalg': 3093, 'columbo': 947, 'mild': 2878, 'q': 3540, 'shatter': 3985, 'consciou': 1015, 'spontan': 4200, 'cycl': 1158, 'tap': 4419, 'fanat': 1688, 'gillian': 1953, 'obstacl': 3124, 'immers': 2282, 'scottish': 3893, 'rome': 3786, 'porno': 3393, 'wayn': 4852, 'hudson': 2229, 'kyle': 2557, 'jar': 2432, 'wolf': 4933, 'thunderbird': 4509, 'paxton': 3272, 'blunt': 558, 'summar': 4344, 'recov': 3627, 'poem': 3366, 'cassidi': 761, 'trace': 4567, 'li': 2641, 'breakfast': 618, 'champion': 799, 'glare': 1964, 'skeptic': 4069, 'lili': 2656, 'gregori': 2029, 'roller': 3782, 'coaster': 927, 'lou': 2703, 'moodi': 2949, 'muslim': 2992, 'comb': 949, 'casino': 758, 'brenda': 623, 'merci': 2850, 'dealt': 1203, 'logan': 2685, 'choreographi': 853, 'alexand': 202, 'godzilla': 1979, 'perman': 3294, 'silenc': 4035, 'lifestyl': 2648, 'simplist': 4046, 'catherin': 769, 'evolut': 1610, 'darker': 1184, 'arc': 303, 'boston': 589, 'baffl': 413, 'unorigin': 4700, 'hopeless': 2203, 'talki': 4415, 'patricia': 3264, 'salli': 3844, 'nun': 3113, 'roth': 3802, 'popcorn': 3389, 'hawk': 2112, 'ho': 2175, 'hackman': 2067, 'andr': 254, 'laura': 2590, 'inject': 2344, 'vein': 4756, 'goldblum': 1984, 'inflict': 2333, 'nightclub': 3067, 'uncut': 4661, 'messi': 2858, 'iii': 2267, 'toronto': 4555, 'iran': 2398, 'myer': 2997, 'er': 1570, 'pen': 3280, 'shepherd': 3993, 'raymond': 3598, 'cattl': 771, 'perri': 3296, 'mason': 2797, 'awaken': 390, 'underground': 4664, 'mol': 2932, 'mirror': 2903, 'examin': 1616, 'angela': 257, 'biko': 516, 'descend': 1266, 'inept': 2327, 'radic': 3564, 'rooney': 3794, 'brush': 654, 'rope': 3796, 'wet': 4879, 'styliz': 4313, 'raj': 3569, 'kumar': 2553, 'khan': 2521, 'rabbit': 3557, 'basebal': 438, 'lanc': 2571, 'rumor': 3819, 'pamela': 3228, '75': 90, 'stanley': 4227, 'walker': 4820, 'religion': 3667, 'wrestler': 4964, 'lawrenc': 2596, 'glanc': 1963, 'temper': 4450, 'eccentr': 1466, 'amazon': 235, 'moreov': 2954, 'linear': 2662, 'belt': 487, 'fragil': 1844, 'sirk': 4059, 'occupi': 3131, 'affleck': 166, 'lester': 2635, 'tooth': 4549, 'howl': 2227, 'lumet': 2727, 'experiment': 1638, 'transplant': 4585, 'bake': 416, 'sidewalk': 4029, 'goof': 1990, 'unwatch': 4712, 'penn': 3281, 'austen': 376, 'bridget': 628, 'vega': 4754, 'molli': 2933, 'joey': 2464, 'jare': 2433, 'rendit': 3680, 'underli': 4665, 'abrupt': 106, 'claud': 891, 'mathieu': 2806, 'immatur': 2279, 'arguabl': 307, 'belli': 484, 'shoddi': 4003, 'convert': 1048, 'resurrect': 3718, 'snl': 4115, 'mtv': 2976, 'posey': 3399, 'senat': 3935, 'click': 900, 'rural': 3822, 'carter': 753, 'margin': 2778, 'kiddi': 2524, 'filth': 1752, 'griffith': 2033, 'mario': 2782, 'grin': 2035, 'revers': 3729, 'inaccuraci': 2300, 'childish': 841, 'rotten': 3803, 'growth': 2046, 'cooki': 1055, 'stalker': 4221, 'muppet': 2984, 'nina': 3069, 'berlin': 495, 'hammi': 2081, 'trigger': 4608, 'randomli': 3580, 'harvey': 2107, 'spacey': 4158, 'damm': 1169, 'minimum': 2895, 'beaten': 462, 'cue': 1139, 'convincingli': 1052, 'laurenc': 2593, 'olivi': 3152, 'cloud': 918, 'hatr': 2110, 'greed': 2023, 'patriot': 3266, 'genet': 1931, 'trivia': 4616, 'cush': 1153, 'lugosi': 2723, 'capot': 730, 'coup': 1082, 'size': 4068, 'cube': 1138, 'cypher': 1160, '28': 71, 'chavez': 821, 'lena': 2623, 'novak': 3102, 'acclaim': 121, 'monti': 2946, 'falk': 1679, 'wagner': 4814, 'implic': 2289, 'loneli': 2691, 'miseri': 2906, 'romero': 3787, 'client': 901, 'johnson': 2467, 'tonight': 4546, 'salt': 3846, 'bravo': 613, 'newcom': 3052, 'vietnam': 4778, 'variat': 4749, 'lex': 2640, 'underworld': 4673, 'martha': 2790, 'wang': 4827, 'mode': 2925, 'fulci': 1881, 'plight': 3360, 'lurk': 2730, 'buster': 686, 'lang': 2575, 'modesti': 2930, 'duel': 1431, 'duke': 1432, 'dwarf': 1443, 'antonioni': 279, 'rukh': 3817, 'gandhi': 1911, 'racism': 3561, 'underneath': 4667, 'embark': 1511, 'shed': 3987, 'delet': 1237, 'ballet': 422, 'pirat': 3336, 'dave': 1190, '1936': 19, 'outlaw': 3188, 'mike': 2877, 'stimul': 4258, 'stargat': 4231, 'weaker': 4855, 'crawl': 1100, 'emperor': 1519, 'spiral': 4187, 'randolph': 3578, 'carmen': 747, 'eleg': 1495, 'baker': 417, 'mclaglen': 2819, 'collector': 941, 'dilemma': 1310, 'superfici': 4355, 'meander': 2823, 'jazz': 2437, 'firmli': 1763, 'cooper': 1057, 'sympath': 4396, 'similarli': 4040, 'impos': 2292, 'suprem': 4364, 'policeman': 3379, 'axe': 398, 'vanc': 4744, 'astair': 350, 'tripl': 4613, 'catchi': 767, 'karloff': 2504, 'poe': 3365, 'articl': 324, 'spinal': 4185, 'dolph': 1372, 'lundgren': 2728, 'watson': 4848, 'analysi': 248, 'emili': 1515, 'cari': 741, 'mildr': 2880, 'elit': 1502, 'han': 2082, 'melodi': 2839, 'greet': 2027, 'restrain': 3714, 'geek': 1926, 'immort': 2284, '1968': 25, 'orphan': 3175, 'meal': 2821, 'spectacl': 4171, 'omen': 3154, 'cassavet': 760, 'alexandr': 203, 'cinematograph': 873, 'surgeri': 4368, 'adolesc': 153, 'mall': 2761, 'joker': 2470, 'natali': 3013, 'mundan': 2983, 'rita': 3757, 'pattern': 3267, 'startl': 4234, 'phil': 3311, 'seagal': 3904, 'margaret': 2777, 'crawford': 1099, 'bat': 447, 'antwon': 280, 'che': 822, 'flynn': 1800, 'boyl': 604, 'marion': 2783, 'favour': 1711, 'randi': 3577, 'uma': 4650, 'loi': 2687, 'lane': 2574, 'invas': 2391, 'programm': 3486, 'rosario': 3797, 'dawson': 1194, 'altman': 226, 'trashi': 4589, 'ingrid': 2339, 'pervert': 3302, 'oppon': 3162, 'preposter': 3433, 'flame': 1775, 'branagh': 608, 'kenneth': 2516, 'corman': 1063, 'illeg': 2269, 'tierney': 4513, 'nope': 3086, 'overcom': 3196, 'justin': 2496, 'blah': 533, 'faint': 1673, 'exquisit': 1651, 'cecil': 777, 'buffalo': 665, 'quinn': 3552, 'lincoln': 2658, 'errol': 1574, 'hopkin': 2205, 'farm': 1695, 'flag': 1773, 'vet': 4765, 'evan': 1594, 'fishburn': 1767, 'drone': 1417, 'sorrow': 4146, 'drip': 1412, 'overlong': 3199, 'bye': 693, 'dust': 1438, 'brood': 646, 'milo': 2888, 'rot': 3801, 'tendenc': 4456, 'luca': 2716, 'superhero': 4356, 'stiller': 4256, 'maci': 2740, 'deer': 1227, 'ladder': 2565, 'miyazaki': 2920, 'hara': 2093, 'pierc': 3329, 'brosnan': 649, 'dreari': 1405, 'derang': 1263, 'yeti': 4987, 'feast': 1716, 'fifteen': 1741, 'walken': 4819, 'versu': 4764, 'sunni': 4350, 'conrad': 1013, 'huston': 2248, 'expand': 1632, 'nyc': 3116, 'ratso': 3594, 'cathol': 770, 'empir': 1522, 'mummi': 2982, 'elvira': 1509, 'jodi': 2461, 'akin': 189, 'martian': 2793, 'goldsworthi': 1986, 'fay': 1713, 'troop': 4617, 'athlet': 355, 'repris': 3693, 'venom': 4758, 'headach': 2116, 'retriev': 3722, 'sassi': 3857, 'valid': 4738, 'carlito': 745, 'othello': 3178, 'kurosawa': 2555, 'dame': 1168, 'gabl': 1902, 'preston': 3441, 'nolt': 3080, 'iraq': 2399, '1994': 48, 'ustinov': 4726, 'maggi': 2746, 'victoria': 4775, 'kent': 2517, 'sooner': 4141, 'richardson': 3743, 'coloni': 944, 'mute': 2995, 'carradin': 750, 'rocki': 3777, 'peer': 3279, 'morri': 2959, 'eugen': 1589, 'fart': 1698, 'mermaid': 2853, 'decept': 1214, 'irrelev': 2404, 'rick': 3744, 'springer': 4209, 'europa': 1591, 'trier': 4607, 'creek': 1111, 'assert': 342, 'fisher': 1768, 'zizek': 4996, 'snatch': 4112, 'hal': 2071, 'giggl': 1950, 'antagonist': 271, 'galaxi': 1908, 'corn': 1064, 'tech': 4438, 'stallon': 4222, 'melissa': 2838, 'der': 1262, 'wwe': 4972, 'championship': 800, 'fever': 1735, 'ceremoni': 789, 'triangl': 4603, 'furi': 1894, 'ariel': 309, 'craven': 1098, 'miami': 2867, '1985': 40, 'gunga': 2060, 'din': 1314, 'kansa': 2500, 'departur': 1257, 'egg': 1483, 'basket': 444, 'prophet': 3501, 'corbett': 1061, 'hopper': 2206, 'sammi': 3848, '73': 89, 'mann': 2770, 'institut': 2365, 'leather': 2609, 'delic': 1239, 'zoom': 4999, 'sand': 3851, 'coast': 926, 'jill': 2455, 'miik': 2876, 'astronaut': 353, 'timon': 4521, 'idol': 2263, 'turd': 4628, 'earnest': 1454, 'carlo': 746, 'heist': 2134, 'minist': 2897, 'greg': 2028, 'dixon': 1364, 'attorney': 367, 'legitim': 2620, 'hartley': 2106, 'julian': 2488, 'wendi': 4873, 'pole': 3377, 'brendan': 624, 'florida': 1795, 'housewif': 2224, 'out': 3182, 'kolchak': 2548, 'valley': 4739, 'luka': 2725, 'poker': 3375, 'renaiss': 3678, 'cher': 831, 'alicia': 206, 'dee': 1221, 'sergeant': 3952, 'parson': 3244, 'leonard': 2629, 'clara': 885, 'walsh': 4823, 'vader': 4734, 'jedi': 2440, 'mormon': 2956, 'timberlak': 4518, 'gere': 1940, 'bondag': 574, 'sabrina': 3830, 'ramon': 3574, 'enabl': 1527, 'soderbergh': 4121, 'olli': 3153, 'garner': 1919, 'naschi': 3011, 'wendigo': 4874, 'lucil': 2718, 'sox': 4156, 'fido': 1739}\n"
     ]
    }
   ],
   "source": [
    "print(str(vocabulary))"
   ]
  },
  {
   "cell_type": "markdown",
   "metadata": {},
   "source": [
    "- Now copy above two and past in the lambda handler and click `save`\n",
    "\n",
    "Testing the labmda function\n",
    "- For that, select `Configure test events` under test event drop down menu\n",
    "- In the pop up window, select event templete - `Amazon API Gateway AWS Proxy`\n",
    "- Enter Event name - `testEvent`\n",
    "- Change `\"body\": \"eyJ0ZXN0IjoiYm9keSJ9\"` to review we wanted to test. Lets say `Move was bad. I wish i did not go to that move`\n",
    "- Now click 'Test' to test the event\n",
    "- you can see the execution Result with body as \"0\". Which means review is negative"
   ]
  },
  {
   "cell_type": "markdown",
   "metadata": {},
   "source": [
    "### Setting up API Gateway\n",
    "\n",
    "- Using AWS Console, navigate to Amazon API Gateway and then click on Get started.\n",
    "- On the next page, make sure that New API is selected and give the new api a name, for example, sentiment_analysis_web_app. Then, click on Create API.\n",
    "- Select the Actions dropdown menu and click Create Method. A new blank method will be created, select its dropdown menu and select POST, then click on the check mark beside it.\n",
    "- For the integration point, make sure that Lambda Function is selected and click on the Use Lambda Proxy integration. This option makes sure that the data that is sent to the API is then sent directly to the Lambda function with no processing. It also means that the return value must be a proper response object as it will also not be processed by API Gateway.\n",
    "- Type the name of the Lambda function you created earlier (sentiment_analysis_xgboost_func) into the Lambda Function text entry box and then click on Save. Click on OK in the pop-up box that then appears, giving permission to API Gateway to invoke the Lambda function you created.\n",
    "- The last step in creating the API Gateway is to select the Actions dropdown and click on Deploy API. You will need to create a new Deployment stage and name it anything you like, for example prod.\n",
    "- You have now successfully set up a public API to access your SageMaker model. Make sure to copy or write down the URL provided to invoke your newly created public API as this will be needed in the next step. This URL can be found at the top of the page, highlighted in blue next to the text Invoke URL.\n",
    "    > https://ph773ee7sk.execute-api.us-east-2.amazonaws.com/prod"
   ]
  },
  {
   "cell_type": "markdown",
   "metadata": {},
   "source": [
    "### Deploying the web app\n",
    "\n",
    "- Under the same folder as this file there is an `index.html`. Download the file to your computer and open that file up in a text editor of your choice. There should be a line which contains **REPLACE WITH PUBLIC API URL**. with the url we created in above step (https://ph773ee7sk.execute-api.us-east-2.amazonaws.com/prod) and save\n",
    "- Now, if you open index.html on your local computer, your browser will behave as a local web server and you can use the provided site to interact with your SageMaker model.\n",
    "- If you'd like to go further, you can host this html file anywhere you'd like, for example using github or hosting a static site on Amazon's S3. Once you have done this you can share the link with anyone you'd like and have them play with it too!\n",
    "\n",
    "\n",
    "**Important Note** In order for the web app to communicate with the SageMaker endpoint, the endpoint has to actually be deployed and running. This means that you are paying for it. Make sure that the endpoint is running when you want to use the web app but that you shut it down when you don't need it, otherwise you will end up with a surprisingly large AWS bill"
   ]
  },
  {
   "cell_type": "markdown",
   "metadata": {},
   "source": [
    "## Delete the endpoint\n",
    "\n",
    "Since we are no longer using the deployed model we need to make sure to shut it down. Remember that you have to pay for the length of time that your endpoint is deployed so the longer it is left running, the more it costs"
   ]
  },
  {
   "cell_type": "code",
   "execution_count": 45,
   "metadata": {},
   "outputs": [
    {
     "name": "stderr",
     "output_type": "stream",
     "text": [
      "INFO:sagemaker:Deleting endpoint with name: xgboost-190125-2237-002-1e91cc7a\n"
     ]
    }
   ],
   "source": [
    "xgb_predictor.delete_endpoint()"
   ]
  },
  {
   "cell_type": "markdown",
   "metadata": {},
   "source": [
    "## Optional: Clean up\n",
    "\n",
    "The default notebook instance on SageMaker doesn't have a lot of excess disk space available. As you continue to complete and execute notebooks you will eventually fill up this disk space, leading to errors which can be difficult to diagnose. Once you are completely finished using a notebook it is a good idea to remove the files that you created along the way. Of course, you can do this from the terminal or from the notebook hub if you would like. The cell below contains some commands to clean up the created files from within the notebook."
   ]
  },
  {
   "cell_type": "code",
   "execution_count": null,
   "metadata": {
    "collapsed": true
   },
   "outputs": [],
   "source": [
    "# First we will remove all of the files contained in the data_dir directory\n",
    "!rm $data_dir/*\n",
    "\n",
    "# And then we delete the directory itself\n",
    "!rmdir $data_dir\n",
    "\n",
    "# Similarly we will remove the files in the cache_dir directory and the directory itself\n",
    "!rm $cache_dir/*\n",
    "!rmdir $cache_dir"
   ]
  },
  {
   "cell_type": "code",
   "execution_count": null,
   "metadata": {
    "collapsed": true
   },
   "outputs": [],
   "source": []
  }
 ],
 "metadata": {
  "kernelspec": {
   "display_name": "Python 3",
   "language": "python",
   "name": "python3"
  },
  "language_info": {
   "codemirror_mode": {
    "name": "ipython",
    "version": 3
   },
   "file_extension": ".py",
   "mimetype": "text/x-python",
   "name": "python",
   "nbconvert_exporter": "python",
   "pygments_lexer": "ipython3",
   "version": "3.6.7"
  }
 },
 "nbformat": 4,
 "nbformat_minor": 2
}
