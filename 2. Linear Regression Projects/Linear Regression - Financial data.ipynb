{
 "cells": [
  {
   "cell_type": "markdown",
   "metadata": {
    "collapsed": true
   },
   "source": [
    "# Linear Regression - Financial data "
   ]
  },
  {
   "cell_type": "markdown",
   "metadata": {},
   "source": [
    "* Project: Venture capitalist trying to decide which company they should invest in out of 50 companies. They have given data of companies location, expences and profits. Based on this data they looking for suggestion \n",
    "* Project Scope: Analyze,Visualize, apply Linear Regression model and conclude with suggestion\n",
    "* Data source: 50_Startups.csv\n",
    "* The data contains the following columns:\n",
    "    * 'R&D Spend', 'Administration', 'Marketing Spend', 'State', 'Profit'"
   ]
  },
  {
   "cell_type": "markdown",
   "metadata": {},
   "source": [
    "## 1.Import libraries"
   ]
  },
  {
   "cell_type": "code",
   "execution_count": 29,
   "metadata": {
    "collapsed": true
   },
   "outputs": [],
   "source": [
    "# Lets first make sure we are in our working directory before we start our project\n",
    "# Import Data Analysis libraries\n",
    "import numpy as np\n",
    "import pandas as pd\n",
    "\n",
    "# Import Data Visualisation libraries\n",
    "import matplotlib.pyplot as plt\n",
    "import seaborn as sns\n",
    "\n",
    "# For display in notebook\n",
    "%matplotlib inline"
   ]
  },
  {
   "cell_type": "markdown",
   "metadata": {},
   "source": [
    "## 2. Load data"
   ]
  },
  {
   "cell_type": "code",
   "execution_count": 30,
   "metadata": {
    "collapsed": true
   },
   "outputs": [],
   "source": [
    "# Importing dataset\n",
    "dataset = pd.read_csv('50_Startups.csv')"
   ]
  },
  {
   "cell_type": "markdown",
   "metadata": {},
   "source": [
    "## 3. Let's analyze and visualize data"
   ]
  },
  {
   "cell_type": "code",
   "execution_count": 31,
   "metadata": {},
   "outputs": [
    {
     "name": "stdout",
     "output_type": "stream",
     "text": [
      "<class 'pandas.core.frame.DataFrame'>\n",
      "RangeIndex: 50 entries, 0 to 49\n",
      "Data columns (total 5 columns):\n",
      "R&D Spend          50 non-null float64\n",
      "Administration     50 non-null float64\n",
      "Marketing Spend    50 non-null float64\n",
      "State              50 non-null object\n",
      "Profit             50 non-null float64\n",
      "dtypes: float64(4), object(1)\n",
      "memory usage: 2.0+ KB\n"
     ]
    }
   ],
   "source": [
    "dataset.info()"
   ]
  },
  {
   "cell_type": "markdown",
   "metadata": {},
   "source": [
    "This gives information about features and its datatypes. Also we now know that there are 50 records in this dataset"
   ]
  },
  {
   "cell_type": "code",
   "execution_count": 32,
   "metadata": {},
   "outputs": [
    {
     "data": {
      "text/plain": [
       "Index(['R&D Spend', 'Administration', 'Marketing Spend', 'State', 'Profit'], dtype='object')"
      ]
     },
     "execution_count": 32,
     "metadata": {},
     "output_type": "execute_result"
    }
   ],
   "source": [
    "dataset.columns"
   ]
  },
  {
   "cell_type": "markdown",
   "metadata": {},
   "source": [
    "We can see that we have features 'R&D Spend', 'Administration', 'Marketing Spend', 'State' and target variable 'Profit'"
   ]
  },
  {
   "cell_type": "code",
   "execution_count": 33,
   "metadata": {},
   "outputs": [
    {
     "data": {
      "text/html": [
       "<div>\n",
       "<style>\n",
       "    .dataframe thead tr:only-child th {\n",
       "        text-align: right;\n",
       "    }\n",
       "\n",
       "    .dataframe thead th {\n",
       "        text-align: left;\n",
       "    }\n",
       "\n",
       "    .dataframe tbody tr th {\n",
       "        vertical-align: top;\n",
       "    }\n",
       "</style>\n",
       "<table border=\"1\" class=\"dataframe\">\n",
       "  <thead>\n",
       "    <tr style=\"text-align: right;\">\n",
       "      <th></th>\n",
       "      <th>R&amp;D Spend</th>\n",
       "      <th>Administration</th>\n",
       "      <th>Marketing Spend</th>\n",
       "      <th>State</th>\n",
       "      <th>Profit</th>\n",
       "    </tr>\n",
       "  </thead>\n",
       "  <tbody>\n",
       "    <tr>\n",
       "      <th>0</th>\n",
       "      <td>165349.2</td>\n",
       "      <td>136897.80</td>\n",
       "      <td>471784.10</td>\n",
       "      <td>New York</td>\n",
       "      <td>192261.83</td>\n",
       "    </tr>\n",
       "    <tr>\n",
       "      <th>1</th>\n",
       "      <td>162597.7</td>\n",
       "      <td>151377.59</td>\n",
       "      <td>443898.53</td>\n",
       "      <td>California</td>\n",
       "      <td>191792.06</td>\n",
       "    </tr>\n",
       "  </tbody>\n",
       "</table>\n",
       "</div>"
      ],
      "text/plain": [
       "   R&D Spend  Administration  Marketing Spend       State     Profit\n",
       "0   165349.2       136897.80        471784.10    New York  192261.83\n",
       "1   162597.7       151377.59        443898.53  California  191792.06"
      ]
     },
     "execution_count": 33,
     "metadata": {},
     "output_type": "execute_result"
    }
   ],
   "source": [
    "dataset.head(2)"
   ]
  },
  {
   "cell_type": "markdown",
   "metadata": {},
   "source": [
    "** Taking care of missing data, if any: **"
   ]
  },
  {
   "cell_type": "code",
   "execution_count": 34,
   "metadata": {},
   "outputs": [
    {
     "data": {
      "text/plain": [
       "R&D Spend          0\n",
       "Administration     0\n",
       "Marketing Spend    0\n",
       "State              0\n",
       "Profit             0\n",
       "dtype: int64"
      ]
     },
     "execution_count": 34,
     "metadata": {},
     "output_type": "execute_result"
    }
   ],
   "source": [
    "dataset.isnull().sum()\n",
    "# we can see the number of null records for each column"
   ]
  },
  {
   "cell_type": "markdown",
   "metadata": {},
   "source": [
    "we dont have any null values in our dataset"
   ]
  },
  {
   "cell_type": "markdown",
   "metadata": {},
   "source": [
    "** Adding features if necessary: **"
   ]
  },
  {
   "cell_type": "markdown",
   "metadata": {
    "collapsed": true
   },
   "source": [
    "we dont have any features to add"
   ]
  },
  {
   "cell_type": "markdown",
   "metadata": {},
   "source": [
    "** Lets visualize data **"
   ]
  },
  {
   "cell_type": "code",
   "execution_count": 35,
   "metadata": {},
   "outputs": [
    {
     "data": {
      "image/png": "[encoded data removed]",
      "text/plain": [
       "<matplotlib.figure.Figure at 0x1e218dd8470>"
      ]
     },
     "metadata": {},
     "output_type": "display_data"
    }
   ],
   "source": [
    "dataset.plot.bar(stacked =2)\n",
    "# plt.xlabel('Years of Experience')\n",
    "# plt.ylabel('Salary')\n",
    "# plt.title('Experience vs Salary')\n",
    "plt.show()"
   ]
  },
  {
   "cell_type": "markdown",
   "metadata": {
    "collapsed": true
   },
   "source": [
    "** Things to note **\n",
    "* Based on data we can see as R&D decreases, profits also decreasing with few exceptions\n",
    "* All the the companies have Administration costs and got atleast some profit\n"
   ]
  },
  {
   "cell_type": "markdown",
   "metadata": {},
   "source": [
    "## 4. Data Preprocessing"
   ]
  },
  {
   "cell_type": "markdown",
   "metadata": {},
   "source": [
    "** a. Lets split dataset into features/inputs/independent variables(X) and output/target variable(y) **"
   ]
  },
  {
   "cell_type": "code",
   "execution_count": 36,
   "metadata": {
    "collapsed": true
   },
   "outputs": [],
   "source": [
    "X = dataset.iloc[:, :-1].values\n",
    "y = dataset.iloc[:, 4].values"
   ]
  },
  {
   "cell_type": "code",
   "execution_count": 37,
   "metadata": {},
   "outputs": [
    {
     "data": {
      "text/plain": [
       "array([[165349.2, 136897.8, 471784.1, 'New York'],\n",
       "       [162597.7, 151377.59, 443898.53, 'California'],\n",
       "       [153441.51, 101145.55, 407934.54, 'Florida'],\n",
       "       [144372.41, 118671.85, 383199.62, 'New York'],\n",
       "       [142107.34, 91391.77, 366168.42, 'Florida'],\n",
       "       [131876.9, 99814.71, 362861.36, 'New York'],\n",
       "       [134615.46, 147198.87, 127716.82, 'California'],\n",
       "       [130298.13, 145530.06, 323876.68, 'Florida'],\n",
       "       [120542.52, 148718.95, 311613.29, 'New York'],\n",
       "       [123334.88, 108679.17, 304981.62, 'California'],\n",
       "       [101913.08, 110594.11, 229160.95, 'Florida'],\n",
       "       [100671.96, 91790.61, 249744.55, 'California'],\n",
       "       [93863.75, 127320.38, 249839.44, 'Florida'],\n",
       "       [91992.39, 135495.07, 252664.93, 'California'],\n",
       "       [119943.24, 156547.42, 256512.92, 'Florida'],\n",
       "       [114523.61, 122616.84, 261776.23, 'New York'],\n",
       "       [78013.11, 121597.55, 264346.06, 'California'],\n",
       "       [94657.16, 145077.58, 282574.31, 'New York'],\n",
       "       [91749.16, 114175.79, 294919.57, 'Florida'],\n",
       "       [86419.7, 153514.11, 0.0, 'New York'],\n",
       "       [76253.86, 113867.3, 298664.47, 'California'],\n",
       "       [78389.47, 153773.43, 299737.29, 'New York'],\n",
       "       [73994.56, 122782.75, 303319.26, 'Florida'],\n",
       "       [67532.53, 105751.03, 304768.73, 'Florida'],\n",
       "       [77044.01, 99281.34, 140574.81, 'New York'],\n",
       "       [64664.71, 139553.16, 137962.62, 'California'],\n",
       "       [75328.87, 144135.98, 134050.07, 'Florida'],\n",
       "       [72107.6, 127864.55, 353183.81, 'New York'],\n",
       "       [66051.52, 182645.56, 118148.2, 'Florida'],\n",
       "       [65605.48, 153032.06, 107138.38, 'New York'],\n",
       "       [61994.48, 115641.28, 91131.24, 'Florida'],\n",
       "       [61136.38, 152701.92, 88218.23, 'New York'],\n",
       "       [63408.86, 129219.61, 46085.25, 'California'],\n",
       "       [55493.95, 103057.49, 214634.81, 'Florida'],\n",
       "       [46426.07, 157693.92, 210797.67, 'California'],\n",
       "       [46014.02, 85047.44, 205517.64, 'New York'],\n",
       "       [28663.76, 127056.21, 201126.82, 'Florida'],\n",
       "       [44069.95, 51283.14, 197029.42, 'California'],\n",
       "       [20229.59, 65947.93, 185265.1, 'New York'],\n",
       "       [38558.51, 82982.09, 174999.3, 'California'],\n",
       "       [28754.33, 118546.05, 172795.67, 'California'],\n",
       "       [27892.92, 84710.77, 164470.71, 'Florida'],\n",
       "       [23640.93, 96189.63, 148001.11, 'California'],\n",
       "       [15505.73, 127382.3, 35534.17, 'New York'],\n",
       "       [22177.74, 154806.14, 28334.72, 'California'],\n",
       "       [1000.23, 124153.04, 1903.93, 'New York'],\n",
       "       [1315.46, 115816.21, 297114.46, 'Florida'],\n",
       "       [0.0, 135426.92, 0.0, 'California'],\n",
       "       [542.05, 51743.15, 0.0, 'New York'],\n",
       "       [0.0, 116983.8, 45173.06, 'California']], dtype=object)"
      ]
     },
     "execution_count": 37,
     "metadata": {},
     "output_type": "execute_result"
    }
   ],
   "source": [
    "X"
   ]
  },
  {
   "cell_type": "code",
   "execution_count": 38,
   "metadata": {},
   "outputs": [
    {
     "data": {
      "text/plain": [
       "array([ 192261.83,  191792.06,  191050.39,  182901.99,  166187.94,\n",
       "        156991.12,  156122.51,  155752.6 ,  152211.77,  149759.96,\n",
       "        146121.95,  144259.4 ,  141585.52,  134307.35,  132602.65,\n",
       "        129917.04,  126992.93,  125370.37,  124266.9 ,  122776.86,\n",
       "        118474.03,  111313.02,  110352.25,  108733.99,  108552.04,\n",
       "        107404.34,  105733.54,  105008.31,  103282.38,  101004.64,\n",
       "         99937.59,   97483.56,   97427.84,   96778.92,   96712.8 ,\n",
       "         96479.51,   90708.19,   89949.14,   81229.06,   81005.76,\n",
       "         78239.91,   77798.83,   71498.49,   69758.98,   65200.33,\n",
       "         64926.08,   49490.75,   42559.73,   35673.41,   14681.4 ])"
      ]
     },
     "execution_count": 38,
     "metadata": {},
     "output_type": "execute_result"
    }
   ],
   "source": [
    "y"
   ]
  },
  {
   "cell_type": "markdown",
   "metadata": {},
   "source": [
    "We now have feature matrix X and target vector y"
   ]
  },
  {
   "cell_type": "markdown",
   "metadata": {},
   "source": [
    "** b. Categorical Data: **\n",
    "* Lets check categorical variables in out data set both in features and also in output\n",
    "* Then encode them into dummy variables "
   ]
  },
  {
   "cell_type": "markdown",
   "metadata": {},
   "source": [
    "We do have categorical feature 'state' in our dataset"
   ]
  },
  {
   "cell_type": "code",
   "execution_count": 39,
   "metadata": {
    "collapsed": true
   },
   "outputs": [],
   "source": [
    "# since last column in our features is categorical variable, lets encode it\n",
    "from sklearn.preprocessing import LabelEncoder, OneHotEncoder\n",
    "\n",
    "#LabelEncoder converts the categorical variables into values between 0 and n_classes-1\n",
    "labelencoder = LabelEncoder()\n",
    "X[:, 3] = labelencoder.fit_transform(X[:, 3])\n",
    "\n",
    "#OneHotEncoder makesures data is encoded in categorical features\n",
    "onehotencoder = OneHotEncoder(categorical_features = [3])\n",
    "X = onehotencoder.fit_transform(X).toarray()"
   ]
  },
  {
   "cell_type": "code",
   "execution_count": 40,
   "metadata": {},
   "outputs": [
    {
     "data": {
      "text/plain": [
       "array([[  0.00000000e+00,   0.00000000e+00,   1.00000000e+00,\n",
       "          1.65349200e+05,   1.36897800e+05,   4.71784100e+05],\n",
       "       [  1.00000000e+00,   0.00000000e+00,   0.00000000e+00,\n",
       "          1.62597700e+05,   1.51377590e+05,   4.43898530e+05],\n",
       "       [  0.00000000e+00,   1.00000000e+00,   0.00000000e+00,\n",
       "          1.53441510e+05,   1.01145550e+05,   4.07934540e+05],\n",
       "       [  0.00000000e+00,   0.00000000e+00,   1.00000000e+00,\n",
       "          1.44372410e+05,   1.18671850e+05,   3.83199620e+05],\n",
       "       [  0.00000000e+00,   1.00000000e+00,   0.00000000e+00,\n",
       "          1.42107340e+05,   9.13917700e+04,   3.66168420e+05],\n",
       "       [  0.00000000e+00,   0.00000000e+00,   1.00000000e+00,\n",
       "          1.31876900e+05,   9.98147100e+04,   3.62861360e+05],\n",
       "       [  1.00000000e+00,   0.00000000e+00,   0.00000000e+00,\n",
       "          1.34615460e+05,   1.47198870e+05,   1.27716820e+05],\n",
       "       [  0.00000000e+00,   1.00000000e+00,   0.00000000e+00,\n",
       "          1.30298130e+05,   1.45530060e+05,   3.23876680e+05],\n",
       "       [  0.00000000e+00,   0.00000000e+00,   1.00000000e+00,\n",
       "          1.20542520e+05,   1.48718950e+05,   3.11613290e+05],\n",
       "       [  1.00000000e+00,   0.00000000e+00,   0.00000000e+00,\n",
       "          1.23334880e+05,   1.08679170e+05,   3.04981620e+05],\n",
       "       [  0.00000000e+00,   1.00000000e+00,   0.00000000e+00,\n",
       "          1.01913080e+05,   1.10594110e+05,   2.29160950e+05],\n",
       "       [  1.00000000e+00,   0.00000000e+00,   0.00000000e+00,\n",
       "          1.00671960e+05,   9.17906100e+04,   2.49744550e+05],\n",
       "       [  0.00000000e+00,   1.00000000e+00,   0.00000000e+00,\n",
       "          9.38637500e+04,   1.27320380e+05,   2.49839440e+05],\n",
       "       [  1.00000000e+00,   0.00000000e+00,   0.00000000e+00,\n",
       "          9.19923900e+04,   1.35495070e+05,   2.52664930e+05],\n",
       "       [  0.00000000e+00,   1.00000000e+00,   0.00000000e+00,\n",
       "          1.19943240e+05,   1.56547420e+05,   2.56512920e+05],\n",
       "       [  0.00000000e+00,   0.00000000e+00,   1.00000000e+00,\n",
       "          1.14523610e+05,   1.22616840e+05,   2.61776230e+05],\n",
       "       [  1.00000000e+00,   0.00000000e+00,   0.00000000e+00,\n",
       "          7.80131100e+04,   1.21597550e+05,   2.64346060e+05],\n",
       "       [  0.00000000e+00,   0.00000000e+00,   1.00000000e+00,\n",
       "          9.46571600e+04,   1.45077580e+05,   2.82574310e+05],\n",
       "       [  0.00000000e+00,   1.00000000e+00,   0.00000000e+00,\n",
       "          9.17491600e+04,   1.14175790e+05,   2.94919570e+05],\n",
       "       [  0.00000000e+00,   0.00000000e+00,   1.00000000e+00,\n",
       "          8.64197000e+04,   1.53514110e+05,   0.00000000e+00],\n",
       "       [  1.00000000e+00,   0.00000000e+00,   0.00000000e+00,\n",
       "          7.62538600e+04,   1.13867300e+05,   2.98664470e+05],\n",
       "       [  0.00000000e+00,   0.00000000e+00,   1.00000000e+00,\n",
       "          7.83894700e+04,   1.53773430e+05,   2.99737290e+05],\n",
       "       [  0.00000000e+00,   1.00000000e+00,   0.00000000e+00,\n",
       "          7.39945600e+04,   1.22782750e+05,   3.03319260e+05],\n",
       "       [  0.00000000e+00,   1.00000000e+00,   0.00000000e+00,\n",
       "          6.75325300e+04,   1.05751030e+05,   3.04768730e+05],\n",
       "       [  0.00000000e+00,   0.00000000e+00,   1.00000000e+00,\n",
       "          7.70440100e+04,   9.92813400e+04,   1.40574810e+05],\n",
       "       [  1.00000000e+00,   0.00000000e+00,   0.00000000e+00,\n",
       "          6.46647100e+04,   1.39553160e+05,   1.37962620e+05],\n",
       "       [  0.00000000e+00,   1.00000000e+00,   0.00000000e+00,\n",
       "          7.53288700e+04,   1.44135980e+05,   1.34050070e+05],\n",
       "       [  0.00000000e+00,   0.00000000e+00,   1.00000000e+00,\n",
       "          7.21076000e+04,   1.27864550e+05,   3.53183810e+05],\n",
       "       [  0.00000000e+00,   1.00000000e+00,   0.00000000e+00,\n",
       "          6.60515200e+04,   1.82645560e+05,   1.18148200e+05],\n",
       "       [  0.00000000e+00,   0.00000000e+00,   1.00000000e+00,\n",
       "          6.56054800e+04,   1.53032060e+05,   1.07138380e+05],\n",
       "       [  0.00000000e+00,   1.00000000e+00,   0.00000000e+00,\n",
       "          6.19944800e+04,   1.15641280e+05,   9.11312400e+04],\n",
       "       [  0.00000000e+00,   0.00000000e+00,   1.00000000e+00,\n",
       "          6.11363800e+04,   1.52701920e+05,   8.82182300e+04],\n",
       "       [  1.00000000e+00,   0.00000000e+00,   0.00000000e+00,\n",
       "          6.34088600e+04,   1.29219610e+05,   4.60852500e+04],\n",
       "       [  0.00000000e+00,   1.00000000e+00,   0.00000000e+00,\n",
       "          5.54939500e+04,   1.03057490e+05,   2.14634810e+05],\n",
       "       [  1.00000000e+00,   0.00000000e+00,   0.00000000e+00,\n",
       "          4.64260700e+04,   1.57693920e+05,   2.10797670e+05],\n",
       "       [  0.00000000e+00,   0.00000000e+00,   1.00000000e+00,\n",
       "          4.60140200e+04,   8.50474400e+04,   2.05517640e+05],\n",
       "       [  0.00000000e+00,   1.00000000e+00,   0.00000000e+00,\n",
       "          2.86637600e+04,   1.27056210e+05,   2.01126820e+05],\n",
       "       [  1.00000000e+00,   0.00000000e+00,   0.00000000e+00,\n",
       "          4.40699500e+04,   5.12831400e+04,   1.97029420e+05],\n",
       "       [  0.00000000e+00,   0.00000000e+00,   1.00000000e+00,\n",
       "          2.02295900e+04,   6.59479300e+04,   1.85265100e+05],\n",
       "       [  1.00000000e+00,   0.00000000e+00,   0.00000000e+00,\n",
       "          3.85585100e+04,   8.29820900e+04,   1.74999300e+05],\n",
       "       [  1.00000000e+00,   0.00000000e+00,   0.00000000e+00,\n",
       "          2.87543300e+04,   1.18546050e+05,   1.72795670e+05],\n",
       "       [  0.00000000e+00,   1.00000000e+00,   0.00000000e+00,\n",
       "          2.78929200e+04,   8.47107700e+04,   1.64470710e+05],\n",
       "       [  1.00000000e+00,   0.00000000e+00,   0.00000000e+00,\n",
       "          2.36409300e+04,   9.61896300e+04,   1.48001110e+05],\n",
       "       [  0.00000000e+00,   0.00000000e+00,   1.00000000e+00,\n",
       "          1.55057300e+04,   1.27382300e+05,   3.55341700e+04],\n",
       "       [  1.00000000e+00,   0.00000000e+00,   0.00000000e+00,\n",
       "          2.21777400e+04,   1.54806140e+05,   2.83347200e+04],\n",
       "       [  0.00000000e+00,   0.00000000e+00,   1.00000000e+00,\n",
       "          1.00023000e+03,   1.24153040e+05,   1.90393000e+03],\n",
       "       [  0.00000000e+00,   1.00000000e+00,   0.00000000e+00,\n",
       "          1.31546000e+03,   1.15816210e+05,   2.97114460e+05],\n",
       "       [  1.00000000e+00,   0.00000000e+00,   0.00000000e+00,\n",
       "          0.00000000e+00,   1.35426920e+05,   0.00000000e+00],\n",
       "       [  0.00000000e+00,   0.00000000e+00,   1.00000000e+00,\n",
       "          5.42050000e+02,   5.17431500e+04,   0.00000000e+00],\n",
       "       [  1.00000000e+00,   0.00000000e+00,   0.00000000e+00,\n",
       "          0.00000000e+00,   1.16983800e+05,   4.51730600e+04]])"
      ]
     },
     "execution_count": 40,
     "metadata": {},
     "output_type": "execute_result"
    }
   ],
   "source": [
    "# now lets check features array\n",
    "X"
   ]
  },
  {
   "cell_type": "markdown",
   "metadata": {},
   "source": [
    "Since we got categorical column with 3 states categories, we got three dummy features. In the first row original features array, we can see state is 'New York' and after encoding, we can see the there is a value of 0 in two dummy variables and 1 in third variable."
   ]
  },
  {
   "cell_type": "markdown",
   "metadata": {},
   "source": [
    "**Avoiding Dummy variable trap: **\n",
    "to avoid redundancy, we take out one dummy variable. So if there are n categories in categorical column, we need to have only n-1 dummy variables \n"
   ]
  },
  {
   "cell_type": "code",
   "execution_count": 41,
   "metadata": {},
   "outputs": [
    {
     "data": {
      "text/plain": [
       "array([[  0.00000000e+00,   1.00000000e+00,   1.65349200e+05,\n",
       "          1.36897800e+05,   4.71784100e+05],\n",
       "       [  0.00000000e+00,   0.00000000e+00,   1.62597700e+05,\n",
       "          1.51377590e+05,   4.43898530e+05],\n",
       "       [  1.00000000e+00,   0.00000000e+00,   1.53441510e+05,\n",
       "          1.01145550e+05,   4.07934540e+05],\n",
       "       [  0.00000000e+00,   1.00000000e+00,   1.44372410e+05,\n",
       "          1.18671850e+05,   3.83199620e+05],\n",
       "       [  1.00000000e+00,   0.00000000e+00,   1.42107340e+05,\n",
       "          9.13917700e+04,   3.66168420e+05],\n",
       "       [  0.00000000e+00,   1.00000000e+00,   1.31876900e+05,\n",
       "          9.98147100e+04,   3.62861360e+05],\n",
       "       [  0.00000000e+00,   0.00000000e+00,   1.34615460e+05,\n",
       "          1.47198870e+05,   1.27716820e+05],\n",
       "       [  1.00000000e+00,   0.00000000e+00,   1.30298130e+05,\n",
       "          1.45530060e+05,   3.23876680e+05],\n",
       "       [  0.00000000e+00,   1.00000000e+00,   1.20542520e+05,\n",
       "          1.48718950e+05,   3.11613290e+05],\n",
       "       [  0.00000000e+00,   0.00000000e+00,   1.23334880e+05,\n",
       "          1.08679170e+05,   3.04981620e+05],\n",
       "       [  1.00000000e+00,   0.00000000e+00,   1.01913080e+05,\n",
       "          1.10594110e+05,   2.29160950e+05],\n",
       "       [  0.00000000e+00,   0.00000000e+00,   1.00671960e+05,\n",
       "          9.17906100e+04,   2.49744550e+05],\n",
       "       [  1.00000000e+00,   0.00000000e+00,   9.38637500e+04,\n",
       "          1.27320380e+05,   2.49839440e+05],\n",
       "       [  0.00000000e+00,   0.00000000e+00,   9.19923900e+04,\n",
       "          1.35495070e+05,   2.52664930e+05],\n",
       "       [  1.00000000e+00,   0.00000000e+00,   1.19943240e+05,\n",
       "          1.56547420e+05,   2.56512920e+05],\n",
       "       [  0.00000000e+00,   1.00000000e+00,   1.14523610e+05,\n",
       "          1.22616840e+05,   2.61776230e+05],\n",
       "       [  0.00000000e+00,   0.00000000e+00,   7.80131100e+04,\n",
       "          1.21597550e+05,   2.64346060e+05],\n",
       "       [  0.00000000e+00,   1.00000000e+00,   9.46571600e+04,\n",
       "          1.45077580e+05,   2.82574310e+05],\n",
       "       [  1.00000000e+00,   0.00000000e+00,   9.17491600e+04,\n",
       "          1.14175790e+05,   2.94919570e+05],\n",
       "       [  0.00000000e+00,   1.00000000e+00,   8.64197000e+04,\n",
       "          1.53514110e+05,   0.00000000e+00],\n",
       "       [  0.00000000e+00,   0.00000000e+00,   7.62538600e+04,\n",
       "          1.13867300e+05,   2.98664470e+05],\n",
       "       [  0.00000000e+00,   1.00000000e+00,   7.83894700e+04,\n",
       "          1.53773430e+05,   2.99737290e+05],\n",
       "       [  1.00000000e+00,   0.00000000e+00,   7.39945600e+04,\n",
       "          1.22782750e+05,   3.03319260e+05],\n",
       "       [  1.00000000e+00,   0.00000000e+00,   6.75325300e+04,\n",
       "          1.05751030e+05,   3.04768730e+05],\n",
       "       [  0.00000000e+00,   1.00000000e+00,   7.70440100e+04,\n",
       "          9.92813400e+04,   1.40574810e+05],\n",
       "       [  0.00000000e+00,   0.00000000e+00,   6.46647100e+04,\n",
       "          1.39553160e+05,   1.37962620e+05],\n",
       "       [  1.00000000e+00,   0.00000000e+00,   7.53288700e+04,\n",
       "          1.44135980e+05,   1.34050070e+05],\n",
       "       [  0.00000000e+00,   1.00000000e+00,   7.21076000e+04,\n",
       "          1.27864550e+05,   3.53183810e+05],\n",
       "       [  1.00000000e+00,   0.00000000e+00,   6.60515200e+04,\n",
       "          1.82645560e+05,   1.18148200e+05],\n",
       "       [  0.00000000e+00,   1.00000000e+00,   6.56054800e+04,\n",
       "          1.53032060e+05,   1.07138380e+05],\n",
       "       [  1.00000000e+00,   0.00000000e+00,   6.19944800e+04,\n",
       "          1.15641280e+05,   9.11312400e+04],\n",
       "       [  0.00000000e+00,   1.00000000e+00,   6.11363800e+04,\n",
       "          1.52701920e+05,   8.82182300e+04],\n",
       "       [  0.00000000e+00,   0.00000000e+00,   6.34088600e+04,\n",
       "          1.29219610e+05,   4.60852500e+04],\n",
       "       [  1.00000000e+00,   0.00000000e+00,   5.54939500e+04,\n",
       "          1.03057490e+05,   2.14634810e+05],\n",
       "       [  0.00000000e+00,   0.00000000e+00,   4.64260700e+04,\n",
       "          1.57693920e+05,   2.10797670e+05],\n",
       "       [  0.00000000e+00,   1.00000000e+00,   4.60140200e+04,\n",
       "          8.50474400e+04,   2.05517640e+05],\n",
       "       [  1.00000000e+00,   0.00000000e+00,   2.86637600e+04,\n",
       "          1.27056210e+05,   2.01126820e+05],\n",
       "       [  0.00000000e+00,   0.00000000e+00,   4.40699500e+04,\n",
       "          5.12831400e+04,   1.97029420e+05],\n",
       "       [  0.00000000e+00,   1.00000000e+00,   2.02295900e+04,\n",
       "          6.59479300e+04,   1.85265100e+05],\n",
       "       [  0.00000000e+00,   0.00000000e+00,   3.85585100e+04,\n",
       "          8.29820900e+04,   1.74999300e+05],\n",
       "       [  0.00000000e+00,   0.00000000e+00,   2.87543300e+04,\n",
       "          1.18546050e+05,   1.72795670e+05],\n",
       "       [  1.00000000e+00,   0.00000000e+00,   2.78929200e+04,\n",
       "          8.47107700e+04,   1.64470710e+05],\n",
       "       [  0.00000000e+00,   0.00000000e+00,   2.36409300e+04,\n",
       "          9.61896300e+04,   1.48001110e+05],\n",
       "       [  0.00000000e+00,   1.00000000e+00,   1.55057300e+04,\n",
       "          1.27382300e+05,   3.55341700e+04],\n",
       "       [  0.00000000e+00,   0.00000000e+00,   2.21777400e+04,\n",
       "          1.54806140e+05,   2.83347200e+04],\n",
       "       [  0.00000000e+00,   1.00000000e+00,   1.00023000e+03,\n",
       "          1.24153040e+05,   1.90393000e+03],\n",
       "       [  1.00000000e+00,   0.00000000e+00,   1.31546000e+03,\n",
       "          1.15816210e+05,   2.97114460e+05],\n",
       "       [  0.00000000e+00,   0.00000000e+00,   0.00000000e+00,\n",
       "          1.35426920e+05,   0.00000000e+00],\n",
       "       [  0.00000000e+00,   1.00000000e+00,   5.42050000e+02,\n",
       "          5.17431500e+04,   0.00000000e+00],\n",
       "       [  0.00000000e+00,   0.00000000e+00,   0.00000000e+00,\n",
       "          1.16983800e+05,   4.51730600e+04]])"
      ]
     },
     "execution_count": 41,
     "metadata": {},
     "output_type": "execute_result"
    }
   ],
   "source": [
    "# We dont need to do this step manually, library will take care of it. \n",
    "X =  X[:,1:]\n",
    "X"
   ]
  },
  {
   "cell_type": "markdown",
   "metadata": {},
   "source": [
    "We can now see that there are only two dummy variables"
   ]
  },
  {
   "cell_type": "markdown",
   "metadata": {},
   "source": [
    "** c. Splitting Dataset into Training and Test sets: **\n",
    "* Ideal split is 70/30 "
   ]
  },
  {
   "cell_type": "code",
   "execution_count": 42,
   "metadata": {
    "collapsed": true
   },
   "outputs": [],
   "source": [
    "from sklearn.model_selection import train_test_split\n",
    "X_train, X_test, y_train, y_test = train_test_split(X, y, test_size = 0.3, random_state = 1)"
   ]
  },
  {
   "cell_type": "code",
   "execution_count": 43,
   "metadata": {},
   "outputs": [
    {
     "data": {
      "text/plain": [
       "array([[  0.00000000e+00,   0.00000000e+00,   2.36409300e+04,\n",
       "          9.61896300e+04,   1.48001110e+05],\n",
       "       [  0.00000000e+00,   0.00000000e+00,   0.00000000e+00,\n",
       "          1.16983800e+05,   4.51730600e+04],\n",
       "       [  1.00000000e+00,   0.00000000e+00,   7.53288700e+04,\n",
       "          1.44135980e+05,   1.34050070e+05],\n",
       "       [  1.00000000e+00,   0.00000000e+00,   7.39945600e+04,\n",
       "          1.22782750e+05,   3.03319260e+05],\n",
       "       [  0.00000000e+00,   0.00000000e+00,   9.19923900e+04,\n",
       "          1.35495070e+05,   2.52664930e+05],\n",
       "       [  1.00000000e+00,   0.00000000e+00,   2.78929200e+04,\n",
       "          8.47107700e+04,   1.64470710e+05],\n",
       "       [  0.00000000e+00,   1.00000000e+00,   9.46571600e+04,\n",
       "          1.45077580e+05,   2.82574310e+05],\n",
       "       [  0.00000000e+00,   1.00000000e+00,   1.00023000e+03,\n",
       "          1.24153040e+05,   1.90393000e+03],\n",
       "       [  0.00000000e+00,   1.00000000e+00,   7.70440100e+04,\n",
       "          9.92813400e+04,   1.40574810e+05],\n",
       "       [  1.00000000e+00,   0.00000000e+00,   6.75325300e+04,\n",
       "          1.05751030e+05,   3.04768730e+05],\n",
       "       [  1.00000000e+00,   0.00000000e+00,   1.42107340e+05,\n",
       "          9.13917700e+04,   3.66168420e+05],\n",
       "       [  1.00000000e+00,   0.00000000e+00,   5.54939500e+04,\n",
       "          1.03057490e+05,   2.14634810e+05],\n",
       "       [  1.00000000e+00,   0.00000000e+00,   1.19943240e+05,\n",
       "          1.56547420e+05,   2.56512920e+05],\n",
       "       [  1.00000000e+00,   0.00000000e+00,   6.19944800e+04,\n",
       "          1.15641280e+05,   9.11312400e+04],\n",
       "       [  1.00000000e+00,   0.00000000e+00,   1.01913080e+05,\n",
       "          1.10594110e+05,   2.29160950e+05],\n",
       "       [  1.00000000e+00,   0.00000000e+00,   6.60515200e+04,\n",
       "          1.82645560e+05,   1.18148200e+05],\n",
       "       [  0.00000000e+00,   0.00000000e+00,   2.21777400e+04,\n",
       "          1.54806140e+05,   2.83347200e+04],\n",
       "       [  0.00000000e+00,   0.00000000e+00,   4.64260700e+04,\n",
       "          1.57693920e+05,   2.10797670e+05],\n",
       "       [  1.00000000e+00,   0.00000000e+00,   9.17491600e+04,\n",
       "          1.14175790e+05,   2.94919570e+05],\n",
       "       [  0.00000000e+00,   0.00000000e+00,   7.62538600e+04,\n",
       "          1.13867300e+05,   2.98664470e+05],\n",
       "       [  0.00000000e+00,   0.00000000e+00,   6.46647100e+04,\n",
       "          1.39553160e+05,   1.37962620e+05],\n",
       "       [  0.00000000e+00,   0.00000000e+00,   1.34615460e+05,\n",
       "          1.47198870e+05,   1.27716820e+05],\n",
       "       [  1.00000000e+00,   0.00000000e+00,   1.30298130e+05,\n",
       "          1.45530060e+05,   3.23876680e+05],\n",
       "       [  0.00000000e+00,   0.00000000e+00,   0.00000000e+00,\n",
       "          1.35426920e+05,   0.00000000e+00],\n",
       "       [  0.00000000e+00,   0.00000000e+00,   1.62597700e+05,\n",
       "          1.51377590e+05,   4.43898530e+05],\n",
       "       [  0.00000000e+00,   0.00000000e+00,   7.80131100e+04,\n",
       "          1.21597550e+05,   2.64346060e+05],\n",
       "       [  0.00000000e+00,   1.00000000e+00,   1.65349200e+05,\n",
       "          1.36897800e+05,   4.71784100e+05],\n",
       "       [  0.00000000e+00,   1.00000000e+00,   1.14523610e+05,\n",
       "          1.22616840e+05,   2.61776230e+05],\n",
       "       [  0.00000000e+00,   1.00000000e+00,   1.31876900e+05,\n",
       "          9.98147100e+04,   3.62861360e+05],\n",
       "       [  0.00000000e+00,   0.00000000e+00,   1.00671960e+05,\n",
       "          9.17906100e+04,   2.49744550e+05],\n",
       "       [  0.00000000e+00,   0.00000000e+00,   1.23334880e+05,\n",
       "          1.08679170e+05,   3.04981620e+05],\n",
       "       [  0.00000000e+00,   1.00000000e+00,   1.20542520e+05,\n",
       "          1.48718950e+05,   3.11613290e+05],\n",
       "       [  1.00000000e+00,   0.00000000e+00,   9.38637500e+04,\n",
       "          1.27320380e+05,   2.49839440e+05],\n",
       "       [  0.00000000e+00,   1.00000000e+00,   1.55057300e+04,\n",
       "          1.27382300e+05,   3.55341700e+04],\n",
       "       [  0.00000000e+00,   0.00000000e+00,   4.40699500e+04,\n",
       "          5.12831400e+04,   1.97029420e+05]])"
      ]
     },
     "execution_count": 43,
     "metadata": {},
     "output_type": "execute_result"
    }
   ],
   "source": [
    "X_train"
   ]
  },
  {
   "cell_type": "code",
   "execution_count": 44,
   "metadata": {},
   "outputs": [
    {
     "data": {
      "text/plain": [
       "array([[  0.00000000e+00,   1.00000000e+00,   7.21076000e+04,\n",
       "          1.27864550e+05,   3.53183810e+05],\n",
       "       [  0.00000000e+00,   1.00000000e+00,   4.60140200e+04,\n",
       "          8.50474400e+04,   2.05517640e+05],\n",
       "       [  0.00000000e+00,   0.00000000e+00,   2.87543300e+04,\n",
       "          1.18546050e+05,   1.72795670e+05],\n",
       "       [  0.00000000e+00,   1.00000000e+00,   2.02295900e+04,\n",
       "          6.59479300e+04,   1.85265100e+05],\n",
       "       [  1.00000000e+00,   0.00000000e+00,   1.53441510e+05,\n",
       "          1.01145550e+05,   4.07934540e+05],\n",
       "       [  0.00000000e+00,   1.00000000e+00,   1.44372410e+05,\n",
       "          1.18671850e+05,   3.83199620e+05],\n",
       "       [  0.00000000e+00,   1.00000000e+00,   5.42050000e+02,\n",
       "          5.17431500e+04,   0.00000000e+00],\n",
       "       [  0.00000000e+00,   1.00000000e+00,   6.56054800e+04,\n",
       "          1.53032060e+05,   1.07138380e+05],\n",
       "       [  1.00000000e+00,   0.00000000e+00,   1.31546000e+03,\n",
       "          1.15816210e+05,   2.97114460e+05],\n",
       "       [  0.00000000e+00,   1.00000000e+00,   6.11363800e+04,\n",
       "          1.52701920e+05,   8.82182300e+04],\n",
       "       [  0.00000000e+00,   0.00000000e+00,   6.34088600e+04,\n",
       "          1.29219610e+05,   4.60852500e+04],\n",
       "       [  0.00000000e+00,   0.00000000e+00,   3.85585100e+04,\n",
       "          8.29820900e+04,   1.74999300e+05],\n",
       "       [  0.00000000e+00,   1.00000000e+00,   7.83894700e+04,\n",
       "          1.53773430e+05,   2.99737290e+05],\n",
       "       [  1.00000000e+00,   0.00000000e+00,   2.86637600e+04,\n",
       "          1.27056210e+05,   2.01126820e+05],\n",
       "       [  0.00000000e+00,   1.00000000e+00,   8.64197000e+04,\n",
       "          1.53514110e+05,   0.00000000e+00]])"
      ]
     },
     "execution_count": 44,
     "metadata": {},
     "output_type": "execute_result"
    }
   ],
   "source": [
    "X_test"
   ]
  },
  {
   "cell_type": "code",
   "execution_count": 45,
   "metadata": {},
   "outputs": [
    {
     "data": {
      "text/plain": [
       "array([  71498.49,   14681.4 ,  105733.54,  110352.25,  134307.35,\n",
       "         77798.83,  125370.37,   64926.08,  108552.04,  108733.99,\n",
       "        166187.94,   96778.92,  132602.65,   99937.59,  146121.95,\n",
       "        103282.38,   65200.33,   96712.8 ,  124266.9 ,  118474.03,\n",
       "        107404.34,  156122.51,  155752.6 ,   42559.73,  191792.06,\n",
       "        126992.93,  192261.83,  129917.04,  156991.12,  144259.4 ,\n",
       "        149759.96,  152211.77,  141585.52,   69758.98,   89949.14])"
      ]
     },
     "execution_count": 45,
     "metadata": {},
     "output_type": "execute_result"
    }
   ],
   "source": [
    "y_train"
   ]
  },
  {
   "cell_type": "code",
   "execution_count": 46,
   "metadata": {},
   "outputs": [
    {
     "data": {
      "text/plain": [
       "array([ 105008.31,   96479.51,   78239.91,   81229.06,  191050.39,\n",
       "        182901.99,   35673.41,  101004.64,   49490.75,   97483.56,\n",
       "         97427.84,   81005.76,  111313.02,   90708.19,  122776.86])"
      ]
     },
     "execution_count": 46,
     "metadata": {},
     "output_type": "execute_result"
    }
   ],
   "source": [
    "y_test"
   ]
  },
  {
   "cell_type": "markdown",
   "metadata": {
    "collapsed": true
   },
   "source": [
    "After the split, we now have X_train, X_test, y_train, y_test"
   ]
  },
  {
   "cell_type": "markdown",
   "metadata": {},
   "source": [
    "**d. Feature Scaling **\n",
    "* we can do feature scaling by standardization or normalization\n",
    "* we dont need to feature scaling for output variables in classification problems\n",
    "* We dont need to do feature scaling manually, library will take care for us"
   ]
  },
  {
   "cell_type": "markdown",
   "metadata": {},
   "source": [
    "## 7. Fitting Linear Regression Model to the Training set "
   ]
  },
  {
   "cell_type": "code",
   "execution_count": 47,
   "metadata": {},
   "outputs": [
    {
     "data": {
      "text/plain": [
       "LinearRegression(copy_X=True, fit_intercept=True, n_jobs=1, normalize=False)"
      ]
     },
     "execution_count": 47,
     "metadata": {},
     "output_type": "execute_result"
    }
   ],
   "source": [
    "from sklearn.linear_model import LinearRegression\n",
    "lr = LinearRegression()\n",
    "lr.fit(X_train,y_train)"
   ]
  },
  {
   "cell_type": "markdown",
   "metadata": {},
   "source": [
    "## 8. Predictions from our Model\n",
    "\n",
    "Now we will use our X_test to see how our trained model will predict"
   ]
  },
  {
   "cell_type": "code",
   "execution_count": 48,
   "metadata": {
    "collapsed": true
   },
   "outputs": [],
   "source": [
    "y_pred = lr.predict(X_test)"
   ]
  },
  {
   "cell_type": "code",
   "execution_count": 49,
   "metadata": {},
   "outputs": [
    {
     "data": {
      "text/plain": [
       "array([ 115325.09875884,   90638.08603371,   76019.13126601,\n",
       "         70325.43761811,  179659.73982742,  172204.16410702,\n",
       "         48850.65280977,  101321.43054259,   58316.95833317,\n",
       "         97217.64504543,   98129.2000785 ,   84156.44747448,\n",
       "        117923.69116309,   75866.34008184,  113595.93339161])"
      ]
     },
     "execution_count": 49,
     "metadata": {},
     "output_type": "execute_result"
    }
   ],
   "source": [
    "y_pred"
   ]
  },
  {
   "cell_type": "markdown",
   "metadata": {},
   "source": [
    "## 9. Evaluating the model\n",
    "\n",
    "Let's evaluate the model by checking out it's coefficients and how we can interpret them."
   ]
  },
  {
   "cell_type": "code",
   "execution_count": 50,
   "metadata": {},
   "outputs": [
    {
     "name": "stdout",
     "output_type": "stream",
     "text": [
      "49472.1591765\n"
     ]
    }
   ],
   "source": [
    "# print the intercept\n",
    "print(lr.intercept_)"
   ]
  },
  {
   "cell_type": "code",
   "execution_count": 53,
   "metadata": {},
   "outputs": [
    {
     "data": {
      "text/html": [
       "<div>\n",
       "<style>\n",
       "    .dataframe thead tr:only-child th {\n",
       "        text-align: right;\n",
       "    }\n",
       "\n",
       "    .dataframe thead th {\n",
       "        text-align: left;\n",
       "    }\n",
       "\n",
       "    .dataframe tbody tr th {\n",
       "        vertical-align: top;\n",
       "    }\n",
       "</style>\n",
       "<table border=\"1\" class=\"dataframe\">\n",
       "  <thead>\n",
       "    <tr style=\"text-align: right;\">\n",
       "      <th></th>\n",
       "      <th>Coefficient</th>\n",
       "    </tr>\n",
       "  </thead>\n",
       "  <tbody>\n",
       "    <tr>\n",
       "      <th>0</th>\n",
       "      <td>-956.828109</td>\n",
       "    </tr>\n",
       "    <tr>\n",
       "      <th>1</th>\n",
       "      <td>-306.310628</td>\n",
       "    </tr>\n",
       "    <tr>\n",
       "      <th>2</th>\n",
       "      <td>0.770712</td>\n",
       "    </tr>\n",
       "    <tr>\n",
       "      <th>3</th>\n",
       "      <td>-0.014165</td>\n",
       "    </tr>\n",
       "    <tr>\n",
       "      <th>4</th>\n",
       "      <td>0.035099</td>\n",
       "    </tr>\n",
       "  </tbody>\n",
       "</table>\n",
       "</div>"
      ],
      "text/plain": [
       "   Coefficient\n",
       "0  -956.828109\n",
       "1  -306.310628\n",
       "2     0.770712\n",
       "3    -0.014165\n",
       "4     0.035099"
      ]
     },
     "execution_count": 53,
     "metadata": {},
     "output_type": "execute_result"
    }
   ],
   "source": [
    "coeff_df = pd.DataFrame(lr.coef_,columns=['Coefficient'])\n",
    "coeff_df"
   ]
  },
  {
   "cell_type": "markdown",
   "metadata": {},
   "source": [
    "Lets plot graphs to visualize the Training and Test set results"
   ]
  },
  {
   "cell_type": "code",
   "execution_count": 54,
   "metadata": {},
   "outputs": [
    {
     "data": {
      "image/png": "[encoded data removed]",
      "text/plain": [
       "<matplotlib.figure.Figure at 0x1e218f3b160>"
      ]
     },
     "metadata": {},
     "output_type": "display_data"
    }
   ],
   "source": [
    "# Visualising the Test & pred set results\n",
    "plt.scatter(y_test, y_pred, color = 'red')\n",
    "plt.show()"
   ]
  },
  {
   "cell_type": "markdown",
   "metadata": {},
   "source": [
    "** Residual Histogram **"
   ]
  },
  {
   "cell_type": "code",
   "execution_count": 55,
   "metadata": {},
   "outputs": [
    {
     "data": {
      "image/png": "[encoded data removed]",
      "text/plain": [
       "<matplotlib.figure.Figure at 0x1e218d49e48>"
      ]
     },
     "metadata": {},
     "output_type": "display_data"
    }
   ],
   "source": [
    "sns.distplot((y_test-y_pred));"
   ]
  },
  {
   "cell_type": "markdown",
   "metadata": {},
   "source": [
    "** Regression Evaluation Metrics **"
   ]
  },
  {
   "cell_type": "code",
   "execution_count": 56,
   "metadata": {},
   "outputs": [
    {
     "name": "stdout",
     "output_type": "stream",
     "text": [
      "MAE: 7229.51611929\n",
      "MSE: 74598131.6947\n",
      "RMSE: 8637.02099654\n"
     ]
    }
   ],
   "source": [
    "from sklearn import metrics\n",
    "print('MAE:', metrics.mean_absolute_error(y_test, y_pred))\n",
    "print('MSE:', metrics.mean_squared_error(y_test, y_pred))\n",
    "print('RMSE:', np.sqrt(metrics.mean_squared_error(y_test, y_pred)))"
   ]
  },
  {
   "cell_type": "markdown",
   "metadata": {
    "collapsed": true
   },
   "source": [
    "## Checking if any statistically insignificant features using Backward Elimination & Adjusted R-Squared "
   ]
  },
  {
   "cell_type": "code",
   "execution_count": 57,
   "metadata": {
    "collapsed": true
   },
   "outputs": [],
   "source": [
    "# adding X0 feature to our matrix of features X\n",
    "X_new = np.append(arr=np.ones((50,1)).astype(int), values = X, axis=1)"
   ]
  },
  {
   "cell_type": "raw",
   "metadata": {},
   "source": [
    "# Function for Backward Elimination with p-values and Adjusted R Squared:\n",
    "\n",
    "import statsmodels.formula.api as sm\n",
    "def backwardElimination(x, SL):\n",
    "    numVars = len(x[0])\n",
    "    temp = np.zeros((5000,6)).astype(int)\n",
    "    for i in range(0, numVars):\n",
    "        regressor_OLS = sm.OLS(y, x).fit()\n",
    "        maxVar = max(regressor_OLS.pvalues).astype(float)\n",
    "        adjR_before = regressor_OLS.rsquared_adj.astype(float)\n",
    "        if maxVar > SL:\n",
    "            for j in range(0, numVars - i):\n",
    "                if (regressor_OLS.pvalues[j].astype(float) == maxVar):\n",
    "                    temp[:,j] = x[:, j]\n",
    "                    x = np.delete(x, j, 1)\n",
    "                    tmp_regressor = sm.OLS(y, x).fit()\n",
    "                    adjR_after = tmp_regressor.rsquared_adj.astype(float)\n",
    "                    if (adjR_before >= adjR_after):\n",
    "                        x_rollback = np.hstack((x, temp[:,[0,j]]))\n",
    "                        x_rollback = np.delete(x_rollback, j, 1)\n",
    "                        print (regressor_OLS.summary())\n",
    "                        return x_rollback\n",
    "                    else:\n",
    "                        continue\n",
    "    regressor_OLS.summary()\n",
    "    return x"
   ]
  },
  {
   "cell_type": "code",
   "execution_count": 58,
   "metadata": {},
   "outputs": [
    {
     "name": "stdout",
     "output_type": "stream",
     "text": [
      "                            OLS Regression Results                            \n",
      "==============================================================================\n",
      "Dep. Variable:                      y   R-squared:                       0.950\n",
      "Model:                            OLS   Adj. R-squared:                  0.948\n",
      "Method:                 Least Squares   F-statistic:                     450.8\n",
      "Date:                Thu, 25 Oct 2018   Prob (F-statistic):           2.16e-31\n",
      "Time:                        10:31:14   Log-Likelihood:                -525.54\n",
      "No. Observations:                  50   AIC:                             1057.\n",
      "Df Residuals:                      47   BIC:                             1063.\n",
      "Df Model:                           2                                         \n",
      "Covariance Type:            nonrobust                                         \n",
      "==============================================================================\n",
      "                 coef    std err          t      P>|t|      [0.025      0.975]\n",
      "------------------------------------------------------------------------------\n",
      "const       4.698e+04   2689.933     17.464      0.000    4.16e+04    5.24e+04\n",
      "x1             0.7966      0.041     19.266      0.000       0.713       0.880\n",
      "x2             0.0299      0.016      1.927      0.060      -0.001       0.061\n",
      "==============================================================================\n",
      "Omnibus:                       14.677   Durbin-Watson:                   1.257\n",
      "Prob(Omnibus):                  0.001   Jarque-Bera (JB):               21.161\n",
      "Skew:                          -0.939   Prob(JB):                     2.54e-05\n",
      "Kurtosis:                       5.575   Cond. No.                     5.32e+05\n",
      "==============================================================================\n",
      "\n",
      "Warnings:\n",
      "[1] Standard Errors assume that the covariance matrix of the errors is correctly specified.\n",
      "[2] The condition number is large, 5.32e+05. This might indicate that there are\n",
      "strong multicollinearity or other numerical problems.\n"
     ]
    }
   ],
   "source": [
    "SL = 0.05\n",
    "X_opt = X_new[:, [0, 1, 2, 3, 4, 5]]\n",
    "X_Modeled = backwardElimination(X_opt, SL)"
   ]
  },
  {
   "cell_type": "markdown",
   "metadata": {},
   "source": [
    "**In conclusion**\n",
    "\n",
    "* Just as we noticed during visualization,'R&D Spend' feature is single most important feature in determining the profits. We can clearly see that every dollar spent on 'R&D', will increase 79 cents in Profits. \n",
    "* Also after Backward Elimination & R Squared is applied, we can see only significant features are X0 (which is constant), 'R&D Spend' and 'Marketing Spend'. All other features are statistically insignificant for our model\n",
    "* With R-squared:0.950, Adj. R-squared:0.948 our linear regression model did fit well with the data.\n",
    "* Also Adj. R-squared is pretty much equal to R-squared value. This indicates model did fit well with the data"
   ]
  }
 ],
 "metadata": {
  "kernelspec": {
   "display_name": "Python 3",
   "language": "python",
   "name": "python3"
  },
  "language_info": {
   "codemirror_mode": {
    "name": "ipython",
    "version": 3
   },
   "file_extension": ".py",
   "mimetype": "text/x-python",
   "name": "python",
   "nbconvert_exporter": "python",
   "pygments_lexer": "ipython3",
   "version": "3.6.1"
  }
 },
 "nbformat": 4,
 "nbformat_minor": 2
}
