{
 "cells": [
  {
   "cell_type": "markdown",
   "metadata": {},
   "source": [
    "## Preprocessing the data\n",
    "\n",
    "** sklearn.preprocessing.StandardScaler: ** Standardize features by removing the mean and scaling to unit variance\n",
    "\n",
    "** sklearn.preprocessing.Imputer: ** Imputation transformer for completing missing values.\n",
    "\n",
    "** sklearn.preprocessing.LabelBinarizer: ** Binarize labels in a one-vs-all fashion\n",
    "\n",
    "** sklearn.preprocessing.OneHotEncoder: ** Encode categorical integer features using a one-hot a.k.a \n",
    "one-of-K scheme.\n",
    "\n",
    "** sklearn.preprocessing.PolynomialFeatures: ** Generate polynomial and interaction features."
   ]
  },
  {
   "cell_type": "markdown",
   "metadata": {},
   "source": [
    "## Model Selection\n",
    "**sklearn.model_selection.KFold:**K-Folds cross-validator\n",
    "\n",
    "**sklearn.model_selection.StratifiedKFold:**Stratified K-Folds cross-validator\n",
    "\n",
    "**sklearn.model_selection.TimeSeriesSplit:**Time Series cross-validator\n",
    "\n",
    "**sklearn.model_selection.train_test_split:**Split arrays or matrices into random train and test \n",
    "subsets\n",
    "\n",
    "**sklearn.model_selection.GridSearchCV:**Exhaustive search over specified parameter values for an \n",
    "estimator.\n",
    "\n",
    "**sklearn.model_selection.RandomizedSearchCV:**Randomized search on hyperparameters.\n",
    "\n",
    "**sklearn.model_selection.cross_val_score:**Evaluate a score by cross-validation"
   ]
  },
  {
   "cell_type": "markdown",
   "metadata": {},
   "source": [
    "## Regression\n",
    "**sklearn.linear_model.LinearRegression:**Ordinary least squares Linear Regression\n",
    "\n",
    "**sklearn.linear_model.Lasso:** Linear Model trained with L1 prior as regularizer (a.k.a the Lasso)\n",
    "\n",
    "**sklearn.linear_model.SGDRegressor:**Linear model fitted by minimizing a regularized empirical loss with SGD\n",
    "\n",
    "**sklearn.linear_model.ElasticNet:**Linear regression with combined L1 and L2 priors as regularizer\n",
    "\n",
    "**sklearn.svm.SVR:**Epsilon-Support Vector Regression\n",
    "\n",
    "**sklearn.tree.DecisionTreeRegressor:**A decision tree regressor\n",
    "\n",
    "**sklearn.ensemble.RandomForestRegressor:**A random forest regressor\n",
    "\n",
    "**sklearn.ensemble.GradientBoostingRegressor:**Gradient Boosting for regression\n",
    "\n",
    "**sklearn.neural_network.MLPRegressor:**Multi-layer Perceptron regressor"
   ]
  },
  {
   "cell_type": "markdown",
   "metadata": {},
   "source": [
    "## Classification\n",
    "**sklearn.linear_model.LogisticRegression:**Logistic Regression (at.k.a logit, MaxEnt) classifier\n",
    "\n",
    "**sklearn.linear_model.SGDClassifier:**Linear classifiers (SVM, logistic regression, a.o.) with SGD training\n",
    "\n",
    "**sklearn.svm.SVC:**C-Support Vector Classification\n",
    "\n",
    "**sklearn.neighbors.KNeighborsClassifier:**Classifier implementing the k-nearest neighbors vote\n",
    "\n",
    "**sklearn.tree.DecisionTreeClassifier:**A decision tree classifier\n",
    "\n",
    "**sklearn.ensemble.RandomForestClassifier:**A random forest classifier\n",
    "\n",
    "**sklearn.ensemble.GradientBoostingClassifier:**Gradient Boosting for classification\n",
    "\n",
    "**sklearn.naive_bayes.GaussianNB:**Gaussian Naive Bayes\n",
    "\n",
    "**sklearn.neural_network.MLPClassifier:**Multi-layer Perceptron classifier"
   ]
  },
  {
   "cell_type": "markdown",
   "metadata": {},
   "source": [
    "## Clustering\n",
    "**sklearn.cluster.KMeans:**K-Means clustering\n",
    "\n",
    "**sklearn.cluster.DBSCAN:**Perform DBSCAN clustering from vector array or distance matrix\n",
    "\n",
    "**sklearn.cluster.AgglomerativeClustering:**Agglomerative Clustering\n",
    "\n",
    "**sklearn.cluster.SpectralBiclustering:**Spectral bi-clustering"
   ]
  },
  {
   "cell_type": "markdown",
   "metadata": {},
   "source": [
    "## DimensionalityReduction\n",
    "**sklearn.decomposition.PCA:**Principal component analysis (PCA)\n",
    "\n",
    "**sklearn.decomposition.LatentDirichletAllocation:**Latent Dirichlet Allocation with online variational Bayes algorithm\n",
    "\n",
    "**sklearn.decomposition.SparseCoder:**Sparse coding\n",
    "\n",
    "**sklearn.decomposition.DictionaryLearning:**Dictionary learning"
   ]
  },
  {
   "cell_type": "markdown",
   "metadata": {},
   "source": [
    "## Metrics\n",
    "\n",
    "**Regression Metrics**\n",
    "\n",
    "**sklearn.metrics.explained_variance_score:**Explained variance regression score function\n",
    "\n",
    "**sklearn.metrics.mean_absolute_error:**Mean absolute error regression loss\n",
    "\n",
    "**sklearn.metrics.mean_squared_error:**Mean squared error regression loss\n",
    "\n",
    "**sklearn.metrics.mean_squared_log_error:**Mean squared logarithmic error regression loss\n",
    "\n",
    "**sklearn.metrics.median_absolute_error:**Median absolute error regression loss\n",
    "\n",
    "**sklearn.metrics.r2_score:**\tR^2 (coefficient of determination) regression score function\n",
    "\n",
    "**Classification Metrics**\n",
    "\n",
    "**sklearn.metrics.accuracy_score:**Accuracy classification score\n",
    "\n",
    "**sklearn.metrics.log_loss:**Log loss, a.k.a logistic loss or cross-entropy loss\n",
    "\n",
    "**sklearn.metrics.roc_auc_score:**Compute Rece iver operating characteristic (ROC)\n",
    "\n",
    "**sklearn.metrics.classification_report:**Build a text report showing the main classification metrics\n",
    "\n",
    "**sklearn.metrics.confusion_matrix:**Compute confusion matrix to evaluate the accuracy of a classification\n",
    "\n",
    "**sklearn.metrics.precision_recall_curve:**Compute precision-recall pairs for different probability thresholds\n",
    "\n",
    "**sklearn.metrics.roc_curve:**Compute Receiver operating characteristic (ROC)\n",
    "\n",
    "**sklearn.metrics.label_ranking_loss:**Ranking Metric: Compute Ranking loss measure\n",
    "\n",
    "**sklearn.metrics.mutual_info_score:**Clustering Metric: Mutual Information between two clusterings"
   ]
  },
  {
   "cell_type": "markdown",
   "metadata": {},
   "source": [
    "## Miscellaneous\n",
    "**sklearn.datasets.load_boston:**Load and return the boston houseprices dataset (regression)\n",
    "\n",
    "**sklearn.datasets.make_classification: **Generate a random n-class classification problem\n",
    "\n",
    "**sklearn.feature_extraction.FeatureHasher:**Implements feature hashing, a.k.a the hashing trick\n",
    "\n",
    "**sklearn.feature_selection.SelectKBest:**Select features according to the k highest scores\n",
    "\n",
    "**sklearn.pipeline.Pipeline:**Pipeline of transforms with a final estimator\n",
    "\n",
    "**sklearn.semi_supervised.LabelPropagation:**Label Propagation classifier for semisupervised learning"
   ]
  }
 ],
 "metadata": {
  "kernelspec": {
   "display_name": "Python 3",
   "language": "python",
   "name": "python3"
  },
  "language_info": {
   "codemirror_mode": {
    "name": "ipython",
    "version": 3
   },
   "file_extension": ".py",
   "mimetype": "text/x-python",
   "name": "python",
   "nbconvert_exporter": "python",
   "pygments_lexer": "ipython3",
   "version": "3.6.1"
  }
 },
 "nbformat": 4,
 "nbformat_minor": 2
}
